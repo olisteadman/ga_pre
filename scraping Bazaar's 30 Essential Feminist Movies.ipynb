{
 "cells": [
  {
   "cell_type": "markdown",
   "metadata": {},
   "source": [
    "# scraping Bazaar's 30 Essential Feminist Movies\n",
    "also avail as GSheet using IMPORTXML function:\n",
    "https://docs.google.com/spreadsheets/d/1hhZqSdho58_pxy3_lyA050lHE3dPzfOV0oAjdNUYlw4/edit?usp=sharing"
   ]
  },
  {
   "cell_type": "code",
   "execution_count": 25,
   "metadata": {},
   "outputs": [],
   "source": [
    "import requests\n",
    "from bs4 import BeautifulSoup\n",
    "\n",
    "html_doc = requests.get('https://www.harpersbazaar.com/culture/film-tv/g19037519/best-feminist-movies').content\n",
    "soup = BeautifulSoup(html_doc, 'html.parser')\n",
    "# print(soup.prettify())"
   ]
  },
  {
   "cell_type": "code",
   "execution_count": 26,
   "metadata": {},
   "outputs": [
    {
     "name": "stdout",
     "output_type": "stream",
     "text": [
      "30\n"
     ]
    }
   ],
   "source": [
    "data = soup.find_all(attrs={\"class\":\"slideshow-slide-hed\"})\n",
    "print(len(data))"
   ]
  },
  {
   "cell_type": "code",
   "execution_count": 27,
   "metadata": {},
   "outputs": [
    {
     "name": "stdout",
     "output_type": "stream",
     "text": [
      "Jeanne Dielman, 23 Commerce Quay, 1080 Brussels\n",
      "The Passion of Joan of Arc\n",
      "Whale Rider\n",
      "Clueless\n",
      "Alien\n",
      "Thelma and Louise\n",
      "The Trouble with Angels\n",
      "Nine to Five\n",
      "I’ve Heard the Mermaids Singing\n",
      "Wendy and Lucy\n",
      "The Color Purple\n",
      "The Piano\n",
      "Frida\n",
      "Little Women\n",
      "Mad Max Fury Road\n",
      "I Will Follow\n",
      "The Witch\n",
      "Queen of Katwe\n",
      "Per\n",
      "Mustang\n",
      "The Diary of a Teenage Girl\n",
      "Girlhood\n",
      "Iron Jawed Angels\n",
      "In a World…\n",
      "All About Eve\n",
      "Desperately Seeking Susan\n",
      "Orlando\n",
      "Erin Brockovich\n",
      "The Keeping Room\n",
      "The Babadook\n"
     ]
    }
   ],
   "source": [
    "for a in data:\n",
    "    b = a.text.strip()\n",
    "    print(b[1:(len(b)-8)])"
   ]
  }
 ],
 "metadata": {
  "hide_input": false,
  "kernelspec": {
   "display_name": "Python 3",
   "language": "python",
   "name": "python3"
  },
  "language_info": {
   "codemirror_mode": {
    "name": "ipython",
    "version": 3
   },
   "file_extension": ".py",
   "mimetype": "text/x-python",
   "name": "python",
   "nbconvert_exporter": "python",
   "pygments_lexer": "ipython3",
   "version": "3.6.5"
  },
  "toc": {
   "base_numbering": 1,
   "nav_menu": {},
   "number_sections": true,
   "sideBar": true,
   "skip_h1_title": false,
   "title_cell": "Table of Contents",
   "title_sidebar": "Contents",
   "toc_cell": false,
   "toc_position": {},
   "toc_section_display": true,
   "toc_window_display": false
  }
 },
 "nbformat": 4,
 "nbformat_minor": 2
}
