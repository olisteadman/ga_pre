{
 "cells": [
  {
   "cell_type": "markdown",
   "metadata": {
    "hide_input": true
   },
   "source": [
    "<center><img src=\"http://pitchatpalace.com/wp-content/uploads/2018/03/chosen.png\" style=\"margin: 20px; height: 180px; border: 1px solid black\">\n",
    "\n",
    "<font size=20>Technical task for data role</font></center>\n",
    "\n",
    "- For part 1, you can zip me the code and send it by email, but bonus point if it’s a link to a private git (Bitbucket or Github) repo with a proper commit history.\n",
    "- For part 2 you can do it however you want, just text with explanation or in code with comments.\n",
    "- For part 3 if you have working code that would be awesome, if not what’s really important is your thought process so try to explain that as much as you can :)"
   ]
  },
  {
   "cell_type": "markdown",
   "metadata": {},
   "source": [
    "# part 1"
   ]
  },
  {
   "cell_type": "markdown",
   "metadata": {},
   "source": [
    "## Q"
   ]
  },
  {
   "cell_type": "markdown",
   "metadata": {},
   "source": [
    "1 - Given the following JSON structure:\n",
    "\n",
    "`{\n",
    "\"animals\": [\n",
    "{\n",
    "\"type\": \"cat\", #Can be cat/dog/snake/\n",
    "\"name\": \"Doe\", #Can be anything,\n",
    "\"age\": 5, #Integer\n",
    "\"color\" [\n",
    "{\n",
    "\"code\": \"red\" #Can be red,black,yellow,white\n",
    "},\n",
    "]\n",
    "}\n",
    "]\n",
    "}`\n",
    "\n",
    "Write a program sorting the animals by either color or type with the possiblity to save the output to a json or display it formatted in the console\n",
    "Input argument will be a json file.\n",
    "\n",
    "The language used should be Python.\n",
    "\n",
    "Bonus points for unit tests and code readability"
   ]
  },
  {
   "cell_type": "markdown",
   "metadata": {},
   "source": [
    "## A"
   ]
  },
  {
   "cell_type": "code",
   "execution_count": 3,
   "metadata": {},
   "outputs": [
    {
     "name": "stdout",
     "output_type": "stream",
     "text": [
      "ChosenAI_technical-task_for_submission.html\r\n",
      "ChosenAI_technical-task_for_submission.ipynb\r\n",
      "ChosenAI_technical-task_pt3_shorter.ipynb\r\n",
      "\u001b[34m__pycache__\u001b[m\u001b[m\r\n",
      "blah.txt\r\n",
      "jsonsort.py\r\n",
      "jsonsort.txt\r\n",
      "lda_model.sav\r\n",
      "\u001b[34mmallet-2.0.8\u001b[m\u001b[m\r\n",
      "test_jsonsort.py\r\n",
      "time.py\r\n"
     ]
    }
   ],
   "source": [
    "import json\n",
    "from ipywidgets import interact, interactive, fixed, interact_manual, SelectionSlider\n",
    "from pprint import pprint\n",
    "\n",
    "!ls"
   ]
  },
  {
   "cell_type": "code",
   "execution_count": 4,
   "metadata": {
    "scrolled": true
   },
   "outputs": [
    {
     "name": "stderr",
     "output_type": "stream",
     "text": [
      ".\n",
      "----------------------------------------------------------------------\n",
      "Ran 1 test in 0.002s\n",
      "\n",
      "OK\n"
     ]
    }
   ],
   "source": [
    "# lets import unittest script `test_jsonsort.py`, to conduct a test in situ\n",
    "%run -i test_jsonsort.py"
   ]
  },
  {
   "cell_type": "code",
   "execution_count": 5,
   "metadata": {},
   "outputs": [],
   "source": [
    "animals_json = '''{\n",
    "\"animals\": [\n",
    "{\n",
    "\"type\": \"cat\", \"name\": \"Doe\", \"age\": 5, \"color\": [{\"code\": \"red\"}]},\n",
    "{\n",
    "\"type\": \"dog\", \"name\": \"Coe\", \"age\": 3, \"color\": [{\"code\": \"white\"}]},\n",
    "{\n",
    "\"type\": \"snake\", \"name\": \"S\", \"age\": 4, \"color\": [{\"code\": \"black\"}]}\n",
    "]}'''\n",
    "\n",
    "data = json.loads(animals_json)\n",
    "animals = data['animals']\n",
    "\n",
    "# assuming animal 0 has typical schema, what are the keys for all animals?\n",
    "animalzero = animals[0]\n",
    "animalkeys = list(animalzero.keys())\n",
    "sortedkeys = sorted(animalkeys)"
   ]
  },
  {
   "cell_type": "code",
   "execution_count": null,
   "metadata": {},
   "outputs": [],
   "source": []
  },
  {
   "cell_type": "code",
   "execution_count": 6,
   "metadata": {
    "scrolled": true
   },
   "outputs": [
    {
     "data": {
      "application/vnd.jupyter.widget-view+json": {
       "model_id": "bc0e98589b2a49188ea604b5829b8e92",
       "version_major": 2,
       "version_minor": 0
      },
      "text/plain": [
       "interactive(children=(Text(value='{\\n\"animals\": [\\n{\\n\"type\": \"cat\", \"name\": \"Doe\", \"age\": 5, \"color\": [{\"code…"
      ]
     },
     "metadata": {},
     "output_type": "display_data"
    }
   ],
   "source": [
    "# lets import the sort script `jsonsort.py`, to conduct a demo using ipywidget\n",
    "from jsonsort import animaux\n",
    "\n",
    "# define the interactive version of the sort script, for running here in .ipynb\n",
    "def interactive_animaux(json_raw=animals_json, sort_by='age', reverse=False):\n",
    "    print(\"Here's your json_raw sorted by ⭐️\\33[1m\\33[96m\", sort_by, '\\33[0m⭐️')\n",
    "    pprint(animaux(json_raw=json_raw, sort_by=sort_by, reverse=reverse))\n",
    "\n",
    "# #     uncomment the following to save output in `jsonsort.txt`\n",
    "# #     (this is already performed by the .py script but not when run as .ipynb)\n",
    "#     with open('jsonsort.txt', 'w') as file_update:\n",
    "#          json.dump(animaux(json_raw=json_raw, sort_by=sort_by, reverse=reverse),\n",
    "#                    file_update)\n",
    "\n",
    "\n",
    "interact(interactive_animaux,\n",
    "         sort_by={x: x for x in sortedkeys},\n",
    "         );"
   ]
  },
  {
   "cell_type": "markdown",
   "metadata": {},
   "source": [
    "# part 2"
   ]
  },
  {
   "cell_type": "markdown",
   "metadata": {},
   "source": [
    "## Q"
   ]
  },
  {
   "cell_type": "markdown",
   "metadata": {},
   "source": [
    "2 - What is the following piece of code doing, what's wrong with it, and how would you refactor it (You can assume nothing is relying on this code)?\n",
    "\n",
    "`import json\n",
    "import csv\n",
    "import datetime\n",
    "import time`\n",
    "\n",
    "`def func(var1,var2,var3,var4):\n",
    "    dictionary = {}\n",
    "    for value in var4:\n",
    "        dictionary[value['n']] = time.mktime(time.strptime(value['b'],var2))\n",
    "        with open(var1, 'w') as var5:\n",
    "             json.dump(dictionary, var5)`\n",
    "\n",
    "`func('blah.txt', '%d %b %y', [\n",
    "{\n",
    "\"n\": 'John Doe',\n",
    "'b':'30 Nov 98'\n",
    "},{’n': 'Josh Doe', 'b':'12 Apr 86'}])`"
   ]
  },
  {
   "cell_type": "markdown",
   "metadata": {},
   "source": [
    "## A"
   ]
  },
  {
   "cell_type": "markdown",
   "metadata": {},
   "source": [
    "purpose of the function:\n",
    "- trying to find the difference between user DoB and starting date `01/01/1970 00:00:00`, by\n",
    "- reading users' details from a python list of dicts,\n",
    "- using `strptime` to convert date string to date value in seconds,\n",
    "- and converting reformatted dict to jso to updata a text file.\n",
    "\n",
    "issues with the code:\n",
    "- 2x libraries imported without being used\n",
    "- could probably use a generator instead of the list... not 100% sure on this though\n",
    "- the context manager `with` and the `json.dump()` are being carried out per user, can just do this once instead (per dictionary)\n",
    "- `func()` could be improved by using more descriptive arg names\n",
    "- `func()` is missing 1 required positional argument: either `var3` or `var4`\n",
    "- json.dump is indented by 5 rather than 4 spaces, relative to the previous line\n",
    "- in final line (applying the function to some user data) there's an accent \\` instead of a quote '.\n",
    "\n",
    "refactored version:"
   ]
  },
  {
   "cell_type": "code",
   "execution_count": 1,
   "metadata": {},
   "outputs": [],
   "source": [
    "import json\n",
    "import time\n",
    "\n",
    "\n",
    "def func(txt_old, date_format, users_list):\n",
    "    dictionary = {}\n",
    "    for value in users_list:\n",
    "        dictionary[value['n']] = time.mktime(\n",
    "            time.strptime(value['b'], date_format))\n",
    "    with open(txt_old, 'w') as txt_new:\n",
    "        json.dump(dictionary, txt_new)\n",
    "\n",
    "\n",
    "func('blah.txt', '%d %b %y',\n",
    "     [\n",
    "         {\"n\": 'John Doe', 'b': '30 Nov 98'},\n",
    "         {'n': 'Josh Doe', 'b': '12 Apr 86'}],\n",
    "     )"
   ]
  },
  {
   "cell_type": "markdown",
   "metadata": {},
   "source": [
    "# part 3"
   ]
  },
  {
   "cell_type": "markdown",
   "metadata": {
    "heading_collapsed": true
   },
   "source": [
    "## Q"
   ]
  },
  {
   "cell_type": "markdown",
   "metadata": {
    "hidden": true
   },
   "source": [
    "The Data Science team has just built a scraper that hoovered all the recommendations data from AngelList. After a quick chat with your project team, everybody thought it would be a great idea to index those reviews and make them searchable.\n",
    "\n",
    "3 - Can you write a python script (or use another language of your choice) to (a) parse the following  json data stream, (b) create an LDA or another model of your choice for the review data and (c) convert the reviews into feature vectors using the model that you built. Command-line driven scripts are fine (e.g., with input and output filenames)\n",
    "\n",
    "`{[ 'name ': 'Donna Summer',\n",
    "    'updated': '2016-02-26T09:09:37',\n",
    "    'recommendations': [\n",
    "        'I worked with Donna for 5 years and can highly recommend her as an experienced, knowledgeable. She is very hardworking designer with a meticulous eye for detail and creativity’,\n",
    "        'I have worked with Donna for a number of years and have always found her to be extremely professional and a real expert in her field. '\n",
    "        'Donna is always on the ball, highly organised and a real pleasure to work with.'\n",
    "    ]\n",
    " ],\n",
    " [ 'name': ‘Justin Bieber’,\n",
    "    'updated': '2016-02-26T09:09:37',\n",
    "    'recommendations': [\n",
    "        'Justin is a consummate professional and a pleasure to work with at all times!’\n",
    "    ]\n",
    " ]}`"
   ]
  },
  {
   "cell_type": "markdown",
   "metadata": {
    "heading_collapsed": true
   },
   "source": [
    "## A part A: parsing a dirty json data stream"
   ]
  },
  {
   "cell_type": "code",
   "execution_count": 6,
   "metadata": {
    "hidden": true,
    "scrolled": true
   },
   "outputs": [
    {
     "name": "stdout",
     "output_type": "stream",
     "text": [
      "[{'name': 'Donna Summer',\n",
      "  'recommendations': ['I worked with Donna for 5 years and can highly '\n",
      "                      'recommend her as an experienced, knowledgeable. She is '\n",
      "                      'very hardworking designer with a meticulous eye for '\n",
      "                      'detail and creativity',\n",
      "                      'I have worked with Donna for a number of years and have '\n",
      "                      'always found her to be extremely professional and a '\n",
      "                      'real expert in her field.',\n",
      "                      'Donna is always on the ball, highly organised and a '\n",
      "                      'real pleasure to work with.',\n",
      "                      'Never fails to deliver, is an on the ball and '\n",
      "                      'professional worker',\n",
      "                      'Is just so on the ball, I can highly recommend for work '\n",
      "                      'ethic'],\n",
      "  'updated': '2016-02-26T09:09:37'},\n",
      " {'name': 'Justin Bieber',\n",
      "  'recommendations': ['Justin is a consummate professional and a pleasure to '\n",
      "                      'work with at all times!'],\n",
      "  'updated': '2016-02-26T09:09:37'}]\n"
     ]
    }
   ],
   "source": [
    "import json\n",
    "from pprint import pprint\n",
    "\n",
    "# add 2 new recommendations for Donna, to test n-gram detection for phrase \"on the ball\"\n",
    "stream = '''\n",
    "{[ 'name ': 'Donna Summer',\n",
    "    'updated': '2016-02-26T09:09:37',\n",
    "    'recommendations': [\n",
    "        'I worked with Donna for 5 years and can highly recommend her as an experienced, knowledgeable. She is very hardworking designer with a meticulous eye for detail and creativity’,\n",
    "        'I have worked with Donna for a number of years and have always found her to be extremely professional and a real expert in her field. '\n",
    "        'Donna is always on the ball, highly organised and a real pleasure to work with.',\n",
    "        'Never fails to deliver, is an on the ball and professional worker’,\n",
    "        'Is just so on the ball, I can highly recommend for work ethic’\n",
    "    ]\n",
    " ],\n",
    " [ 'name': ‘Justin Bieber’,\n",
    "    'updated': '2016-02-26T09:09:37',\n",
    "    'recommendations': [\n",
    "        'Justin is a consummate professional and a pleasure to work with at all times!’\n",
    "    ]\n",
    " ]}\n",
    "'''\n",
    "\n",
    "# apply some edits to the raw string... probably best to RegEx but time did not allow!\n",
    "substitutions_to_make = [\n",
    "\n",
    "    # remove single spaces at ends of keys\n",
    "    (' \"', '\"'),\n",
    "    (\" '\", '\"'),\n",
    "\n",
    "    # remove some apostrophes which were used instead of quotes\n",
    "    (\"‘\", '\"'),\n",
    "    (\"’\", '\"'),\n",
    "    (\"'\", '\"'),\n",
    "\n",
    "    # trim the text data\n",
    "    (\"    \", ' '),\n",
    "    (\"   \", ' '),\n",
    "    (\"  \", ' '),\n",
    "    (\"\\n\", ''),\n",
    "\n",
    "    # apply other edits as necessary to reach correct json format\n",
    "    (\"[ \", '['),\n",
    "    (\" ]\", ']'),\n",
    "    (\"{[\", '[{'),\n",
    "    (\"]}\", '}]'),\n",
    "    ('\" \"', '\", \"'),\n",
    "    (']], [', ']}, {')\n",
    "\n",
    "]\n",
    "\n",
    "for old, new in substitutions_to_make:\n",
    "    stream = stream.replace(old, new)\n",
    "\n",
    "data = json.loads(stream)\n",
    "pprint(data)"
   ]
  },
  {
   "cell_type": "code",
   "execution_count": 7,
   "metadata": {
    "hidden": true
   },
   "outputs": [
    {
     "data": {
      "text/html": [
       "<div>\n",
       "<style scoped>\n",
       "    .dataframe tbody tr th:only-of-type {\n",
       "        vertical-align: middle;\n",
       "    }\n",
       "\n",
       "    .dataframe tbody tr th {\n",
       "        vertical-align: top;\n",
       "    }\n",
       "\n",
       "    .dataframe thead th {\n",
       "        text-align: right;\n",
       "    }\n",
       "</style>\n",
       "<table border=\"1\" class=\"dataframe\">\n",
       "  <thead>\n",
       "    <tr style=\"text-align: right;\">\n",
       "      <th></th>\n",
       "      <th>name</th>\n",
       "      <th>reco_count</th>\n",
       "      <th>recommendations</th>\n",
       "    </tr>\n",
       "  </thead>\n",
       "  <tbody>\n",
       "    <tr>\n",
       "      <th>0</th>\n",
       "      <td>Donna Summer</td>\n",
       "      <td>5</td>\n",
       "      <td>[I worked with Donna for 5 years and can highl...</td>\n",
       "    </tr>\n",
       "    <tr>\n",
       "      <th>1</th>\n",
       "      <td>Justin Bieber</td>\n",
       "      <td>1</td>\n",
       "      <td>[Justin is a consummate professional and a ple...</td>\n",
       "    </tr>\n",
       "  </tbody>\n",
       "</table>\n",
       "</div>"
      ],
      "text/plain": [
       "            name  reco_count  \\\n",
       "0   Donna Summer           5   \n",
       "1  Justin Bieber           1   \n",
       "\n",
       "                                     recommendations  \n",
       "0  [I worked with Donna for 5 years and can highl...  \n",
       "1  [Justin is a consummate professional and a ple...  "
      ]
     },
     "execution_count": 7,
     "metadata": {},
     "output_type": "execute_result"
    }
   ],
   "source": [
    "df = pd.DataFrame({'name':[data[worker]['name'] for worker in range(len(data))],\n",
    "                   'recommendations':[data[worker]['recommendations'] for worker in range(len(data))],\n",
    "                   'reco_count':[len(data[worker]['recommendations']) for worker in range(len(data))]}\n",
    "                 )\n",
    "df"
   ]
  },
  {
   "cell_type": "markdown",
   "metadata": {
    "heading_collapsed": true
   },
   "source": [
    "## A parts B-C: LDA model & feature vectors for the recommendations data"
   ]
  },
  {
   "cell_type": "code",
   "execution_count": 8,
   "metadata": {
    "hidden": true
   },
   "outputs": [
    {
     "name": "stdout",
     "output_type": "stream",
     "text": [
      "[nltk_data] Downloading package stopwords to\n",
      "[nltk_data]     /Users/oliversteadman/nltk_data...\n",
      "[nltk_data]   Package stopwords is already up-to-date!\n"
     ]
    }
   ],
   "source": [
    "import pandas as pd; import pickle\n",
    "\n",
    "# import NLTK (for its stopwords)\n",
    "import nltk; nltk.download('stopwords')\n",
    "from nltk.corpus import stopwords\n",
    "stop_words = stopwords.words('english')\n",
    "stop_words.extend(['from', 'subject', 're', 'edu', 'use'])\n",
    "\n",
    "# gensim for topic modelling\n",
    "import gensim\n",
    "import gensim.corpora as corpora\n",
    "from gensim.utils import simple_preprocess\n",
    "from gensim.models import CoherenceModel\n",
    "\n",
    "# spacy for lemmatization\n",
    "import spacy\n",
    "\n",
    "# plotting tools\n",
    "import pyLDAvis; import pyLDAvis.gensim\n",
    "import matplotlib.pyplot as plt\n",
    "%matplotlib inline\n",
    "\n",
    "# tidy up the output\n",
    "import warnings\n",
    "warnings.filterwarnings(\"ignore\",category=DeprecationWarning)"
   ]
  },
  {
   "cell_type": "code",
   "execution_count": 9,
   "metadata": {
    "hidden": true
   },
   "outputs": [
    {
     "name": "stdout",
     "output_type": "stream",
     "text": [
      "['justin', 'is', 'consummate', 'professional', 'and', 'pleasure', 'to', 'work', 'with', 'at', 'all', 'times']\n"
     ]
    }
   ],
   "source": [
    "def sent_to_words(sentences):\n",
    "    for sentence in sentences:\n",
    "        yield(gensim.utils.simple_preprocess(\n",
    "            str(sentence),\n",
    "\n",
    "            # remove punctuation\n",
    "            deacc=True\n",
    "        ))\n",
    "\n",
    "\n",
    "data_words = list(sent_to_words(\n",
    "    \n",
    "    # cleaned json stream as obtained in pt1 above\n",
    "    df['recommendations']))\n",
    "\n",
    "# lets check that for Justin's recommendation\n",
    "print(data_words[1])"
   ]
  },
  {
   "cell_type": "code",
   "execution_count": 10,
   "metadata": {
    "hidden": true
   },
   "outputs": [
    {
     "name": "stdout",
     "output_type": "stream",
     "text": [
      "['worked', 'with', 'donna', 'for', 'years', 'and', 'can', 'highly', 'recommend', 'her', 'as', 'an', 'experienced', 'knowledgeable', 'she', 'is', 'very', 'hardworking', 'designer', 'with', 'meticulous', 'eye', 'for', 'detail', 'and', 'creativity', 'have', 'worked', 'with', 'donna', 'for', 'number', 'of', 'years', 'and', 'have', 'always', 'found', 'her', 'to', 'be', 'extremely', 'professional', 'and', 'real', 'expert', 'in', 'her', 'field', 'donna', 'is', 'always', 'on_the_ball', 'highly', 'organised', 'and', 'real', 'pleasure', 'to', 'work', 'with', 'never', 'fails', 'to', 'deliver', 'is', 'an', 'on_the_ball', 'and', 'professional', 'worker', 'is', 'just', 'so', 'on_the_ball', 'can', 'highly', 'recommend', 'for', 'work', 'ethic']\n"
     ]
    },
    {
     "name": "stderr",
     "output_type": "stream",
     "text": [
      "/Users/oliversteadman/anaconda3/lib/python3.6/site-packages/gensim/models/phrases.py:494: UserWarning: For a faster implementation, use the gensim.models.phrases.Phraser class\n",
      "  warnings.warn(\"For a faster implementation, use the gensim.models.phrases.Phraser class\")\n"
     ]
    }
   ],
   "source": [
    "# grab bigram & trigram models\n",
    "bigram = gensim.models.Phrases(data_words, min_count=2)\n",
    "trigram = gensim.models.Phrases(bigram[data_words], min_count=2)\n",
    "\n",
    "# lets check that, now for Donna's recommendations (mainly checking for trigram \"on_the_ball\")\n",
    "print(trigram[bigram[data_words[0]]])"
   ]
  },
  {
   "cell_type": "code",
   "execution_count": 11,
   "metadata": {
    "hidden": true
   },
   "outputs": [],
   "source": [
    "# we'll need to remove stops, bigrams, trigrams, and apply lemmatization\n",
    "def remove_stopwords(texts):\n",
    "    return [[word for word in simple_preprocess(str(doc))\n",
    "             if word not in stop_words]\n",
    "            for doc in texts]\n",
    "\n",
    "\n",
    "def make_bigrams(texts):\n",
    "    return [bigram[doc] for doc in texts]\n",
    "\n",
    "\n",
    "def make_trigrams(texts):\n",
    "    return [trigram[bigram[doc]] for doc in texts]\n",
    "\n",
    "\n",
    "# initialize spacy 'en' model; will be needed in lemmatization function below\n",
    "nlp = spacy.load('en', disable=['parser', 'ner'])\n",
    "\n",
    "\n",
    "def lemmatization(texts, allowed_postags=['NOUN', 'ADJ', 'VERB', 'ADV']):\n",
    "    \"\"\"https://spacy.io/api/annotation\"\"\"\n",
    "    texts_out = []\n",
    "    for sent in texts:\n",
    "        doc = nlp(\" \".join(sent))\n",
    "        texts_out.append([token.lemma_\n",
    "                          for token in doc\n",
    "                          if token.pos_ in allowed_postags])\n",
    "    return texts_out"
   ]
  },
  {
   "cell_type": "code",
   "execution_count": 12,
   "metadata": {
    "hidden": true
   },
   "outputs": [
    {
     "name": "stdout",
     "output_type": "stream",
     "text": [
      "[['work', 'donna', 'year', 'highly', 'recommend', 'experience', 'knowledgeable', 'hardworking', 'designer', 'meticulous', 'eye', 'detail', 'creativity', 'work', 'donna', 'number', 'year', 'always', 'find', 'extremely', 'professional', 'real', 'expert', 'field', 'donna', 'always', 'highly', 'organise', 'real', 'pleasure', 'work', 'never', 'fail', 'deliver', 'on_the_ball', 'professional', 'worker', 'on_the_ball', 'highly', 'recommend', 'work', 'ethic']]\n"
     ]
    },
    {
     "name": "stderr",
     "output_type": "stream",
     "text": [
      "/Users/oliversteadman/anaconda3/lib/python3.6/site-packages/gensim/models/phrases.py:494: UserWarning: For a faster implementation, use the gensim.models.phrases.Phraser class\n",
      "  warnings.warn(\"For a faster implementation, use the gensim.models.phrases.Phraser class\")\n"
     ]
    }
   ],
   "source": [
    "# lets apply those functions in an order that preserves \"on the ball\" trigram\n",
    "data_words_bigrams = make_bigrams(data_words)\n",
    "data_words_trigrams = make_trigrams(data_words_bigrams)\n",
    "data_words_nostops = remove_stopwords(data_words_trigrams)\n",
    "\n",
    "# lemmatize, restricting to 4 key parts of speech\n",
    "data_lemmatized = lemmatization(data_words_nostops, allowed_postags=['NOUN', 'ADJ', 'VERB', 'ADV'])\n",
    "\n",
    "# lets check that\n",
    "print(data_lemmatized[:1])"
   ]
  },
  {
   "cell_type": "code",
   "execution_count": 13,
   "metadata": {
    "hidden": true
   },
   "outputs": [
    {
     "name": "stdout",
     "output_type": "stream",
     "text": [
      "[[(0, 2), (1, 1), (2, 1), (3, 1), (4, 1), (5, 3), (6, 1), (7, 1), (8, 1), (9, 1), (10, 1), (11, 1), (12, 1), (13, 1), (14, 1), (15, 3), (16, 1), (17, 1), (18, 1), (19, 1), (20, 2), (21, 1), (22, 1), (23, 2), (24, 2), (25, 2), (26, 4), (27, 1), (28, 2)]]\n"
     ]
    },
    {
     "data": {
      "text/plain": [
       "[[('always', 2),\n",
       "  ('creativity', 1),\n",
       "  ('deliver', 1),\n",
       "  ('designer', 1),\n",
       "  ('detail', 1),\n",
       "  ('donna', 3),\n",
       "  ('ethic', 1),\n",
       "  ('experience', 1),\n",
       "  ('expert', 1),\n",
       "  ('extremely', 1),\n",
       "  ('eye', 1),\n",
       "  ('fail', 1),\n",
       "  ('field', 1),\n",
       "  ('find', 1),\n",
       "  ('hardworking', 1),\n",
       "  ('highly', 3),\n",
       "  ('knowledgeable', 1),\n",
       "  ('meticulous', 1),\n",
       "  ('never', 1),\n",
       "  ('number', 1),\n",
       "  ('on_the_ball', 2),\n",
       "  ('organise', 1),\n",
       "  ('pleasure', 1),\n",
       "  ('professional', 2),\n",
       "  ('real', 2),\n",
       "  ('recommend', 2),\n",
       "  ('work', 4),\n",
       "  ('worker', 1),\n",
       "  ('year', 2)]]"
      ]
     },
     "execution_count": 13,
     "metadata": {},
     "output_type": "execute_result"
    }
   ],
   "source": [
    "# create our dictionary\n",
    "id2word = corpora.Dictionary(data_lemmatized)\n",
    "\n",
    "# create our corpus\n",
    "texts = data_lemmatized\n",
    "\n",
    "# set TDF\n",
    "corpus = [id2word.doc2bow(text) for text in texts]\n",
    "\n",
    "# lets check that\n",
    "print(corpus[:1])\n",
    "[[(id2word[id], freq) for id, freq in cp] for cp in corpus[:1]]"
   ]
  },
  {
   "cell_type": "code",
   "execution_count": 14,
   "metadata": {
    "hidden": true
   },
   "outputs": [],
   "source": [
    "# build LDA model and pickle it,\n",
    "# then comment out this cell, using pickle to load in\n",
    "lda_model = gensim.models.ldamodel.LdaModel(corpus=corpus,\n",
    "                                           id2word=id2word,\n",
    "                                           num_topics=10, \n",
    "                                           random_state=100,\n",
    "                                           update_every=1,\n",
    "                                           chunksize=100,\n",
    "                                           passes=10,\n",
    "                                           alpha='auto',\n",
    "                                           per_word_topics=True)\n",
    "pickle.dump(lda_model, open('lda_model.sav', 'wb'))"
   ]
  },
  {
   "cell_type": "code",
   "execution_count": 15,
   "metadata": {
    "hidden": true
   },
   "outputs": [],
   "source": [
    "lda_model = pickle.load(open('lda_model.sav', 'rb'))"
   ]
  },
  {
   "cell_type": "code",
   "execution_count": 16,
   "metadata": {
    "hidden": true
   },
   "outputs": [
    {
     "name": "stdout",
     "output_type": "stream",
     "text": [
      "[(0,\n",
      "  '0.031*\"professional\" + 0.031*\"pleasure\" + 0.031*\"time\" + 0.031*\"justin\" + '\n",
      "  '0.031*\"consummate\" + 0.031*\"work\" + 0.031*\"highly\" + 0.031*\"donna\" + '\n",
      "  '0.031*\"real\" + 0.031*\"on_the_ball\"'),\n",
      " (1,\n",
      "  '0.031*\"work\" + 0.031*\"professional\" + 0.031*\"pleasure\" + 0.031*\"time\" + '\n",
      "  '0.031*\"consummate\" + 0.031*\"justin\" + 0.031*\"highly\" + 0.031*\"donna\" + '\n",
      "  '0.031*\"real\" + 0.031*\"year\"'),\n",
      " (2,\n",
      "  '0.033*\"work\" + 0.032*\"highly\" + 0.032*\"donna\" + 0.032*\"real\" + 0.032*\"year\" '\n",
      "  '+ 0.032*\"on_the_ball\" + 0.032*\"always\" + 0.032*\"professional\" + '\n",
      "  '0.031*\"recommend\" + 0.031*\"ethic\"'),\n",
      " (3,\n",
      "  '0.031*\"consummate\" + 0.031*\"pleasure\" + 0.031*\"work\" + 0.031*\"professional\" '\n",
      "  '+ 0.031*\"highly\" + 0.031*\"justin\" + 0.031*\"time\" + 0.031*\"year\" + '\n",
      "  '0.031*\"always\" + 0.031*\"real\"'),\n",
      " (4,\n",
      "  '0.100*\"work\" + 0.061*\"professional\" + 0.061*\"donna\" + 0.061*\"highly\" + '\n",
      "  '0.041*\"pleasure\" + 0.041*\"recommend\" + 0.041*\"always\" + 0.041*\"on_the_ball\" '\n",
      "  '+ 0.041*\"year\" + 0.041*\"real\"'),\n",
      " (5,\n",
      "  '0.031*\"pleasure\" + 0.031*\"professional\" + 0.031*\"time\" + 0.031*\"work\" + '\n",
      "  '0.031*\"justin\" + 0.031*\"consummate\" + 0.031*\"year\" + 0.031*\"highly\" + '\n",
      "  '0.031*\"donna\" + 0.031*\"on_the_ball\"'),\n",
      " (6,\n",
      "  '0.031*\"professional\" + 0.031*\"pleasure\" + 0.031*\"time\" + 0.031*\"consummate\" '\n",
      "  '+ 0.031*\"work\" + 0.031*\"justin\" + 0.031*\"highly\" + 0.031*\"donna\" + '\n",
      "  '0.031*\"meticulous\" + 0.031*\"year\"'),\n",
      " (7,\n",
      "  '0.031*\"work\" + 0.031*\"pleasure\" + 0.031*\"time\" + 0.031*\"justin\" + '\n",
      "  '0.031*\"consummate\" + 0.031*\"professional\" + 0.031*\"highly\" + 0.031*\"donna\" '\n",
      "  '+ 0.031*\"real\" + 0.031*\"recommend\"'),\n",
      " (8,\n",
      "  '0.031*\"pleasure\" + 0.031*\"professional\" + 0.031*\"work\" + 0.031*\"consummate\" '\n",
      "  '+ 0.031*\"time\" + 0.031*\"justin\" + 0.031*\"year\" + 0.031*\"recommend\" + '\n",
      "  '0.031*\"real\" + 0.031*\"highly\"'),\n",
      " (9,\n",
      "  '0.031*\"pleasure\" + 0.031*\"professional\" + 0.031*\"justin\" + '\n",
      "  '0.031*\"consummate\" + 0.031*\"work\" + 0.031*\"time\" + 0.031*\"donna\" + '\n",
      "  '0.031*\"year\" + 0.031*\"recommend\" + 0.031*\"real\"')]\n"
     ]
    }
   ],
   "source": [
    "# check the top 10 tokens for each of the 10 topics\n",
    "pprint(lda_model.print_topics())\n",
    "doc_lda = lda_model[corpus]"
   ]
  },
  {
   "cell_type": "code",
   "execution_count": 17,
   "metadata": {
    "hidden": true
   },
   "outputs": [
    {
     "name": "stdout",
     "output_type": "stream",
     "text": [
      "Perplexity = -4.526982719699542\n",
      "Coherence = 0.5931530408648736\n"
     ]
    }
   ],
   "source": [
    "# lets check the perplexity score (lower score = better model)\n",
    "print('Perplexity =', lda_model.log_perplexity(corpus))\n",
    "\n",
    "# and the coherence score (will try to improve it, using mallet)\n",
    "coherence_model_lda = CoherenceModel(model=lda_model,\n",
    "                                     texts=data_lemmatized,\n",
    "                                     dictionary=id2word,\n",
    "                                     coherence='c_v')\n",
    "coherence_lda = coherence_model_lda.get_coherence()\n",
    "print('Coherence =', coherence_lda)"
   ]
  },
  {
   "cell_type": "code",
   "execution_count": 18,
   "metadata": {
    "hidden": true,
    "scrolled": false
   },
   "outputs": [
    {
     "data": {
      "text/html": [
       "\n",
       "<link rel=\"stylesheet\" type=\"text/css\" href=\"https://cdn.rawgit.com/bmabey/pyLDAvis/files/ldavis.v1.0.0.css\">\n",
       "\n",
       "\n",
       "<div id=\"ldavis_el99727476835461660587028\"></div>\n",
       "<script type=\"text/javascript\">\n",
       "\n",
       "var ldavis_el99727476835461660587028_data = {\"mdsDat\": {\"Freq\": [98.779052734375, 0.17780683934688568, 0.1303960084915161, 0.13039477169513702, 0.13039319217205048, 0.1303928643465042, 0.13039278984069824, 0.13039225339889526, 0.13039200007915497, 0.13039158284664154], \"cluster\": [1, 1, 1, 1, 1, 1, 1, 1, 1, 1], \"topics\": [1, 2, 3, 4, 5, 6, 7, 8, 9, 10], \"x\": [-0.02474551009801008, 0.0025753381311918403, 0.0027702266253636916, 0.0027715999758485344, 0.002771602149102575, 0.0027710933100199378, 0.0027709567469167947, 0.0027717119257212462, 0.002771480321721193, 0.002771500912124269], \"y\": [-0.006137371096740866, 0.0006358017285306864, 0.0006915848256390307, 0.0006864405540812292, 0.0006864326253762557, 0.0006884200249295249, 0.0006889349022115689, 0.0006859924179492832, 0.0006869253621888684, 0.0006868386558344188]}, \"tinfo\": {\"Category\": [\"Default\", \"Default\", \"Default\", \"Default\", \"Default\", \"Default\", \"Default\", \"Default\", \"Default\", \"Default\", \"Default\", \"Default\", \"Default\", \"Default\", \"Default\", \"Default\", \"Default\", \"Default\", \"Default\", \"Default\", \"Default\", \"Default\", \"Default\", \"Default\", \"Default\", \"Default\", \"Default\", \"Default\", \"Default\", \"Default\", \"Topic1\", \"Topic1\", \"Topic1\", \"Topic1\", \"Topic1\", \"Topic1\", \"Topic1\", \"Topic1\", \"Topic1\", \"Topic1\", \"Topic1\", \"Topic1\", \"Topic1\", \"Topic1\", \"Topic1\", \"Topic1\", \"Topic1\", \"Topic1\", \"Topic1\", \"Topic1\", \"Topic1\", \"Topic1\", \"Topic1\", \"Topic1\", \"Topic1\", \"Topic1\", \"Topic1\", \"Topic1\", \"Topic1\", \"Topic1\", \"Topic2\", \"Topic2\", \"Topic2\", \"Topic2\", \"Topic2\", \"Topic2\", \"Topic2\", \"Topic2\", \"Topic2\", \"Topic2\", \"Topic2\", \"Topic2\", \"Topic2\", \"Topic2\", \"Topic2\", \"Topic2\", \"Topic2\", \"Topic2\", \"Topic2\", \"Topic2\", \"Topic2\", \"Topic2\", \"Topic2\", \"Topic2\", \"Topic2\", \"Topic2\", \"Topic2\", \"Topic2\", \"Topic2\", \"Topic2\", \"Topic2\", \"Topic2\", \"Topic3\", \"Topic3\", \"Topic3\", \"Topic3\", \"Topic3\", \"Topic3\", \"Topic3\", \"Topic3\", \"Topic3\", \"Topic3\", \"Topic3\", \"Topic3\", \"Topic3\", \"Topic3\", \"Topic3\", \"Topic3\", \"Topic3\", \"Topic3\", \"Topic3\", \"Topic3\", \"Topic3\", \"Topic3\", \"Topic3\", \"Topic3\", \"Topic3\", \"Topic3\", \"Topic3\", \"Topic3\", \"Topic3\", \"Topic3\", \"Topic3\", \"Topic3\", \"Topic4\", \"Topic4\", \"Topic4\", \"Topic4\", \"Topic4\", \"Topic4\", \"Topic4\", \"Topic4\", \"Topic4\", \"Topic4\", \"Topic4\", \"Topic4\", \"Topic4\", \"Topic4\", \"Topic4\", \"Topic4\", \"Topic4\", \"Topic4\", \"Topic4\", \"Topic4\", \"Topic4\", \"Topic4\", \"Topic4\", \"Topic4\", \"Topic4\", \"Topic4\", \"Topic4\", \"Topic4\", \"Topic4\", \"Topic4\", \"Topic4\", \"Topic4\", \"Topic5\", \"Topic5\", \"Topic5\", \"Topic5\", \"Topic5\", \"Topic5\", \"Topic5\", \"Topic5\", \"Topic5\", \"Topic5\", \"Topic5\", \"Topic5\", \"Topic5\", \"Topic5\", \"Topic5\", \"Topic5\", \"Topic5\", \"Topic5\", \"Topic5\", \"Topic5\", \"Topic5\", \"Topic5\", \"Topic5\", \"Topic5\", \"Topic5\", \"Topic5\", \"Topic5\", \"Topic5\", \"Topic5\", \"Topic5\", \"Topic5\", \"Topic5\", \"Topic6\", \"Topic6\", \"Topic6\", \"Topic6\", \"Topic6\", \"Topic6\", \"Topic6\", \"Topic6\", \"Topic6\", \"Topic6\", \"Topic6\", \"Topic6\", \"Topic6\", \"Topic6\", \"Topic6\", \"Topic6\", \"Topic6\", \"Topic6\", \"Topic6\", \"Topic6\", \"Topic6\", \"Topic6\", \"Topic6\", \"Topic6\", \"Topic6\", \"Topic6\", \"Topic6\", \"Topic6\", \"Topic6\", \"Topic6\", \"Topic6\", \"Topic6\", \"Topic7\", \"Topic7\", \"Topic7\", \"Topic7\", \"Topic7\", \"Topic7\", \"Topic7\", \"Topic7\", \"Topic7\", \"Topic7\", \"Topic7\", \"Topic7\", \"Topic7\", \"Topic7\", \"Topic7\", \"Topic7\", \"Topic7\", \"Topic7\", \"Topic7\", \"Topic7\", \"Topic7\", \"Topic7\", \"Topic7\", \"Topic7\", \"Topic7\", \"Topic7\", \"Topic7\", \"Topic7\", \"Topic7\", \"Topic7\", \"Topic7\", \"Topic7\", \"Topic8\", \"Topic8\", \"Topic8\", \"Topic8\", \"Topic8\", \"Topic8\", \"Topic8\", \"Topic8\", \"Topic8\", \"Topic8\", \"Topic8\", \"Topic8\", \"Topic8\", \"Topic8\", \"Topic8\", \"Topic8\", \"Topic8\", \"Topic8\", \"Topic8\", \"Topic8\", \"Topic8\", \"Topic8\", \"Topic8\", \"Topic8\", \"Topic8\", \"Topic8\", \"Topic8\", \"Topic8\", \"Topic8\", \"Topic8\", \"Topic8\", \"Topic8\", \"Topic9\", \"Topic9\", \"Topic9\", \"Topic9\", \"Topic9\", \"Topic9\", \"Topic9\", \"Topic9\", \"Topic9\", \"Topic9\", \"Topic9\", \"Topic9\", \"Topic9\", \"Topic9\", \"Topic9\", \"Topic9\", \"Topic9\", \"Topic9\", \"Topic9\", \"Topic9\", \"Topic9\", \"Topic9\", \"Topic9\", \"Topic9\", \"Topic9\", \"Topic9\", \"Topic9\", \"Topic9\", \"Topic9\", \"Topic9\", \"Topic9\", \"Topic9\", \"Topic10\", \"Topic10\", \"Topic10\", \"Topic10\", \"Topic10\", \"Topic10\", \"Topic10\", \"Topic10\", \"Topic10\", \"Topic10\", \"Topic10\", \"Topic10\", \"Topic10\", \"Topic10\", \"Topic10\", \"Topic10\", \"Topic10\", \"Topic10\", \"Topic10\", \"Topic10\", \"Topic10\", \"Topic10\", \"Topic10\", \"Topic10\", \"Topic10\", \"Topic10\", \"Topic10\", \"Topic10\", \"Topic10\", \"Topic10\", \"Topic10\", \"Topic10\"], \"Freq\": [4.0, 2.0, 2.0, 2.0, 1.0, 1.0, 1.0, 1.0, 1.0, 1.0, 1.0, 1.0, 1.0, 1.0, 1.0, 1.0, 1.0, 1.0, 1.0, 1.0, 1.0, 1.0, 1.0, 1.0, 1.0, 1.0, 1.0, 1.0, 1.0, 1.0, 4.724301338195801, 2.8723161220550537, 2.870523452758789, 2.8697195053100586, 1.9462348222732544, 1.944955587387085, 1.9438660144805908, 1.9436936378479004, 1.9436225891113281, 1.943624496459961, 1.0205341577529907, 1.0205340385437012, 1.0205340385437012, 1.0191479921340942, 1.019017219543457, 1.0188536643981934, 1.0187968015670776, 1.0187771320343018, 1.0187231302261353, 1.0187222957611084, 1.0186326503753662, 1.0185537338256836, 1.0183964967727661, 1.0183968544006348, 1.018332839012146, 1.0181807279586792, 1.0181514024734497, 1.0180085897445679, 1.0179569721221924, 1.0176855325698853, 0.0026755521539598703, 0.00267165363766253, 0.00267047923989594, 0.0026628964114934206, 0.0026614563539624214, 0.0026574679650366306, 0.002656650962308049, 0.00265240459702909, 0.002650624141097069, 0.0026506148278713226, 0.0026462345849722624, 0.0026440327055752277, 0.002641528146341443, 0.002641499973833561, 0.0026399954222142696, 0.002639442216604948, 0.0026378596667200327, 0.0026332957204431295, 0.002629638183861971, 0.0025909231044352055, 0.0025909224059432745, 0.002590922638773918, 0.0027213431894779205, 0.0027212870772928, 0.0027193620335310698, 0.002714549656957388, 0.0026841165963560343, 0.0026483910623937845, 0.002767736790701747, 0.002745299367234111, 0.002793861087411642, 0.0026952282059937716, 0.0019559396896511316, 0.0019559396896511316, 0.0019559396896511316, 0.0019559396896511316, 0.0019559396896511316, 0.0019559396896511316, 0.0019559396896511316, 0.0019559396896511316, 0.0019559396896511316, 0.0019559396896511316, 0.001955939456820488, 0.0019559396896511316, 0.0019559396896511316, 0.0019559396896511316, 0.0019559396896511316, 0.0019559396896511316, 0.001955939456820488, 0.0019559396896511316, 0.001955939456820488, 0.0019559403881430626, 0.0019559403881430626, 0.001955940155312419, 0.0019559396896511316, 0.0019559396896511316, 0.0019559396896511316, 0.0019559396896511316, 0.0019559396896511316, 0.00195594085380435, 0.0019559396896511316, 0.001955940155312419, 0.00195594085380435, 0.0019559403881430626, 0.0019559210631996393, 0.0019559210631996393, 0.0019559210631996393, 0.0019559210631996393, 0.0019559210631996393, 0.0019559210631996393, 0.0019559210631996393, 0.0019559210631996393, 0.0019559210631996393, 0.0019559210631996393, 0.0019559210631996393, 0.0019559210631996393, 0.0019559210631996393, 0.0019559210631996393, 0.0019559210631996393, 0.0019559210631996393, 0.0019559210631996393, 0.0019559210631996393, 0.0019559210631996393, 0.0019559224601835012, 0.0019559215288609266, 0.0019559215288609266, 0.001955921296030283, 0.001955921296030283, 0.001955921296030283, 0.001955921296030283, 0.0019559210631996393, 0.0019559222273528576, 0.0019559215288609266, 0.001955921296030283, 0.0019559222273528576, 0.0019559222273528576, 0.001955897780135274, 0.001955897780135274, 0.001955897780135274, 0.001955897780135274, 0.001955897780135274, 0.001955897780135274, 0.001955897780135274, 0.001955897780135274, 0.001955897780135274, 0.001955897780135274, 0.001955897780135274, 0.001955897780135274, 0.001955897780135274, 0.001955897780135274, 0.001955897780135274, 0.001955897780135274, 0.001955897780135274, 0.001955897780135274, 0.001955897780135274, 0.001955898478627205, 0.0019558982457965612, 0.0019558982457965612, 0.0019558980129659176, 0.0019558980129659176, 0.001955897780135274, 0.001955897780135274, 0.0019558980129659176, 0.001955898944288492, 0.0019558980129659176, 0.0019558980129659176, 0.001955898944288492, 0.0019558987114578485, 0.0019558926578611135, 0.0019558926578611135, 0.0019558926578611135, 0.0019558926578611135, 0.0019558926578611135, 0.0019558926578611135, 0.0019558926578611135, 0.0019558926578611135, 0.0019558926578611135, 0.0019558926578611135, 0.0019558926578611135, 0.0019558926578611135, 0.0019558926578611135, 0.0019558926578611135, 0.0019558926578611135, 0.0019558926578611135, 0.0019558926578611135, 0.0019558926578611135, 0.0019558926578611135, 0.001955893589183688, 0.0019558933563530445, 0.0019558933563530445, 0.001955892890691757, 0.0019558926578611135, 0.0019558926578611135, 0.0019558926578611135, 0.001955892890691757, 0.001955893589183688, 0.001955893123522401, 0.001955893123522401, 0.001955893822014332, 0.0019558933563530445, 0.0019558914937078953, 0.0019558914937078953, 0.0019558914937078953, 0.0019558914937078953, 0.0019558914937078953, 0.0019558914937078953, 0.0019558914937078953, 0.0019558914937078953, 0.0019558914937078953, 0.0019558914937078953, 0.0019558914937078953, 0.0019558914937078953, 0.0019558914937078953, 0.0019558914937078953, 0.0019558914937078953, 0.0019558914937078953, 0.0019558914937078953, 0.0019558914937078953, 0.0019558914937078953, 0.00195589242503047, 0.0019558921921998262, 0.0019558919593691826, 0.0019558914937078953, 0.0019558919593691826, 0.001955891726538539, 0.0019558914937078953, 0.0019558914937078953, 0.0019558926578611135, 0.0019558919593691826, 0.0019558919593691826, 0.0019558926578611135, 0.00195589242503047, 0.0019558833446353674, 0.0019558833446353674, 0.0019558833446353674, 0.0019558833446353674, 0.0019558833446353674, 0.0019558833446353674, 0.0019558833446353674, 0.001955883577466011, 0.0019558833446353674, 0.0019558833446353674, 0.0019558833446353674, 0.0019558833446353674, 0.0019558833446353674, 0.0019558833446353674, 0.0019558833446353674, 0.0019558833446353674, 0.0019558833446353674, 0.0019558833446353674, 0.0019558833446353674, 0.0019558840431272984, 0.0019558840431272984, 0.0019558838102966547, 0.001955883577466011, 0.001955883577466011, 0.0019558833446353674, 0.001955883577466011, 0.0019558833446353674, 0.001955884275957942, 0.0019558838102966547, 0.0019558838102966547, 0.0019558847416192293, 0.0019558840431272984, 0.001955879619345069, 0.001955879619345069, 0.001955879619345069, 0.001955879619345069, 0.001955879619345069, 0.001955879619345069, 0.001955879619345069, 0.001955879619345069, 0.001955879619345069, 0.001955879619345069, 0.001955879619345069, 0.001955879619345069, 0.001955879619345069, 0.001955879619345069, 0.001955879619345069, 0.001955879619345069, 0.001955879619345069, 0.001955879619345069, 0.001955879619345069, 0.001955880317837, 0.001955880317837, 0.001955880317837, 0.0019558798521757126, 0.001955879619345069, 0.0019558798521757126, 0.001955879619345069, 0.001955879619345069, 0.0019558805506676435, 0.0019558800850063562, 0.0019558800850063562, 0.001955880783498287, 0.001955880317837, 0.0019558733329176903, 0.0019558733329176903, 0.0019558733329176903, 0.0019558733329176903, 0.0019558733329176903, 0.0019558733329176903, 0.0019558733329176903, 0.0019558733329176903, 0.0019558733329176903, 0.0019558733329176903, 0.0019558733329176903, 0.0019558733329176903, 0.0019558733329176903, 0.0019558733329176903, 0.0019558733329176903, 0.0019558733329176903, 0.0019558733329176903, 0.0019558733329176903, 0.0019558733329176903, 0.0019558740314096212, 0.0019558740314096212, 0.0019558737985789776, 0.001955873565748334, 0.001955873565748334, 0.0019558733329176903, 0.0019558733329176903, 0.0019558733329176903, 0.0019558740314096212, 0.0019558737985789776, 0.0019558737985789776, 0.001955874264240265, 0.0019558744970709085], \"Term\": [\"work\", \"professional\", \"highly\", \"donna\", \"pleasure\", \"recommend\", \"always\", \"on_the_ball\", \"year\", \"real\", \"justin\", \"consummate\", \"time\", \"field\", \"eye\", \"worker\", \"knowledgeable\", \"fail\", \"deliver\", \"never\", \"hardworking\", \"detail\", \"organise\", \"find\", \"meticulous\", \"experience\", \"extremely\", \"creativity\", \"expert\", \"number\", \"work\", \"professional\", \"donna\", \"highly\", \"pleasure\", \"recommend\", \"always\", \"on_the_ball\", \"real\", \"year\", \"justin\", \"consummate\", \"time\", \"field\", \"eye\", \"worker\", \"knowledgeable\", \"fail\", \"deliver\", \"never\", \"hardworking\", \"detail\", \"find\", \"organise\", \"meticulous\", \"experience\", \"extremely\", \"creativity\", \"expert\", \"number\", \"ethic\", \"designer\", \"number\", \"expert\", \"creativity\", \"extremely\", \"experience\", \"meticulous\", \"find\", \"organise\", \"detail\", \"hardworking\", \"never\", \"deliver\", \"fail\", \"knowledgeable\", \"worker\", \"eye\", \"field\", \"time\", \"consummate\", \"justin\", \"real\", \"year\", \"on_the_ball\", \"always\", \"recommend\", \"pleasure\", \"highly\", \"donna\", \"work\", \"professional\", \"ethic\", \"designer\", \"number\", \"expert\", \"creativity\", \"extremely\", \"experience\", \"meticulous\", \"find\", \"organise\", \"detail\", \"hardworking\", \"never\", \"deliver\", \"fail\", \"knowledgeable\", \"worker\", \"eye\", \"field\", \"consummate\", \"justin\", \"time\", \"real\", \"year\", \"on_the_ball\", \"always\", \"recommend\", \"pleasure\", \"highly\", \"donna\", \"professional\", \"work\", \"ethic\", \"designer\", \"number\", \"expert\", \"creativity\", \"extremely\", \"experience\", \"meticulous\", \"find\", \"organise\", \"detail\", \"hardworking\", \"never\", \"deliver\", \"fail\", \"knowledgeable\", \"worker\", \"eye\", \"field\", \"consummate\", \"time\", \"justin\", \"real\", \"year\", \"on_the_ball\", \"always\", \"recommend\", \"pleasure\", \"highly\", \"donna\", \"professional\", \"work\", \"ethic\", \"designer\", \"number\", \"expert\", \"creativity\", \"extremely\", \"experience\", \"meticulous\", \"find\", \"organise\", \"detail\", \"hardworking\", \"never\", \"deliver\", \"fail\", \"knowledgeable\", \"worker\", \"eye\", \"field\", \"consummate\", \"time\", \"justin\", \"real\", \"year\", \"on_the_ball\", \"always\", \"recommend\", \"pleasure\", \"highly\", \"donna\", \"professional\", \"work\", \"ethic\", \"designer\", \"number\", \"expert\", \"creativity\", \"extremely\", \"experience\", \"meticulous\", \"find\", \"organise\", \"detail\", \"hardworking\", \"never\", \"deliver\", \"fail\", \"knowledgeable\", \"worker\", \"eye\", \"field\", \"time\", \"consummate\", \"justin\", \"real\", \"year\", \"on_the_ball\", \"always\", \"recommend\", \"pleasure\", \"highly\", \"donna\", \"work\", \"professional\", \"ethic\", \"designer\", \"number\", \"expert\", \"creativity\", \"extremely\", \"experience\", \"meticulous\", \"find\", \"organise\", \"detail\", \"hardworking\", \"never\", \"deliver\", \"fail\", \"knowledgeable\", \"worker\", \"eye\", \"field\", \"time\", \"justin\", \"consummate\", \"real\", \"year\", \"on_the_ball\", \"always\", \"recommend\", \"pleasure\", \"highly\", \"donna\", \"professional\", \"work\", \"ethic\", \"designer\", \"number\", \"expert\", \"creativity\", \"extremely\", \"experience\", \"meticulous\", \"find\", \"organise\", \"detail\", \"hardworking\", \"never\", \"deliver\", \"fail\", \"knowledgeable\", \"worker\", \"eye\", \"field\", \"time\", \"consummate\", \"justin\", \"real\", \"year\", \"on_the_ball\", \"always\", \"recommend\", \"pleasure\", \"highly\", \"donna\", \"professional\", \"work\", \"ethic\", \"designer\", \"number\", \"expert\", \"creativity\", \"extremely\", \"experience\", \"meticulous\", \"find\", \"organise\", \"detail\", \"hardworking\", \"never\", \"deliver\", \"fail\", \"knowledgeable\", \"worker\", \"eye\", \"field\", \"time\", \"consummate\", \"justin\", \"real\", \"year\", \"on_the_ball\", \"always\", \"recommend\", \"pleasure\", \"highly\", \"donna\", \"professional\", \"work\", \"ethic\", \"designer\", \"number\", \"expert\", \"creativity\", \"extremely\", \"experience\", \"meticulous\", \"find\", \"organise\", \"detail\", \"hardworking\", \"never\", \"deliver\", \"fail\", \"knowledgeable\", \"worker\", \"eye\", \"field\", \"time\", \"consummate\", \"justin\", \"real\", \"year\", \"on_the_ball\", \"always\", \"recommend\", \"pleasure\", \"highly\", \"donna\", \"professional\", \"work\"], \"Total\": [4.0, 2.0, 2.0, 2.0, 1.0, 1.0, 1.0, 1.0, 1.0, 1.0, 1.0, 1.0, 1.0, 1.0, 1.0, 1.0, 1.0, 1.0, 1.0, 1.0, 1.0, 1.0, 1.0, 1.0, 1.0, 1.0, 1.0, 1.0, 1.0, 1.0, 4.742743015289307, 2.8906593322753906, 2.8889167308807373, 2.8881351947784424, 1.9645302295684814, 1.9632867574691772, 1.9622275829315186, 1.9620600938796997, 1.9619909524917603, 1.961992859840393, 1.0387721061706543, 1.0387719869613647, 1.0387719869613647, 1.0374246835708618, 1.0372976064682007, 1.03713858127594, 1.0370832681655884, 1.0370641946792603, 1.037011742591858, 1.037010908126831, 1.0369237661361694, 1.0368469953536987, 1.0366941690444946, 1.0366945266723633, 1.0366322994232178, 1.0364844799041748, 1.0364558696746826, 1.0363171100616455, 1.0362669229507446, 1.0360031127929688, 1.0358264446258545, 1.0359622240066528, 1.0360031127929688, 1.0362669229507446, 1.0363171100616455, 1.0364558696746826, 1.0364844799041748, 1.0366322994232178, 1.0366941690444946, 1.0366945266723633, 1.0368469953536987, 1.0369237661361694, 1.037010908126831, 1.037011742591858, 1.0370641946792603, 1.0370832681655884, 1.03713858127594, 1.0372976064682007, 1.0374246835708618, 1.0387719869613647, 1.0387719869613647, 1.0387721061706543, 1.9619909524917603, 1.961992859840393, 1.9620600938796997, 1.9622275829315186, 1.9632867574691772, 1.9645302295684814, 2.8881351947784424, 2.8889167308807373, 4.742743015289307, 2.8906593322753906, 1.0358264446258545, 1.0359622240066528, 1.0360031127929688, 1.0362669229507446, 1.0363171100616455, 1.0364558696746826, 1.0364844799041748, 1.0366322994232178, 1.0366941690444946, 1.0366945266723633, 1.0368469953536987, 1.0369237661361694, 1.037010908126831, 1.037011742591858, 1.0370641946792603, 1.0370832681655884, 1.03713858127594, 1.0372976064682007, 1.0374246835708618, 1.0387719869613647, 1.0387721061706543, 1.0387719869613647, 1.9619909524917603, 1.961992859840393, 1.9620600938796997, 1.9622275829315186, 1.9632867574691772, 1.9645302295684814, 2.8881351947784424, 2.8889167308807373, 2.8906593322753906, 4.742743015289307, 1.0358264446258545, 1.0359622240066528, 1.0360031127929688, 1.0362669229507446, 1.0363171100616455, 1.0364558696746826, 1.0364844799041748, 1.0366322994232178, 1.0366941690444946, 1.0366945266723633, 1.0368469953536987, 1.0369237661361694, 1.037010908126831, 1.037011742591858, 1.0370641946792603, 1.0370832681655884, 1.03713858127594, 1.0372976064682007, 1.0374246835708618, 1.0387719869613647, 1.0387719869613647, 1.0387721061706543, 1.9619909524917603, 1.961992859840393, 1.9620600938796997, 1.9622275829315186, 1.9632867574691772, 1.9645302295684814, 2.8881351947784424, 2.8889167308807373, 2.8906593322753906, 4.742743015289307, 1.0358264446258545, 1.0359622240066528, 1.0360031127929688, 1.0362669229507446, 1.0363171100616455, 1.0364558696746826, 1.0364844799041748, 1.0366322994232178, 1.0366941690444946, 1.0366945266723633, 1.0368469953536987, 1.0369237661361694, 1.037010908126831, 1.037011742591858, 1.0370641946792603, 1.0370832681655884, 1.03713858127594, 1.0372976064682007, 1.0374246835708618, 1.0387719869613647, 1.0387719869613647, 1.0387721061706543, 1.9619909524917603, 1.961992859840393, 1.9620600938796997, 1.9622275829315186, 1.9632867574691772, 1.9645302295684814, 2.8881351947784424, 2.8889167308807373, 2.8906593322753906, 4.742743015289307, 1.0358264446258545, 1.0359622240066528, 1.0360031127929688, 1.0362669229507446, 1.0363171100616455, 1.0364558696746826, 1.0364844799041748, 1.0366322994232178, 1.0366941690444946, 1.0366945266723633, 1.0368469953536987, 1.0369237661361694, 1.037010908126831, 1.037011742591858, 1.0370641946792603, 1.0370832681655884, 1.03713858127594, 1.0372976064682007, 1.0374246835708618, 1.0387719869613647, 1.0387719869613647, 1.0387721061706543, 1.9619909524917603, 1.961992859840393, 1.9620600938796997, 1.9622275829315186, 1.9632867574691772, 1.9645302295684814, 2.8881351947784424, 2.8889167308807373, 4.742743015289307, 2.8906593322753906, 1.0358264446258545, 1.0359622240066528, 1.0360031127929688, 1.0362669229507446, 1.0363171100616455, 1.0364558696746826, 1.0364844799041748, 1.0366322994232178, 1.0366941690444946, 1.0366945266723633, 1.0368469953536987, 1.0369237661361694, 1.037010908126831, 1.037011742591858, 1.0370641946792603, 1.0370832681655884, 1.03713858127594, 1.0372976064682007, 1.0374246835708618, 1.0387719869613647, 1.0387721061706543, 1.0387719869613647, 1.9619909524917603, 1.961992859840393, 1.9620600938796997, 1.9622275829315186, 1.9632867574691772, 1.9645302295684814, 2.8881351947784424, 2.8889167308807373, 2.8906593322753906, 4.742743015289307, 1.0358264446258545, 1.0359622240066528, 1.0360031127929688, 1.0362669229507446, 1.0363171100616455, 1.0364558696746826, 1.0364844799041748, 1.0366322994232178, 1.0366941690444946, 1.0366945266723633, 1.0368469953536987, 1.0369237661361694, 1.037010908126831, 1.037011742591858, 1.0370641946792603, 1.0370832681655884, 1.03713858127594, 1.0372976064682007, 1.0374246835708618, 1.0387719869613647, 1.0387719869613647, 1.0387721061706543, 1.9619909524917603, 1.961992859840393, 1.9620600938796997, 1.9622275829315186, 1.9632867574691772, 1.9645302295684814, 2.8881351947784424, 2.8889167308807373, 2.8906593322753906, 4.742743015289307, 1.0358264446258545, 1.0359622240066528, 1.0360031127929688, 1.0362669229507446, 1.0363171100616455, 1.0364558696746826, 1.0364844799041748, 1.0366322994232178, 1.0366941690444946, 1.0366945266723633, 1.0368469953536987, 1.0369237661361694, 1.037010908126831, 1.037011742591858, 1.0370641946792603, 1.0370832681655884, 1.03713858127594, 1.0372976064682007, 1.0374246835708618, 1.0387719869613647, 1.0387719869613647, 1.0387721061706543, 1.9619909524917603, 1.961992859840393, 1.9620600938796997, 1.9622275829315186, 1.9632867574691772, 1.9645302295684814, 2.8881351947784424, 2.8889167308807373, 2.8906593322753906, 4.742743015289307, 1.0358264446258545, 1.0359622240066528, 1.0360031127929688, 1.0362669229507446, 1.0363171100616455, 1.0364558696746826, 1.0364844799041748, 1.0366322994232178, 1.0366941690444946, 1.0366945266723633, 1.0368469953536987, 1.0369237661361694, 1.037010908126831, 1.037011742591858, 1.0370641946792603, 1.0370832681655884, 1.03713858127594, 1.0372976064682007, 1.0374246835708618, 1.0387719869613647, 1.0387719869613647, 1.0387721061706543, 1.9619909524917603, 1.961992859840393, 1.9620600938796997, 1.9622275829315186, 1.9632867574691772, 1.9645302295684814, 2.8881351947784424, 2.8889167308807373, 2.8906593322753906, 4.742743015289307], \"loglift\": [30.0, 29.0, 28.0, 27.0, 26.0, 25.0, 24.0, 23.0, 22.0, 21.0, 20.0, 19.0, 18.0, 17.0, 16.0, 15.0, 14.0, 13.0, 12.0, 11.0, 10.0, 9.0, 8.0, 7.0, 6.0, 5.0, 4.0, 3.0, 2.0, 1.0, 0.00839999970048666, 0.005900000222027302, 0.005900000222027302, 0.005900000222027302, 0.002899999963119626, 0.002899999963119626, 0.002899999963119626, 0.002899999963119626, 0.002899999963119626, 0.002899999963119626, -0.005400000140070915, -0.005400000140070915, -0.005400000140070915, -0.005499999970197678, -0.005499999970197678, -0.005499999970197678, -0.005499999970197678, -0.005499999970197678, -0.005499999970197678, -0.005499999970197678, -0.005499999970197678, -0.005499999970197678, -0.005499999970197678, -0.005499999970197678, -0.005499999970197678, -0.005499999970197678, -0.005499999970197678, -0.005499999970197678, -0.005499999970197678, -0.00559999980032444, 0.3734000027179718, 0.3718000054359436, 0.37139999866485596, 0.3682999908924103, 0.3677000105381012, 0.3659999966621399, 0.36570000648498535, 0.36399999260902405, 0.36320000886917114, 0.36320000886917114, 0.3614000082015991, 0.3605000078678131, 0.359499990940094, 0.359499990940094, 0.3589000105857849, 0.358599990606308, 0.3580000102519989, 0.3560999929904938, 0.3546000123023987, 0.3384000062942505, 0.3384000062942505, 0.3384000062942505, -0.2484000027179718, -0.2484000027179718, -0.249099999666214, -0.25099998712539673, -0.262800008058548, -0.2768000066280365, -0.6180999875068665, -0.6265000104904175, -1.104699969291687, -0.6455000042915344, 0.3702999949455261, 0.3700999915599823, 0.3700999915599823, 0.36980000138282776, 0.36980000138282776, 0.36970001459121704, 0.36959999799728394, 0.3695000112056732, 0.3693999946117401, 0.3693999946117401, 0.3693000078201294, 0.3691999912261963, 0.36910000443458557, 0.36910000443458557, 0.36910000443458557, 0.36910000443458557, 0.36899998784065247, 0.36880001425743103, 0.3686999976634979, 0.36739999055862427, 0.36739999055862427, 0.36739999055862427, -0.2685000002384186, -0.2685000002384186, -0.2685000002384186, -0.2685999870300293, -0.26919999718666077, -0.26980000734329224, -0.6550999879837036, -0.6553999781608582, -0.656000018119812, -1.1512000560760498, 0.3702999949455261, 0.3700999915599823, 0.3700999915599823, 0.36980000138282776, 0.36980000138282776, 0.36970001459121704, 0.36959999799728394, 0.3695000112056732, 0.3693999946117401, 0.3693999946117401, 0.3693000078201294, 0.3691999912261963, 0.36910000443458557, 0.36910000443458557, 0.36910000443458557, 0.36910000443458557, 0.36899998784065247, 0.36880001425743103, 0.3686999976634979, 0.36739999055862427, 0.36739999055862427, 0.36739999055862427, -0.2685000002384186, -0.2685000002384186, -0.2685000002384186, -0.2685999870300293, -0.26919999718666077, -0.26980000734329224, -0.6550999879837036, -0.6553999781608582, -0.656000018119812, -1.1512000560760498, 0.3702999949455261, 0.3700999915599823, 0.3700999915599823, 0.36980000138282776, 0.36980000138282776, 0.36970001459121704, 0.36959999799728394, 0.3695000112056732, 0.3693999946117401, 0.3693999946117401, 0.3693000078201294, 0.3691999912261963, 0.36910000443458557, 0.36910000443458557, 0.36910000443458557, 0.36910000443458557, 0.36899998784065247, 0.36880001425743103, 0.3686999976634979, 0.36739999055862427, 0.36739999055862427, 0.36739999055862427, -0.2685000002384186, -0.2685000002384186, -0.2685000002384186, -0.2685999870300293, -0.26919999718666077, -0.26980000734329224, -0.6550999879837036, -0.6553999781608582, -0.656000018119812, -1.1512000560760498, 0.3702999949455261, 0.3700999915599823, 0.3700999915599823, 0.36980000138282776, 0.36980000138282776, 0.36970001459121704, 0.36959999799728394, 0.3695000112056732, 0.3693999946117401, 0.3693999946117401, 0.3693000078201294, 0.3691999912261963, 0.36910000443458557, 0.36910000443458557, 0.36910000443458557, 0.36910000443458557, 0.36899998784065247, 0.36880001425743103, 0.3686999976634979, 0.36739999055862427, 0.36739999055862427, 0.36739999055862427, -0.2685000002384186, -0.2685000002384186, -0.2685000002384186, -0.2685999870300293, -0.26919999718666077, -0.26980000734329224, -0.6550999879837036, -0.6553999781608582, -1.1512000560760498, -0.656000018119812, 0.3702999949455261, 0.3700999915599823, 0.3700999915599823, 0.36980000138282776, 0.36980000138282776, 0.36970001459121704, 0.36959999799728394, 0.3695000112056732, 0.3693999946117401, 0.3693999946117401, 0.3693000078201294, 0.3691999912261963, 0.36910000443458557, 0.36910000443458557, 0.36910000443458557, 0.36910000443458557, 0.36899998784065247, 0.36880001425743103, 0.3686999976634979, 0.36739999055862427, 0.36739999055862427, 0.36739999055862427, -0.2685000002384186, -0.2685000002384186, -0.2685000002384186, -0.2685999870300293, -0.26919999718666077, -0.26980000734329224, -0.6550999879837036, -0.6553999781608582, -0.656000018119812, -1.1512000560760498, 0.3702999949455261, 0.3700999915599823, 0.3700999915599823, 0.36980000138282776, 0.36980000138282776, 0.36970001459121704, 0.36959999799728394, 0.3695000112056732, 0.3693999946117401, 0.3693999946117401, 0.3693000078201294, 0.3691999912261963, 0.36910000443458557, 0.36910000443458557, 0.36910000443458557, 0.36910000443458557, 0.36899998784065247, 0.36880001425743103, 0.3686999976634979, 0.36739999055862427, 0.36739999055862427, 0.36739999055862427, -0.2685000002384186, -0.2685000002384186, -0.2685000002384186, -0.2685999870300293, -0.26919999718666077, -0.26980000734329224, -0.6550999879837036, -0.6553999781608582, -0.656000018119812, -1.1512000560760498, 0.3702999949455261, 0.3700999915599823, 0.3700999915599823, 0.36980000138282776, 0.36980000138282776, 0.36970001459121704, 0.36959999799728394, 0.3695000112056732, 0.3693999946117401, 0.3693999946117401, 0.3693000078201294, 0.3691999912261963, 0.36910000443458557, 0.36910000443458557, 0.36910000443458557, 0.36910000443458557, 0.36899998784065247, 0.36880001425743103, 0.3686999976634979, 0.36739999055862427, 0.36739999055862427, 0.36739999055862427, -0.2685000002384186, -0.2685000002384186, -0.2685000002384186, -0.2685999870300293, -0.26919999718666077, -0.26980000734329224, -0.6550999879837036, -0.6553999781608582, -0.656000018119812, -1.1512000560760498, 0.3702999949455261, 0.3700999915599823, 0.3700999915599823, 0.36980000138282776, 0.36980000138282776, 0.36970001459121704, 0.36959999799728394, 0.3695000112056732, 0.3693999946117401, 0.3693999946117401, 0.3693000078201294, 0.3691999912261963, 0.36910000443458557, 0.36910000443458557, 0.36910000443458557, 0.36910000443458557, 0.36899998784065247, 0.36880001425743103, 0.3686999976634979, 0.36739999055862427, 0.36739999055862427, 0.36739999055862427, -0.2685000002384186, -0.2685000002384186, -0.2685000002384186, -0.2685999870300293, -0.26919999718666077, -0.26980000734329224, -0.6550999879837036, -0.6553999781608582, -0.656000018119812, -1.1512000560760498], \"logprob\": [30.0, 29.0, 28.0, 27.0, 26.0, 25.0, 24.0, 23.0, 22.0, 21.0, 20.0, 19.0, 18.0, 17.0, 16.0, 15.0, 14.0, 13.0, 12.0, 11.0, 10.0, 9.0, 8.0, 7.0, 6.0, 5.0, 4.0, 3.0, 2.0, 1.0, -2.3062000274658203, -2.803800106048584, -2.8043999671936035, -2.8046998977661133, -3.193000078201294, -3.193700075149536, -3.194200038909912, -3.1942999362945557, -3.1944000720977783, -3.1944000720977783, -3.838599920272827, -3.838599920272827, -3.838599920272827, -3.839900016784668, -3.840100049972534, -3.8401999473571777, -3.8403000831604004, -3.8403000831604004, -3.840399980545044, -3.840399980545044, -3.8405001163482666, -3.8405001163482666, -3.8406999111175537, -3.8406999111175537, -3.8406999111175537, -3.84089994430542, -3.84089994430542, -3.841099977493286, -3.841099977493286, -3.841399908065796, -3.462599992752075, -3.4639999866485596, -3.4644999504089355, -3.4672999382019043, -3.467900037765503, -3.469399929046631, -3.4697000980377197, -3.471299886703491, -3.47189998626709, -3.47189998626709, -3.473599910736084, -3.474400043487549, -3.475399971008301, -3.475399971008301, -3.4760000705718994, -3.4762001037597656, -3.476799964904785, -3.4784998893737793, -3.4798998832702637, -3.4946999549865723, -3.4946999549865723, -3.4946999549865723, -3.4456000328063965, -3.4456000328063965, -3.4463000297546387, -3.4481000900268555, -3.459399938583374, -3.4728000164031982, -3.4286999702453613, -3.436800003051758, -3.419300079345703, -3.455199956893921, -3.4656999111175537, -3.4656999111175537, -3.4656999111175537, -3.4656999111175537, -3.4656999111175537, -3.4656999111175537, -3.4656999111175537, -3.4656999111175537, -3.4656999111175537, -3.4656999111175537, -3.4656999111175537, -3.4656999111175537, -3.4656999111175537, -3.4656999111175537, -3.4656999111175537, -3.4656999111175537, -3.4656999111175537, -3.4656999111175537, -3.4656999111175537, -3.4656999111175537, -3.4656999111175537, -3.4656999111175537, -3.4656999111175537, -3.4656999111175537, -3.4656999111175537, -3.4656999111175537, -3.4656999111175537, -3.4656999111175537, -3.4656999111175537, -3.4656999111175537, -3.4656999111175537, -3.4656999111175537, -3.4656999111175537, -3.4656999111175537, -3.4656999111175537, -3.4656999111175537, -3.4656999111175537, -3.4656999111175537, -3.4656999111175537, -3.4656999111175537, -3.4656999111175537, -3.4656999111175537, -3.4656999111175537, -3.4656999111175537, -3.4656999111175537, -3.4656999111175537, -3.4656999111175537, -3.4656999111175537, -3.4656999111175537, -3.4656999111175537, -3.4656999111175537, -3.4656999111175537, -3.4656999111175537, -3.4656999111175537, -3.4656999111175537, -3.4656999111175537, -3.4656999111175537, -3.4656999111175537, -3.4656999111175537, -3.4656999111175537, -3.4656999111175537, -3.4656999111175537, -3.4656999111175537, -3.4656999111175537, -3.4656999111175537, -3.4656999111175537, -3.4656999111175537, -3.4656999111175537, -3.4656999111175537, -3.4656999111175537, -3.4656999111175537, -3.4656999111175537, -3.4656999111175537, -3.4656999111175537, -3.4656999111175537, -3.4656999111175537, -3.4656999111175537, -3.4656999111175537, -3.4656999111175537, -3.4656999111175537, -3.4656999111175537, -3.4656999111175537, -3.4656999111175537, -3.4656999111175537, -3.4656999111175537, -3.4656999111175537, -3.4656999111175537, -3.4656999111175537, -3.4656999111175537, -3.4656999111175537, -3.4656999111175537, -3.4656999111175537, -3.4656999111175537, -3.4656999111175537, -3.4656999111175537, -3.4656999111175537, -3.4656999111175537, -3.4656999111175537, -3.4656999111175537, -3.4656999111175537, -3.4656999111175537, -3.4656999111175537, -3.4656999111175537, -3.4656999111175537, -3.4656999111175537, -3.4656999111175537, -3.4656999111175537, -3.4656999111175537, -3.4656999111175537, -3.4656999111175537, -3.4656999111175537, -3.4656999111175537, -3.4656999111175537, -3.4656999111175537, -3.4656999111175537, -3.4656999111175537, -3.4656999111175537, -3.4656999111175537, -3.4656999111175537, -3.4656999111175537, -3.4656999111175537, -3.4656999111175537, -3.4656999111175537, -3.4656999111175537, -3.4656999111175537, -3.4656999111175537, -3.4656999111175537, -3.4656999111175537, -3.4656999111175537, -3.4656999111175537, -3.4656999111175537, -3.4656999111175537, -3.4656999111175537, -3.4656999111175537, -3.4656999111175537, -3.4656999111175537, -3.4656999111175537, -3.4656999111175537, -3.4656999111175537, -3.4656999111175537, -3.4656999111175537, -3.4656999111175537, -3.4656999111175537, -3.4656999111175537, -3.4656999111175537, -3.4656999111175537, -3.4656999111175537, -3.4656999111175537, -3.4656999111175537, -3.4656999111175537, -3.4656999111175537, -3.4656999111175537, -3.4656999111175537, -3.4656999111175537, -3.4656999111175537, -3.4656999111175537, -3.4656999111175537, -3.4656999111175537, -3.4656999111175537, -3.4656999111175537, -3.4656999111175537, -3.4656999111175537, -3.4656999111175537, -3.4656999111175537, -3.4656999111175537, -3.4656999111175537, -3.4656999111175537, -3.4656999111175537, -3.4656999111175537, -3.4656999111175537, -3.4656999111175537, -3.4656999111175537, -3.4656999111175537, -3.4656999111175537, -3.4656999111175537, -3.4656999111175537, -3.4656999111175537, -3.4656999111175537, -3.4656999111175537, -3.4656999111175537, -3.4656999111175537, -3.4656999111175537, -3.4656999111175537, -3.4656999111175537, -3.4656999111175537, -3.4656999111175537, -3.4656999111175537, -3.4656999111175537, -3.4656999111175537, -3.4656999111175537, -3.4656999111175537, -3.4656999111175537, -3.4656999111175537, -3.4656999111175537, -3.4656999111175537, -3.4656999111175537, -3.4656999111175537, -3.4656999111175537, -3.4656999111175537, -3.4656999111175537, -3.4656999111175537, -3.4656999111175537, -3.4656999111175537, -3.4656999111175537, -3.4656999111175537, -3.4656999111175537, -3.4656999111175537, -3.4656999111175537, -3.4656999111175537, -3.4656999111175537, -3.4656999111175537, -3.4656999111175537, -3.4656999111175537, -3.4656999111175537, -3.4656999111175537, -3.4656999111175537, -3.4656999111175537, -3.4656999111175537, -3.4656999111175537, -3.4656999111175537, -3.4656999111175537, -3.4656999111175537, -3.4656999111175537, -3.4656999111175537, -3.4656999111175537, -3.4656999111175537, -3.4656999111175537, -3.4656999111175537, -3.4656999111175537, -3.4656999111175537, -3.4656999111175537, -3.4656999111175537, -3.4656999111175537, -3.4656999111175537, -3.4656999111175537, -3.4656999111175537, -3.4656999111175537, -3.4656999111175537, -3.4656999111175537, -3.4656999111175537, -3.4656999111175537, -3.4656999111175537, -3.4656999111175537, -3.4656999111175537, -3.4656999111175537, -3.4656999111175537, -3.4656999111175537, -3.4656999111175537, -3.4656999111175537, -3.4656999111175537, -3.4656999111175537, -3.4656999111175537, -3.4656999111175537, -3.4656999111175537, -3.4656999111175537, -3.4656999111175537]}, \"token.table\": {\"Topic\": [1, 1, 1, 1, 1, 1, 1, 1, 1, 1, 1, 1, 1, 1, 1, 1, 1, 1, 1, 1, 1, 1, 1, 1, 1, 1, 1, 1, 1, 1, 1, 1], \"Freq\": [1.0192497968673706, 0.962675154209137, 0.9649556279182434, 0.9643092155456543, 0.965286135673523, 0.9644624590873718, 1.0384515523910522, 0.9654126763343811, 0.9647997617721558, 0.9650023579597473, 0.9648264050483704, 0.9640434980392456, 0.964260458946228, 0.9639254212379456, 0.9646046161651611, 0.9643910527229309, 1.0387325286865234, 0.9626750349998474, 0.9642427563667297, 0.9646621942520142, 0.9643099904060364, 0.9652480483055115, 1.0193368196487427, 0.9646043181419373, 1.0180550813674927, 1.0378254652023315, 1.0193727016448975, 1.0186998844146729, 0.962675154209137, 1.0542422533035278, 0.9641913175582886, 1.019371747970581], \"Term\": [\"always\", \"consummate\", \"creativity\", \"deliver\", \"designer\", \"detail\", \"donna\", \"ethic\", \"experience\", \"expert\", \"extremely\", \"eye\", \"fail\", \"field\", \"find\", \"hardworking\", \"highly\", \"justin\", \"knowledgeable\", \"meticulous\", \"never\", \"number\", \"on_the_ball\", \"organise\", \"pleasure\", \"professional\", \"real\", \"recommend\", \"time\", \"work\", \"worker\", \"year\"]}, \"R\": 30, \"lambda.step\": 0.01, \"plot.opts\": {\"xlab\": \"PC1\", \"ylab\": \"PC2\"}, \"topic.order\": [5, 3, 10, 4, 9, 8, 6, 7, 1, 2]};\n",
       "\n",
       "function LDAvis_load_lib(url, callback){\n",
       "  var s = document.createElement('script');\n",
       "  s.src = url;\n",
       "  s.async = true;\n",
       "  s.onreadystatechange = s.onload = callback;\n",
       "  s.onerror = function(){console.warn(\"failed to load library \" + url);};\n",
       "  document.getElementsByTagName(\"head\")[0].appendChild(s);\n",
       "}\n",
       "\n",
       "if(typeof(LDAvis) !== \"undefined\"){\n",
       "   // already loaded: just create the visualization\n",
       "   !function(LDAvis){\n",
       "       new LDAvis(\"#\" + \"ldavis_el99727476835461660587028\", ldavis_el99727476835461660587028_data);\n",
       "   }(LDAvis);\n",
       "}else if(typeof define === \"function\" && define.amd){\n",
       "   // require.js is available: use it to load d3/LDAvis\n",
       "   require.config({paths: {d3: \"https://cdnjs.cloudflare.com/ajax/libs/d3/3.5.5/d3.min\"}});\n",
       "   require([\"d3\"], function(d3){\n",
       "      window.d3 = d3;\n",
       "      LDAvis_load_lib(\"https://cdn.rawgit.com/bmabey/pyLDAvis/files/ldavis.v1.0.0.js\", function(){\n",
       "        new LDAvis(\"#\" + \"ldavis_el99727476835461660587028\", ldavis_el99727476835461660587028_data);\n",
       "      });\n",
       "    });\n",
       "}else{\n",
       "    // require.js not available: dynamically load d3 & LDAvis\n",
       "    LDAvis_load_lib(\"https://cdnjs.cloudflare.com/ajax/libs/d3/3.5.5/d3.min.js\", function(){\n",
       "         LDAvis_load_lib(\"https://cdn.rawgit.com/bmabey/pyLDAvis/files/ldavis.v1.0.0.js\", function(){\n",
       "                 new LDAvis(\"#\" + \"ldavis_el99727476835461660587028\", ldavis_el99727476835461660587028_data);\n",
       "            })\n",
       "         });\n",
       "}\n",
       "</script>"
      ],
      "text/plain": [
       "PreparedData(topic_coordinates=            Freq  cluster  topics         x         y\n",
       "topic                                                \n",
       "4      98.779053        1       1 -0.024746 -0.006137\n",
       "2       0.177807        1       2  0.002575  0.000636\n",
       "9       0.130396        1       3  0.002770  0.000692\n",
       "3       0.130395        1       4  0.002772  0.000686\n",
       "8       0.130393        1       5  0.002772  0.000686\n",
       "7       0.130393        1       6  0.002771  0.000688\n",
       "5       0.130393        1       7  0.002771  0.000689\n",
       "6       0.130392        1       8  0.002772  0.000686\n",
       "0       0.130392        1       9  0.002771  0.000687\n",
       "1       0.130392        1      10  0.002772  0.000687, topic_info=     Category      Freq           Term     Total  loglift  logprob\n",
       "term                                                              \n",
       "26    Default  4.000000           work  4.000000  30.0000  30.0000\n",
       "23    Default  2.000000   professional  2.000000  29.0000  29.0000\n",
       "15    Default  2.000000         highly  2.000000  28.0000  28.0000\n",
       "5     Default  2.000000          donna  2.000000  27.0000  27.0000\n",
       "22    Default  1.000000       pleasure  1.000000  26.0000  26.0000\n",
       "25    Default  1.000000      recommend  1.000000  25.0000  25.0000\n",
       "0     Default  1.000000         always  1.000000  24.0000  24.0000\n",
       "20    Default  1.000000    on_the_ball  1.000000  23.0000  23.0000\n",
       "28    Default  1.000000           year  1.000000  22.0000  22.0000\n",
       "24    Default  1.000000           real  1.000000  21.0000  21.0000\n",
       "30    Default  1.000000         justin  1.000000  20.0000  20.0000\n",
       "29    Default  1.000000     consummate  1.000000  19.0000  19.0000\n",
       "31    Default  1.000000           time  1.000000  18.0000  18.0000\n",
       "12    Default  1.000000          field  1.000000  17.0000  17.0000\n",
       "10    Default  1.000000            eye  1.000000  16.0000  16.0000\n",
       "27    Default  1.000000         worker  1.000000  15.0000  15.0000\n",
       "16    Default  1.000000  knowledgeable  1.000000  14.0000  14.0000\n",
       "11    Default  1.000000           fail  1.000000  13.0000  13.0000\n",
       "2     Default  1.000000        deliver  1.000000  12.0000  12.0000\n",
       "18    Default  1.000000          never  1.000000  11.0000  11.0000\n",
       "14    Default  1.000000    hardworking  1.000000  10.0000  10.0000\n",
       "4     Default  1.000000         detail  1.000000   9.0000   9.0000\n",
       "21    Default  1.000000       organise  1.000000   8.0000   8.0000\n",
       "13    Default  1.000000           find  1.000000   7.0000   7.0000\n",
       "17    Default  1.000000     meticulous  1.000000   6.0000   6.0000\n",
       "7     Default  1.000000     experience  1.000000   5.0000   5.0000\n",
       "9     Default  1.000000      extremely  1.000000   4.0000   4.0000\n",
       "1     Default  1.000000     creativity  1.000000   3.0000   3.0000\n",
       "8     Default  1.000000         expert  1.000000   2.0000   2.0000\n",
       "19    Default  1.000000         number  1.000000   1.0000   1.0000\n",
       "...       ...       ...            ...       ...      ...      ...\n",
       "19    Topic10  0.001956         number  1.036003   0.3701  -3.4657\n",
       "8     Topic10  0.001956         expert  1.036267   0.3698  -3.4657\n",
       "1     Topic10  0.001956     creativity  1.036317   0.3698  -3.4657\n",
       "9     Topic10  0.001956      extremely  1.036456   0.3697  -3.4657\n",
       "7     Topic10  0.001956     experience  1.036484   0.3696  -3.4657\n",
       "17    Topic10  0.001956     meticulous  1.036632   0.3695  -3.4657\n",
       "13    Topic10  0.001956           find  1.036694   0.3694  -3.4657\n",
       "21    Topic10  0.001956       organise  1.036695   0.3694  -3.4657\n",
       "4     Topic10  0.001956         detail  1.036847   0.3693  -3.4657\n",
       "14    Topic10  0.001956    hardworking  1.036924   0.3692  -3.4657\n",
       "18    Topic10  0.001956          never  1.037011   0.3691  -3.4657\n",
       "2     Topic10  0.001956        deliver  1.037012   0.3691  -3.4657\n",
       "11    Topic10  0.001956           fail  1.037064   0.3691  -3.4657\n",
       "16    Topic10  0.001956  knowledgeable  1.037083   0.3691  -3.4657\n",
       "27    Topic10  0.001956         worker  1.037139   0.3690  -3.4657\n",
       "10    Topic10  0.001956            eye  1.037298   0.3688  -3.4657\n",
       "12    Topic10  0.001956          field  1.037425   0.3687  -3.4657\n",
       "31    Topic10  0.001956           time  1.038772   0.3674  -3.4657\n",
       "29    Topic10  0.001956     consummate  1.038772   0.3674  -3.4657\n",
       "30    Topic10  0.001956         justin  1.038772   0.3674  -3.4657\n",
       "24    Topic10  0.001956           real  1.961991  -0.2685  -3.4657\n",
       "28    Topic10  0.001956           year  1.961993  -0.2685  -3.4657\n",
       "20    Topic10  0.001956    on_the_ball  1.962060  -0.2685  -3.4657\n",
       "0     Topic10  0.001956         always  1.962228  -0.2686  -3.4657\n",
       "25    Topic10  0.001956      recommend  1.963287  -0.2692  -3.4657\n",
       "22    Topic10  0.001956       pleasure  1.964530  -0.2698  -3.4657\n",
       "15    Topic10  0.001956         highly  2.888135  -0.6551  -3.4657\n",
       "5     Topic10  0.001956          donna  2.888917  -0.6554  -3.4657\n",
       "23    Topic10  0.001956   professional  2.890659  -0.6560  -3.4657\n",
       "26    Topic10  0.001956           work  4.742743  -1.1512  -3.4657\n",
       "\n",
       "[348 rows x 6 columns], token_table=      Topic      Freq           Term\n",
       "term                                \n",
       "0         1  1.019250         always\n",
       "29        1  0.962675     consummate\n",
       "1         1  0.964956     creativity\n",
       "2         1  0.964309        deliver\n",
       "3         1  0.965286       designer\n",
       "4         1  0.964462         detail\n",
       "5         1  1.038452          donna\n",
       "6         1  0.965413          ethic\n",
       "7         1  0.964800     experience\n",
       "8         1  0.965002         expert\n",
       "9         1  0.964826      extremely\n",
       "10        1  0.964043            eye\n",
       "11        1  0.964260           fail\n",
       "12        1  0.963925          field\n",
       "13        1  0.964605           find\n",
       "14        1  0.964391    hardworking\n",
       "15        1  1.038733         highly\n",
       "30        1  0.962675         justin\n",
       "16        1  0.964243  knowledgeable\n",
       "17        1  0.964662     meticulous\n",
       "18        1  0.964310          never\n",
       "19        1  0.965248         number\n",
       "20        1  1.019337    on_the_ball\n",
       "21        1  0.964604       organise\n",
       "22        1  1.018055       pleasure\n",
       "23        1  1.037825   professional\n",
       "24        1  1.019373           real\n",
       "25        1  1.018700      recommend\n",
       "31        1  0.962675           time\n",
       "26        1  1.054242           work\n",
       "27        1  0.964191         worker\n",
       "28        1  1.019372           year, R=30, lambda_step=0.01, plot_opts={'xlab': 'PC1', 'ylab': 'PC2'}, topic_order=[5, 3, 10, 4, 9, 8, 6, 7, 1, 2])"
      ]
     },
     "execution_count": 18,
     "metadata": {},
     "output_type": "execute_result"
    }
   ],
   "source": [
    "# visualize the topics using pyLDAvis\n",
    "pyLDAvis.enable_notebook()\n",
    "pyLDAvis.gensim.prepare(lda_model, corpus,\n",
    "                        id2word, mds='mmds')"
   ]
  },
  {
   "cell_type": "code",
   "execution_count": 19,
   "metadata": {
    "hidden": true
   },
   "outputs": [],
   "source": [
    "mallet_path = 'mallet-2.0.8/bin/mallet'\n",
    "ldamallet = gensim.models.wrappers.LdaMallet(mallet_path, corpus=corpus, num_topics=10, id2word=id2word)"
   ]
  },
  {
   "cell_type": "code",
   "execution_count": 20,
   "metadata": {
    "hidden": true
   },
   "outputs": [
    {
     "name": "stdout",
     "output_type": "stream",
     "text": [
      "\n",
      "Coherence Score:  0.6517157729480001\n",
      "[(0,\n",
      "  [('professional', 0.42857142857142855),\n",
      "   ('year', 0.2857142857142857),\n",
      "   ('deliver', 0.14285714285714285),\n",
      "   ('expert', 0.14285714285714285),\n",
      "   ('real', 0.0),\n",
      "   ('work', 0.0),\n",
      "   ('on_the_ball', 0.0),\n",
      "   ('organise', 0.0),\n",
      "   ('pleasure', 0.0),\n",
      "   ('never', 0.0)]),\n",
      " (1,\n",
      "  [('recommend', 0.6666666666666666),\n",
      "   ('ethic', 0.3333333333333333),\n",
      "   ('work', 0.0),\n",
      "   ('number', 0.0),\n",
      "   ('on_the_ball', 0.0),\n",
      "   ('organise', 0.0),\n",
      "   ('pleasure', 0.0),\n",
      "   ('professional', 0.0),\n",
      "   ('meticulous', 0.0),\n",
      "   ('real', 0.0)]),\n",
      " (2,\n",
      "  [('consummate', 0.3333333333333333),\n",
      "   ('detail', 0.3333333333333333),\n",
      "   ('find', 0.3333333333333333),\n",
      "   ('professional', 0.0),\n",
      "   ('work', 0.0),\n",
      "   ('on_the_ball', 0.0),\n",
      "   ('organise', 0.0),\n",
      "   ('pleasure', 0.0),\n",
      "   ('never', 0.0),\n",
      "   ('real', 0.0)]),\n",
      " (3,\n",
      "  [('extremely', 0.3333333333333333),\n",
      "   ('experience', 0.3333333333333333),\n",
      "   ('worker', 0.3333333333333333),\n",
      "   ('on_the_ball', 0.0),\n",
      "   ('organise', 0.0),\n",
      "   ('pleasure', 0.0),\n",
      "   ('professional', 0.0),\n",
      "   ('real', 0.0),\n",
      "   ('never', 0.0),\n",
      "   ('year', 0.0)]),\n",
      " (4,\n",
      "  [('meticulous', 0.25),\n",
      "   ('designer', 0.25),\n",
      "   ('hardworking', 0.25),\n",
      "   ('on_the_ball', 0.25),\n",
      "   ('professional', 0.0),\n",
      "   ('number', 0.0),\n",
      "   ('organise', 0.0),\n",
      "   ('pleasure', 0.0),\n",
      "   ('recommend', 0.0),\n",
      "   ('real', 0.0)]),\n",
      " (5,\n",
      "  [('pleasure', 0.6666666666666666),\n",
      "   ('fail', 0.3333333333333333),\n",
      "   ('professional', 0.0),\n",
      "   ('recommend', 0.0),\n",
      "   ('number', 0.0),\n",
      "   ('on_the_ball', 0.0),\n",
      "   ('organise', 0.0),\n",
      "   ('meticulous', 0.0),\n",
      "   ('real', 0.0),\n",
      "   ('year', 0.0)]),\n",
      " (6,\n",
      "  [('donna', 0.6),\n",
      "   ('creativity', 0.2),\n",
      "   ('justin', 0.2),\n",
      "   ('professional', 0.0),\n",
      "   ('number', 0.0),\n",
      "   ('on_the_ball', 0.0),\n",
      "   ('organise', 0.0),\n",
      "   ('pleasure', 0.0),\n",
      "   ('never', 0.0),\n",
      "   ('real', 0.0)]),\n",
      " (7,\n",
      "  [('number', 0.25),\n",
      "   ('field', 0.25),\n",
      "   ('organise', 0.25),\n",
      "   ('time', 0.25),\n",
      "   ('professional', 0.0),\n",
      "   ('recommend', 0.0),\n",
      "   ('on_the_ball', 0.0),\n",
      "   ('pleasure', 0.0),\n",
      "   ('meticulous', 0.0),\n",
      "   ('year', 0.0)]),\n",
      " (8,\n",
      "  [('highly', 0.5),\n",
      "   ('knowledgeable', 0.16666666666666666),\n",
      "   ('on_the_ball', 0.16666666666666666),\n",
      "   ('eye', 0.16666666666666666),\n",
      "   ('professional', 0.0),\n",
      "   ('number', 0.0),\n",
      "   ('organise', 0.0),\n",
      "   ('pleasure', 0.0),\n",
      "   ('recommend', 0.0),\n",
      "   ('year', 0.0)]),\n",
      " (9,\n",
      "  [('work', 0.7142857142857143),\n",
      "   ('real', 0.2857142857142857),\n",
      "   ('recommend', 0.0),\n",
      "   ('number', 0.0),\n",
      "   ('on_the_ball', 0.0),\n",
      "   ('organise', 0.0),\n",
      "   ('pleasure', 0.0),\n",
      "   ('professional', 0.0),\n",
      "   ('meticulous', 0.0),\n",
      "   ('justin', 0.0)])]\n"
     ]
    }
   ],
   "source": [
    "# check whether we've improved coherence score\n",
    "coherence_model_ldamallet = CoherenceModel(model=ldamallet, texts=data_lemmatized, dictionary=id2word, coherence='c_v')\n",
    "coherence_ldamallet = coherence_model_ldamallet.get_coherence()\n",
    "print('\\nCoherence Score: ', coherence_ldamallet)\n",
    "\n",
    "# and show me the topics\n",
    "pprint(ldamallet.show_topics(formatted=False))"
   ]
  },
  {
   "cell_type": "markdown",
   "metadata": {
    "hidden": true
   },
   "source": [
    "Coherece score is up by 9.9% ... great job!"
   ]
  },
  {
   "cell_type": "code",
   "execution_count": 21,
   "metadata": {
    "hidden": true
   },
   "outputs": [
    {
     "name": "stderr",
     "output_type": "stream",
     "text": [
      "/Users/oliversteadman/anaconda3/lib/python3.6/site-packages/gensim/models/wrappers/ldamallet.py:373: RuntimeWarning: invalid value encountered in true_divide\n",
      "  return topics / topics.sum(axis=1)[:, None]\n"
     ]
    },
    {
     "data": {
      "image/png": "[encoded data removed]",
      "text/plain": [
       "<Figure size 432x288 with 1 Axes>"
      ]
     },
     "metadata": {
      "image/png": {
       "height": 260,
       "width": 438
      }
     },
     "output_type": "display_data"
    }
   ],
   "source": [
    "def compute_coherence_values(dictionary, corpus, texts, limit, start=2, step=3):\n",
    "    \"\"\"\n",
    "    Compute c_v coherence for various number of topics\n",
    "\n",
    "    Parameters:\n",
    "    ----------\n",
    "    dictionary : Gensim dictionary\n",
    "    corpus : Gensim corpus\n",
    "    texts : List of input texts\n",
    "    limit : Max num of topics\n",
    "\n",
    "    Returns:\n",
    "    -------\n",
    "    model_list : List of LDA topic models\n",
    "    coherence_values : Coherence values corresponding to LDA model w/ respective num of topics\n",
    "    \"\"\"\n",
    "    coherence_values = []\n",
    "    model_list = []\n",
    "    for num_topics in range(start, limit, step):\n",
    "        model = gensim.models.wrappers.LdaMallet(mallet_path,\n",
    "                                                 corpus=corpus,\n",
    "                                                 num_topics=num_topics,\n",
    "                                                 id2word=id2word)\n",
    "        model_list.append(model)\n",
    "        coherencemodel = CoherenceModel(model=model, texts=texts,\n",
    "                                        dictionary=dictionary, coherence='c_v')\n",
    "        coherence_values.append(coherencemodel.get_coherence())\n",
    "\n",
    "    return model_list, coherence_values\n",
    "\n",
    "# this is the memory-intensive step in the notebook: takes ~2mins to complete!\n",
    "model_list, coherence_values = compute_coherence_values(dictionary=id2word,\n",
    "                                                        corpus=corpus,\n",
    "                                                        texts=data_lemmatized,\n",
    "                                                        start=2,\n",
    "                                                        limit=40,\n",
    "                                                        step=6)\n",
    "\n",
    "# lets plot that\n",
    "limit=40; start=2; step=6;\n",
    "x = range(start, limit, step)\n",
    "plt.plot(x, coherence_values)\n",
    "plt.xlabel(\"Num Topics\")\n",
    "plt.ylabel(\"Coherence score\");"
   ]
  },
  {
   "cell_type": "code",
   "execution_count": 22,
   "metadata": {
    "hidden": true
   },
   "outputs": [
    {
     "name": "stdout",
     "output_type": "stream",
     "text": [
      "Num Topics = 2  has Coherence Value of 0.6572\n",
      "Num Topics = 8  has Coherence Value of 0.6493\n",
      "Num Topics = 14  has Coherence Value of 0.6545\n",
      "Num Topics = 20  has Coherence Value of 0.6566\n",
      "Num Topics = 26  has Coherence Value of 0.6577\n",
      "Num Topics = 32  has Coherence Value of 0.6584\n",
      "Num Topics = 38  has Coherence Value of 0.6589\n"
     ]
    }
   ],
   "source": [
    "# lets check those coherence scores\n",
    "for m, cv in zip(x, coherence_values):\n",
    "    print(\"Num Topics =\", m, \" has Coherence Value of\", round(cv, 4))"
   ]
  },
  {
   "cell_type": "code",
   "execution_count": 23,
   "metadata": {
    "hidden": true
   },
   "outputs": [
    {
     "name": "stdout",
     "output_type": "stream",
     "text": [
      "[(0,\n",
      "  '1.000*\"real\" + 0.000*\"recommend\" + 0.000*\"number\" + 0.000*\"on_the_ball\" + '\n",
      "  '0.000*\"organise\" + 0.000*\"pleasure\" + 0.000*\"professional\" + '\n",
      "  '0.000*\"meticulous\" + 0.000*\"year\" + 0.000*\"consummate\"'),\n",
      " (1,\n",
      "  '0.333*\"meticulous\" + 0.333*\"deliver\" + 0.333*\"field\" + 0.000*\"professional\" '\n",
      "  '+ 0.000*\"number\" + 0.000*\"on_the_ball\" + 0.000*\"organise\" + '\n",
      "  '0.000*\"pleasure\" + 0.000*\"recommend\" + 0.000*\"real\"'),\n",
      " (2,\n",
      "  '1.000*\"pleasure\" + 0.000*\"real\" + 0.000*\"recommend\" + 0.000*\"number\" + '\n",
      "  '0.000*\"on_the_ball\" + 0.000*\"organise\" + 0.000*\"professional\" + '\n",
      "  '0.000*\"meticulous\" + 0.000*\"year\" + 0.000*\"consummate\"'),\n",
      " (3,\n",
      "  'nan*\"real\" + nan*\"recommend\" + nan*\"number\" + nan*\"on_the_ball\" + '\n",
      "  'nan*\"organise\" + nan*\"pleasure\" + nan*\"professional\" + nan*\"meticulous\" + '\n",
      "  'nan*\"year\" + nan*\"consummate\"'),\n",
      " (4,\n",
      "  '0.250*\"creativity\" + 0.250*\"consummate\" + 0.250*\"hardworking\" + '\n",
      "  '0.250*\"find\" + 0.000*\"pleasure\" + 0.000*\"real\" + 0.000*\"on_the_ball\" + '\n",
      "  '0.000*\"organise\" + 0.000*\"never\" + 0.000*\"professional\"'),\n",
      " (5,\n",
      "  '0.667*\"on_the_ball\" + 0.333*\"number\" + 0.000*\"real\" + 0.000*\"recommend\" + '\n",
      "  '0.000*\"organise\" + 0.000*\"pleasure\" + 0.000*\"professional\" + '\n",
      "  '0.000*\"meticulous\" + 0.000*\"year\" + 0.000*\"consummate\"'),\n",
      " (6,\n",
      "  '0.333*\"professional\" + 0.333*\"year\" + 0.333*\"ethic\" + 0.000*\"work\" + '\n",
      "  '0.000*\"number\" + 0.000*\"on_the_ball\" + 0.000*\"organise\" + 0.000*\"pleasure\" '\n",
      "  '+ 0.000*\"meticulous\" + 0.000*\"real\"'),\n",
      " (7,\n",
      "  '0.500*\"expert\" + 0.500*\"time\" + 0.000*\"recommend\" + 0.000*\"number\" + '\n",
      "  '0.000*\"on_the_ball\" + 0.000*\"organise\" + 0.000*\"pleasure\" + '\n",
      "  '0.000*\"professional\" + 0.000*\"meticulous\" + 0.000*\"real\"'),\n",
      " (8,\n",
      "  '1.000*\"donna\" + 0.000*\"real\" + 0.000*\"work\" + 0.000*\"number\" + '\n",
      "  '0.000*\"on_the_ball\" + 0.000*\"organise\" + 0.000*\"pleasure\" + '\n",
      "  '0.000*\"professional\" + 0.000*\"meticulous\" + 0.000*\"year\"'),\n",
      " (9,\n",
      "  '0.600*\"highly\" + 0.200*\"detail\" + 0.200*\"fail\" + 0.000*\"professional\" + '\n",
      "  '0.000*\"work\" + 0.000*\"on_the_ball\" + 0.000*\"organise\" + 0.000*\"pleasure\" + '\n",
      "  '0.000*\"never\" + 0.000*\"real\"'),\n",
      " (10,\n",
      "  '1.000*\"justin\" + 0.000*\"professional\" + 0.000*\"recommend\" + 0.000*\"number\" '\n",
      "  '+ 0.000*\"on_the_ball\" + 0.000*\"organise\" + 0.000*\"pleasure\" + '\n",
      "  '0.000*\"meticulous\" + 0.000*\"real\" + 0.000*\"consummate\"'),\n",
      " (11,\n",
      "  '1.000*\"work\" + 0.000*\"professional\" + 0.000*\"recommend\" + 0.000*\"number\" + '\n",
      "  '0.000*\"on_the_ball\" + 0.000*\"organise\" + 0.000*\"pleasure\" + '\n",
      "  '0.000*\"meticulous\" + 0.000*\"real\" + 0.000*\"justin\"'),\n",
      " (12,\n",
      "  '0.500*\"knowledgeable\" + 0.500*\"organise\" + 0.000*\"professional\" + '\n",
      "  '0.000*\"never\" + 0.000*\"number\" + 0.000*\"on_the_ball\" + 0.000*\"pleasure\" + '\n",
      "  '0.000*\"recommend\" + 0.000*\"real\" + 0.000*\"year\"'),\n",
      " (13,\n",
      "  '1.000*\"experience\" + 0.000*\"real\" + 0.000*\"number\" + 0.000*\"on_the_ball\" + '\n",
      "  '0.000*\"organise\" + 0.000*\"pleasure\" + 0.000*\"professional\" + '\n",
      "  '0.000*\"meticulous\" + 0.000*\"recommend\" + 0.000*\"year\"'),\n",
      " (14,\n",
      "  '1.000*\"professional\" + 0.000*\"real\" + 0.000*\"recommend\" + 0.000*\"number\" + '\n",
      "  '0.000*\"on_the_ball\" + 0.000*\"organise\" + 0.000*\"pleasure\" + '\n",
      "  '0.000*\"meticulous\" + 0.000*\"year\" + 0.000*\"consummate\"'),\n",
      " (15,\n",
      "  '1.000*\"extremely\" + 0.000*\"recommend\" + 0.000*\"number\" + '\n",
      "  '0.000*\"on_the_ball\" + 0.000*\"organise\" + 0.000*\"pleasure\" + '\n",
      "  '0.000*\"professional\" + 0.000*\"meticulous\" + 0.000*\"real\" + 0.000*\"year\"'),\n",
      " (16,\n",
      "  '0.500*\"year\" + 0.500*\"worker\" + 0.000*\"professional\" + 0.000*\"recommend\" + '\n",
      "  '0.000*\"number\" + 0.000*\"on_the_ball\" + 0.000*\"organise\" + 0.000*\"pleasure\" '\n",
      "  '+ 0.000*\"meticulous\" + 0.000*\"justin\"'),\n",
      " (17,\n",
      "  '0.667*\"recommend\" + 0.333*\"eye\" + 0.000*\"professional\" + 0.000*\"number\" + '\n",
      "  '0.000*\"on_the_ball\" + 0.000*\"organise\" + 0.000*\"pleasure\" + '\n",
      "  '0.000*\"meticulous\" + 0.000*\"real\" + 0.000*\"year\"'),\n",
      " (18,\n",
      "  '1.000*\"designer\" + 0.000*\"real\" + 0.000*\"work\" + 0.000*\"number\" + '\n",
      "  '0.000*\"on_the_ball\" + 0.000*\"organise\" + 0.000*\"pleasure\" + '\n",
      "  '0.000*\"professional\" + 0.000*\"meticulous\" + 0.000*\"year\"'),\n",
      " (19,\n",
      "  'nan*\"real\" + nan*\"recommend\" + nan*\"number\" + nan*\"on_the_ball\" + '\n",
      "  'nan*\"organise\" + nan*\"pleasure\" + nan*\"professional\" + nan*\"meticulous\" + '\n",
      "  'nan*\"year\" + nan*\"consummate\"')]\n"
     ]
    },
    {
     "name": "stderr",
     "output_type": "stream",
     "text": [
      "/Users/oliversteadman/anaconda3/lib/python3.6/site-packages/gensim/models/wrappers/ldamallet.py:442: RuntimeWarning: invalid value encountered in true_divide\n",
      "  topic = topic / topic.sum()  # normalize to probability dist\n"
     ]
    }
   ],
   "source": [
    "# Select the model and print the topics\n",
    "optimal_model = model_list[3]\n",
    "model_topics = optimal_model.show_topics(formatted=False)\n",
    "pprint(optimal_model.print_topics(num_words=10))"
   ]
  },
  {
   "cell_type": "code",
   "execution_count": 26,
   "metadata": {
    "hidden": true
   },
   "outputs": [
    {
     "data": {
      "text/html": [
       "<div>\n",
       "<style scoped>\n",
       "    .dataframe tbody tr th:only-of-type {\n",
       "        vertical-align: middle;\n",
       "    }\n",
       "\n",
       "    .dataframe tbody tr th {\n",
       "        vertical-align: top;\n",
       "    }\n",
       "\n",
       "    .dataframe thead th {\n",
       "        text-align: right;\n",
       "    }\n",
       "</style>\n",
       "<table border=\"1\" class=\"dataframe\">\n",
       "  <thead>\n",
       "    <tr style=\"text-align: right;\">\n",
       "      <th></th>\n",
       "      <th>Document_No</th>\n",
       "      <th>Dominant_Topic</th>\n",
       "      <th>Topic_Perc_Contrib</th>\n",
       "      <th>Keywords</th>\n",
       "      <th>Text</th>\n",
       "    </tr>\n",
       "  </thead>\n",
       "  <tbody>\n",
       "    <tr>\n",
       "      <th>0</th>\n",
       "      <td>0</td>\n",
       "      <td>9.0</td>\n",
       "      <td>0.0805</td>\n",
       "      <td>highly, detail, fail, professional, work, on_t...</td>\n",
       "      <td>{'name': 'Donna Summer', 'updated': '2016-02-2...</td>\n",
       "    </tr>\n",
       "    <tr>\n",
       "      <th>1</th>\n",
       "      <td>1</td>\n",
       "      <td>7.0</td>\n",
       "      <td>0.0665</td>\n",
       "      <td>expert, time, recommend, number, on_the_ball, ...</td>\n",
       "      <td>{'name': 'Justin Bieber', 'updated': '2016-02-...</td>\n",
       "    </tr>\n",
       "  </tbody>\n",
       "</table>\n",
       "</div>"
      ],
      "text/plain": [
       "   Document_No  Dominant_Topic  Topic_Perc_Contrib  \\\n",
       "0            0             9.0              0.0805   \n",
       "1            1             7.0              0.0665   \n",
       "\n",
       "                                            Keywords  \\\n",
       "0  highly, detail, fail, professional, work, on_t...   \n",
       "1  expert, time, recommend, number, on_the_ball, ...   \n",
       "\n",
       "                                                Text  \n",
       "0  {'name': 'Donna Summer', 'updated': '2016-02-2...  \n",
       "1  {'name': 'Justin Bieber', 'updated': '2016-02-...  "
      ]
     },
     "execution_count": 26,
     "metadata": {},
     "output_type": "execute_result"
    }
   ],
   "source": [
    "def format_topics_sentences(ldamodel=lda_model, corpus=corpus, texts=data):\n",
    "    # initialise empty df\n",
    "    sent_topics_df = pd.DataFrame()\n",
    "\n",
    "    # get main topic in each document\n",
    "    for i, row in enumerate(ldamodel[corpus]):\n",
    "        row = sorted(row, key=lambda x: (x[1]), reverse=True)\n",
    "        \n",
    "        # get dominant topic, its % contribution, and kw's\n",
    "        for j, (topic_num, prop_topic) in enumerate(row):\n",
    "            \n",
    "            if j == 0:  # i.e. if this is the dominant topic\n",
    "                wp = ldamodel.show_topic(topic_num)\n",
    "                topic_keywords = \", \".join([word for word, prop in wp])\n",
    "                sent_topics_df = sent_topics_df.append(\n",
    "                                                       pd.Series([int(topic_num),\n",
    "                                                                  round(prop_topic,4),\n",
    "                                                                  topic_keywords]\n",
    "                                                                ),\n",
    "                                                       ignore_index=True)\n",
    "            else:\n",
    "                break\n",
    "                \n",
    "    sent_topics_df.columns = ['Dominant_Topic', 'Perc_Contribution', 'Topic_Keywords']\n",
    "\n",
    "    # add the original text to end of output\n",
    "    contents = pd.Series(texts)\n",
    "    sent_topics_df = pd.concat([sent_topics_df, contents], axis=1)\n",
    "    return(sent_topics_df)\n",
    "\n",
    "\n",
    "df_topic_sents_keywords = format_topics_sentences(ldamodel=optimal_model,\n",
    "                                                  corpus=corpus,\n",
    "                                                  texts=data)\n",
    "df_dominant_topic = df_topic_sents_keywords.reset_index()\n",
    "df_dominant_topic.columns = ['Document_No',\n",
    "                             'Dominant_Topic',\n",
    "                             'Topic_Perc_Contrib',\n",
    "                             'Keywords',\n",
    "                             'Text']\n",
    "df_dominant_topic.head()"
   ]
  },
  {
   "cell_type": "code",
   "execution_count": 25,
   "metadata": {
    "hidden": true
   },
   "outputs": [
    {
     "data": {
      "text/html": [
       "<div>\n",
       "<style scoped>\n",
       "    .dataframe tbody tr th:only-of-type {\n",
       "        vertical-align: middle;\n",
       "    }\n",
       "\n",
       "    .dataframe tbody tr th {\n",
       "        vertical-align: top;\n",
       "    }\n",
       "\n",
       "    .dataframe thead th {\n",
       "        text-align: right;\n",
       "    }\n",
       "</style>\n",
       "<table border=\"1\" class=\"dataframe\">\n",
       "  <thead>\n",
       "    <tr style=\"text-align: right;\">\n",
       "      <th></th>\n",
       "      <th>Topic_Num</th>\n",
       "      <th>Topic_Perc_Contrib</th>\n",
       "      <th>Keywords</th>\n",
       "      <th>Text</th>\n",
       "    </tr>\n",
       "  </thead>\n",
       "  <tbody>\n",
       "    <tr>\n",
       "      <th>0</th>\n",
       "      <td>7.0</td>\n",
       "      <td>0.0665</td>\n",
       "      <td>expert, time, recommend, number, on_the_ball, ...</td>\n",
       "      <td>{'name': 'Justin Bieber', 'updated': '2016-02-...</td>\n",
       "    </tr>\n",
       "    <tr>\n",
       "      <th>1</th>\n",
       "      <td>9.0</td>\n",
       "      <td>0.0805</td>\n",
       "      <td>highly, detail, fail, professional, work, on_t...</td>\n",
       "      <td>{'name': 'Donna Summer', 'updated': '2016-02-2...</td>\n",
       "    </tr>\n",
       "  </tbody>\n",
       "</table>\n",
       "</div>"
      ],
      "text/plain": [
       "   Topic_Num  Topic_Perc_Contrib  \\\n",
       "0        7.0              0.0665   \n",
       "1        9.0              0.0805   \n",
       "\n",
       "                                            Keywords  \\\n",
       "0  expert, time, recommend, number, on_the_ball, ...   \n",
       "1  highly, detail, fail, professional, work, on_t...   \n",
       "\n",
       "                                                Text  \n",
       "0  {'name': 'Justin Bieber', 'updated': '2016-02-...  \n",
       "1  {'name': 'Donna Summer', 'updated': '2016-02-2...  "
      ]
     },
     "execution_count": 25,
     "metadata": {},
     "output_type": "execute_result"
    }
   ],
   "source": [
    "# group top 5 sentences per topic\n",
    "sent_topics_sorteddf_mallet = pd.DataFrame()\n",
    "\n",
    "sent_topics_outdf_grpd = df_topic_sents_keywords.groupby('Dominant_Topic')\n",
    "\n",
    "for i, grp in sent_topics_outdf_grpd:\n",
    "    sent_topics_sorteddf_mallet = pd.concat([sent_topics_sorteddf_mallet, \n",
    "                                             grp.sort_values(['Perc_Contribution'], ascending=[0]).head(1)], \n",
    "                                            axis=0)\n",
    "\n",
    "sent_topics_sorteddf_mallet.reset_index(drop=True, inplace=True)\n",
    "sent_topics_sorteddf_mallet.columns = ['Topic_Num', \"Topic_Perc_Contrib\", \"Keywords\", \"Text\"]\n",
    "sent_topics_sorteddf_mallet.head()"
   ]
  }
 ],
 "metadata": {
  "hide_input": false,
  "kernelspec": {
   "display_name": "Python 3",
   "language": "python",
   "name": "python3"
  },
  "language_info": {
   "codemirror_mode": {
    "name": "ipython",
    "version": 3
   },
   "file_extension": ".py",
   "mimetype": "text/x-python",
   "name": "python",
   "nbconvert_exporter": "python",
   "pygments_lexer": "ipython3",
   "version": "3.6.2"
  },
  "toc": {
   "nav_menu": {},
   "number_sections": true,
   "sideBar": true,
   "skip_h1_title": false,
   "title_cell": "Table of Contents",
   "title_sidebar": "Contents",
   "toc_cell": false,
   "toc_position": {},
   "toc_section_display": true,
   "toc_window_display": false
  }
 },
 "nbformat": 4,
 "nbformat_minor": 2
}
