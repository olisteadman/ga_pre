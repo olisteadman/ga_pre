{
 "cells": [
  {
   "cell_type": "code",
   "execution_count": 106,
   "metadata": {
    "hide_input": true
   },
   "outputs": [
    {
     "data": {
      "text/html": [
       "<center><img src=\"http://pitchatpalace.com/wp-content/uploads/2018/03/chosen.png\" style=\"margin: 20px; height: 180px; border: 1px solid black\"\n",
       "\n",
       "⬆︎ TO HIDE THIS CELL, PLS USE TOOLBAR BUTTON ABOVE ⬆︎ IT IS JUST THE TITLE CELL FORMATTING>\n",
       "\n",
       "<style>\n",
       "span.red {\n",
       "    color: coral\n",
       "}\n",
       "</style>\n",
       "<h1>Task for <span class=red>data role</span> candidates 2018</h1>"
      ],
      "text/plain": [
       "<IPython.core.display.HTML object>"
      ]
     },
     "metadata": {},
     "output_type": "display_data"
    }
   ],
   "source": [
    "%%HTML\n",
    "<center><img src=\"http://pitchatpalace.com/wp-content/uploads/2018/03/chosen.png\" style=\"margin: 20px; height: 180px; border: 1px solid black\"\n",
    "\n",
    "⬆︎ TO HIDE THIS CELL, PLS USE TOOLBAR BUTTON ABOVE ⬆︎ IT IS JUST THE TITLE CELL FORMATTING>\n",
    "\n",
    "<style>\n",
    "span.red {\n",
    "    color: coral\n",
    "}\n",
    "</style>\n",
    "<h1>Task for <span class=red>data role</span> candidates 2018</h1>"
   ]
  },
  {
   "cell_type": "markdown",
   "metadata": {},
   "source": [
    "- For part 1, you can zip me the code and send it by email, but bonus point if it’s a link to a private git (Bitbucket or Github) repo with a proper commit history.\n",
    "- For part 2 you can do it however you want, just text with explanation or in code with comments.\n",
    "- For part 3 if you have working code that would be awesome, if not what’s really important is your thought process so try to explain that as much as you can :)"
   ]
  },
  {
   "cell_type": "markdown",
   "metadata": {},
   "source": [
    "# part 1"
   ]
  },
  {
   "cell_type": "markdown",
   "metadata": {},
   "source": [
    "## Q"
   ]
  },
  {
   "cell_type": "markdown",
   "metadata": {},
   "source": [
    "1 - Given the following JSON structure:\n",
    "\n",
    "`{\n",
    "\"animals\": [\n",
    "{\n",
    "\"type\": \"cat\", #Can be cat/dog/snake/\n",
    "\"name\": \"Doe\", #Can be anything,\n",
    "\"age\": 5, #Integer\n",
    "\"color\" [\n",
    "{\n",
    "\"code\": \"red\" #Can be red,black,yellow,white\n",
    "},\n",
    "]\n",
    "}\n",
    "]\n",
    "}`\n",
    "\n",
    "Write a program sorting the animals by either color or type with the possiblity to save the output to a json or display it formatted in the console\n",
    "Input argument will be a json file.\n",
    "\n",
    "The language used should be Python.\n",
    "\n",
    "Bonus points for unit tests and code readability"
   ]
  },
  {
   "cell_type": "markdown",
   "metadata": {},
   "source": [
    "## A"
   ]
  },
  {
   "cell_type": "code",
   "execution_count": 108,
   "metadata": {},
   "outputs": [],
   "source": [
    "import json\n",
    "from ipywidgets import interact, interactive, fixed, interact_manual, SelectionSlider\n",
    "from pprint import pprint\n",
    "\n",
    "!ls"
   ]
  },
  {
   "cell_type": "code",
   "execution_count": 114,
   "metadata": {
    "scrolled": false
   },
   "outputs": [
    {
     "name": "stderr",
     "output_type": "stream",
     "text": [
      ".\n",
      "----------------------------------------------------------------------\n",
      "Ran 1 test in 0.004s\n",
      "\n",
      "OK\n"
     ]
    }
   ],
   "source": [
    "# lets import unittest script `test_jsonsort.py`, to conduct a test in situ\n",
    "%run -i test_jsonsort.py"
   ]
  },
  {
   "cell_type": "code",
   "execution_count": null,
   "metadata": {},
   "outputs": [],
   "source": [
    "animals_json = '''{\n",
    "\"animals\": [\n",
    "{\n",
    "\"type\": \"cat\", \"name\": \"Doe\", \"age\": 7, \"color\": [{\"code\": \"white\"}]},\n",
    "{\n",
    "\"type\": \"dog\", \"name\": \"Coe\", \"age\": 5, \"color\": [{\"code\": \"brown\"}]},\n",
    "{\n",
    "\"type\": \"pig\", \"name\": \"Poe\", \"age\": 6, \"color\": [{\"code\": \"black\"}]}\n",
    "]}'''\n",
    "\n",
    "data = json.loads(animals_json)\n",
    "animals = data['animals']\n",
    "\n",
    "# assuming animal 0 has typical schema, what are the keys for all animals?\n",
    "animalzero = animals[0]\n",
    "animalkeys = list(animalzero.keys())\n",
    "sortedkeys = sorted(animalkeys)"
   ]
  },
  {
   "cell_type": "code",
   "execution_count": 113,
   "metadata": {
    "scrolled": true
   },
   "outputs": [
    {
     "data": {
      "application/vnd.jupyter.widget-view+json": {
       "model_id": "b220c2517507479eb5e632482c2248c6",
       "version_major": 2,
       "version_minor": 0
      },
      "text/plain": [
       "interactive(children=(Text(value='{\\n\"animals\": [\\n{\"type\": \"cat\", \"name\": \"Doe\", \"age\": 7, \"color\": [{\"code\":…"
      ]
     },
     "metadata": {},
     "output_type": "display_data"
    }
   ],
   "source": [
    "# lets import the sort script `jsonsort.py`, to conduct a demo using ipywidget\n",
    "import jsonsort\n",
    "\n",
    "# define the interactive version of the sort script, for running here in .ipynb\n",
    "def interactive_animaux(json_raw=animals_json, sort_by='age', reverse=False):\n",
    "    print(\"Here's your json_raw sorted by ⭐️\\33[1m\\33[96m\", sort_by, '\\33[0m⭐️')\n",
    "    pprint(animaux(json_raw=json_raw, sort_by=sort_by, reverse=reverse))\n",
    "\n",
    "# #     uncomment the following to save output in `jsonsort.txt`\n",
    "# #     (this is already performed by the .py script but not when run as .ipynb)\n",
    "#     with open('jsonsort.txt', 'w') as file_update:\n",
    "#          json.dump(animaux(json_raw=json_raw, sort_by=sort_by, reverse=reverse),\n",
    "#                    file_update)\n",
    "\n",
    "\n",
    "interact(interactive_animaux,\n",
    "         sort_by={x: x for x in sortedkeys},\n",
    "         );"
   ]
  },
  {
   "cell_type": "markdown",
   "metadata": {},
   "source": [
    "# part 2"
   ]
  },
  {
   "cell_type": "markdown",
   "metadata": {},
   "source": [
    "## Q"
   ]
  },
  {
   "cell_type": "markdown",
   "metadata": {},
   "source": [
    "2 - What is the following piece of code doing, what's wrong with it, and how would you refactor it (You can assume nothing is relying on this code)?\n",
    "\n",
    "`import json\n",
    "import csv\n",
    "import datetime\n",
    "import time`\n",
    "\n",
    "`def func(var1,var2,var3,var4):\n",
    "    dictionary = {}\n",
    "    for value in var4:\n",
    "        dictionary[value['n']] = time.mktime(time.strptime(value['b'],var2))\n",
    "        with open(var1, 'w') as var5:\n",
    "             json.dump(dictionary, var5)`\n",
    "\n",
    "`func('blah.txt', '%d %b %y', [\n",
    "{\n",
    "\"n\": 'John Doe',\n",
    "'b':'30 Nov 98'\n",
    "},{’n': 'Josh Doe', 'b':'12 Apr 86'}])`"
   ]
  },
  {
   "cell_type": "markdown",
   "metadata": {},
   "source": [
    "## A"
   ]
  },
  {
   "cell_type": "markdown",
   "metadata": {},
   "source": [
    "purpose of the function:\n",
    "- trying to find the difference between user DoB and starting date `01/01/1970 00:00:00`, by\n",
    "- reading users' details from a python list of dicts,\n",
    "- using `strptime` to convert date string to date value in seconds,\n",
    "- and converting reformatted dict to jso to updata a text file.\n",
    "\n",
    "issues with the code:\n",
    "- `func()` could be improved by using more descriptive arg names\n",
    "- `func()` is missing 1 required positional argument: either `var3` or `var4`\n",
    "- json.dump is indented by 5 rather than 4 spaces, relative to the previous line\n",
    "- in final line (applying the function to some user data) there's an accent \\` instead of a quote '.\n",
    "\n",
    "refactored version:"
   ]
  },
  {
   "cell_type": "code",
   "execution_count": 5,
   "metadata": {},
   "outputs": [],
   "source": [
    "import json\n",
    "import csv\n",
    "import datetime\n",
    "import time\n",
    "\n",
    "\n",
    "def func(txt_old, date_format, users_list):\n",
    "    dictionary = {}\n",
    "    for value in users_list:\n",
    "        dictionary[value['n']] = time.mktime(\n",
    "            time.strptime(value['b'], date_format))\n",
    "        with open(txt_old, 'w') as txt_new:\n",
    "            json.dump(dictionary, txt_new)\n",
    "\n",
    "\n",
    "func('blah.txt', '%d %b %y',\n",
    "     [\n",
    "         {\"n\": 'John Doe', 'b': '30 Nov 98'},\n",
    "         {'n': 'Josh Doe', 'b': '12 Apr 86'}],\n",
    "     )"
   ]
  },
  {
   "cell_type": "markdown",
   "metadata": {},
   "source": [
    "# part 3"
   ]
  },
  {
   "cell_type": "markdown",
   "metadata": {},
   "source": [
    "## Q"
   ]
  },
  {
   "cell_type": "markdown",
   "metadata": {},
   "source": [
    "The Data Science team has just built a scraper that hoovered all the recommendations data from AngelList. After a quick chat with your project team, everybody thought it would be a great idea to index those reviews and make them searchable.\n",
    "\n",
    "3 - Can you write a python script (or use another language of your choice) to (a) parse the following  json data stream, (b) create an LDA or another model of your choice for the review data and (c) convert the reviews into feature vectors using the model that you built. Command-line driven scripts are fine (e.g., with input and output filenames)\n",
    "\n",
    "`{[ 'name ': 'Donna Summer',\n",
    "    'updated': '2016-02-26T09:09:37',\n",
    "    'recommendations': [\n",
    "        'I worked with Donna for 5 years and can highly recommend her as an experienced, knowledgeable. She is very hardworking designer with a meticulous eye for detail and creativity’,\n",
    "        'I have worked with Donna for a number of years and have always found her to be extremely professional and a real expert in her field. '\n",
    "        'Donna is always on the ball, highly organised and a real pleasure to work with.'\n",
    "    ]\n",
    " ],\n",
    " [ 'name': ‘Justin Bieber’,\n",
    "    'updated': '2016-02-26T09:09:37',\n",
    "    'recommendations': [\n",
    "        'Justin is a consummate professional and a pleasure to work with at all times!’\n",
    "    ]\n",
    " ]}`"
   ]
  },
  {
   "cell_type": "markdown",
   "metadata": {},
   "source": [
    "## part A: parsing a dirty json data stream"
   ]
  },
  {
   "cell_type": "code",
   "execution_count": 6,
   "metadata": {
    "scrolled": true
   },
   "outputs": [
    {
     "name": "stdout",
     "output_type": "stream",
     "text": [
      "[{'name': 'Donna Summer',\n",
      "  'recommendations': ['I worked with Donna for 5 years and can highly '\n",
      "                      'recommend her as an experienced, knowledgeable. She is '\n",
      "                      'very hardworking designer with a meticulous eye for '\n",
      "                      'detail and creativity',\n",
      "                      'I have worked with Donna for a number of years and have '\n",
      "                      'always found her to be extremely professional and a '\n",
      "                      'real expert in her field.',\n",
      "                      'Donna is always on the ball, highly organised and a '\n",
      "                      'real pleasure to work with.'],\n",
      "  'updated': '2016-02-26T09:09:37'},\n",
      " {'name': 'Justin Bieber',\n",
      "  'recommendations': ['Justin is a consummate professional and a pleasure to '\n",
      "                      'work with at all times!'],\n",
      "  'updated': '2016-02-26T09:09:37'}]\n"
     ]
    }
   ],
   "source": [
    "import json\n",
    "from pprint import pprint\n",
    "\n",
    "stream = '''\n",
    "{[ 'name ': 'Donna Summer',\n",
    "    'updated': '2016-02-26T09:09:37',\n",
    "    'recommendations': [\n",
    "        'I worked with Donna for 5 years and can highly recommend her as an experienced, knowledgeable. She is very hardworking designer with a meticulous eye for detail and creativity’,\n",
    "        'I have worked with Donna for a number of years and have always found her to be extremely professional and a real expert in her field. '\n",
    "        'Donna is always on the ball, highly organised and a real pleasure to work with.'\n",
    "    ]\n",
    " ],\n",
    " [ 'name': ‘Justin Bieber’,\n",
    "    'updated': '2016-02-26T09:09:37',\n",
    "    'recommendations': [\n",
    "        'Justin is a consummate professional and a pleasure to work with at all times!’\n",
    "    ]\n",
    " ]}\n",
    "'''\n",
    "\n",
    "# apply some edits to the raw string... probably best to RegEx but time did not allow!\n",
    "substitutions_to_make = [\n",
    "\n",
    "    # remove single spaces at ends of keys\n",
    "    (' \"', '\"'),\n",
    "    (\" '\", '\"'),\n",
    "\n",
    "    # remove some apostrophes which were used instead of quotes\n",
    "    (\"‘\", '\"'),\n",
    "    (\"’\", '\"'),\n",
    "    (\"'\", '\"'),\n",
    "\n",
    "    # trim the text data\n",
    "    (\"    \", ' '),\n",
    "    (\"   \", ' '),\n",
    "    (\"  \", ' '),\n",
    "    (\"\\n\", ''),\n",
    "\n",
    "    # apply other edits as necessary to reach correct json format\n",
    "    (\"[ \", '['),\n",
    "    (\" ]\", ']'),\n",
    "    (\"{[\", '[{'),\n",
    "    (\"]}\", '}]'),\n",
    "    ('\" \"', '\", \"'),\n",
    "    (']], [', ']}, {')\n",
    "\n",
    "]\n",
    "\n",
    "for old, new in substitutions_to_make:\n",
    "    stream = stream.replace(old, new)\n",
    "\n",
    "data = json.loads(stream)\n",
    "pprint(data)"
   ]
  },
  {
   "cell_type": "code",
   "execution_count": 7,
   "metadata": {},
   "outputs": [
    {
     "data": {
      "text/html": [
       "<div>\n",
       "<style scoped>\n",
       "    .dataframe tbody tr th:only-of-type {\n",
       "        vertical-align: middle;\n",
       "    }\n",
       "\n",
       "    .dataframe tbody tr th {\n",
       "        vertical-align: top;\n",
       "    }\n",
       "\n",
       "    .dataframe thead th {\n",
       "        text-align: right;\n",
       "    }\n",
       "</style>\n",
       "<table border=\"1\" class=\"dataframe\">\n",
       "  <thead>\n",
       "    <tr style=\"text-align: right;\">\n",
       "      <th></th>\n",
       "      <th>name</th>\n",
       "      <th>reco_count</th>\n",
       "      <th>recommendations</th>\n",
       "    </tr>\n",
       "  </thead>\n",
       "  <tbody>\n",
       "    <tr>\n",
       "      <th>0</th>\n",
       "      <td>Donna Summer</td>\n",
       "      <td>3</td>\n",
       "      <td>[I worked with Donna for 5 years and can highl...</td>\n",
       "    </tr>\n",
       "    <tr>\n",
       "      <th>1</th>\n",
       "      <td>Justin Bieber</td>\n",
       "      <td>1</td>\n",
       "      <td>[Justin is a consummate professional and a ple...</td>\n",
       "    </tr>\n",
       "  </tbody>\n",
       "</table>\n",
       "</div>"
      ],
      "text/plain": [
       "            name  reco_count  \\\n",
       "0   Donna Summer           3   \n",
       "1  Justin Bieber           1   \n",
       "\n",
       "                                     recommendations  \n",
       "0  [I worked with Donna for 5 years and can highl...  \n",
       "1  [Justin is a consummate professional and a ple...  "
      ]
     },
     "execution_count": 7,
     "metadata": {},
     "output_type": "execute_result"
    }
   ],
   "source": [
    "df = pd.DataFrame({'name':[data[worker]['name'] for worker in range(len(data))],\n",
    "                   'recommendations':[data[worker]['recommendations'] for worker in range(len(data))],\n",
    "                   'reco_count':[len(data[worker]['recommendations']) for worker in range(len(data))]}\n",
    "                 )\n",
    "df"
   ]
  },
  {
   "cell_type": "markdown",
   "metadata": {},
   "source": [
    "## parts B-C: LDA model & feature vectors for the recommendations data"
   ]
  },
  {
   "cell_type": "code",
   "execution_count": 8,
   "metadata": {},
   "outputs": [
    {
     "name": "stdout",
     "output_type": "stream",
     "text": [
      "[nltk_data] Downloading package stopwords to\n",
      "[nltk_data]     /Users/oliversteadman/nltk_data...\n",
      "[nltk_data]   Package stopwords is already up-to-date!\n"
     ]
    }
   ],
   "source": [
    "import re; import numpy as np; import pandas as pd\n",
    "\n",
    "# import NLTK + some core/utility libs\n",
    "import nltk; nltk.download('stopwords')\n",
    "from nltk.corpus import stopwords\n",
    "stop_words = stopwords.words('english')\n",
    "stop_words.extend(['from', 'subject', 're', 'edu', 'use'])\n",
    "\n",
    "# gensim for topic modelling\n",
    "import gensim\n",
    "import gensim.corpora as corpora\n",
    "from gensim.utils import simple_preprocess\n",
    "from gensim.models import CoherenceModel\n",
    "\n",
    "# spacy for lemmatization\n",
    "import spacy\n",
    "\n",
    "# plotting tools\n",
    "import pyLDAvis; import pyLDAvis.gensim\n",
    "import matplotlib.pyplot as plt; %matplotlib inline"
   ]
  },
  {
   "cell_type": "code",
   "execution_count": 101,
   "metadata": {},
   "outputs": [
    {
     "name": "stdout",
     "output_type": "stream",
     "text": [
      "[['name', 'donna', 'summer', 'updated', 'recommendations', 'worked', 'with', 'donna', 'for', 'years', 'and', 'can', 'highly', 'recommend', 'her', 'as', 'an', 'experienced', 'knowledgeable', 'she', 'is', 'very', 'hardworking', 'designer', 'with', 'meticulous', 'eye', 'for', 'detail', 'and', 'creativity', 'have', 'worked', 'with', 'donna', 'for', 'number', 'of', 'years', 'and', 'have', 'always', 'found', 'her', 'to', 'be', 'extremely', 'professional', 'and', 'real', 'expert', 'in', 'her', 'field', 'donna', 'is', 'always', 'on', 'the', 'ball', 'highly', 'organised', 'and', 'real', 'pleasure', 'to', 'work', 'with']]\n"
     ]
    }
   ],
   "source": [
    "def sent_to_words(sentences):\n",
    "    for sentence in sentences:\n",
    "        yield(gensim.utils.simple_preprocess(\n",
    "            str(sentence),\n",
    "\n",
    "            # remove punctuation\n",
    "            deacc=True\n",
    "        ))\n",
    "\n",
    "\n",
    "data_words = list(sent_to_words(\n",
    "    \n",
    "    # cleaned json stream as obtained in pt1 above\n",
    "    data))\n",
    "\n",
    "# lets check that\n",
    "print(data_words[:1])"
   ]
  },
  {
   "cell_type": "code",
   "execution_count": 105,
   "metadata": {},
   "outputs": [
    {
     "name": "stdout",
     "output_type": "stream",
     "text": [
      "['name', 'donna', 'summer', 'updated', 'recommendations', 'worked', 'with', 'donna', 'for', 'years', 'and', 'can', 'highly', 'recommend', 'her', 'as', 'an', 'experienced', 'knowledgeable', 'she', 'is', 'very', 'hardworking', 'designer', 'with', 'meticulous', 'eye', 'for', 'detail', 'and', 'creativity', 'have', 'worked', 'with', 'donna', 'for', 'number', 'of', 'years', 'and', 'have', 'always', 'found', 'her', 'to', 'be', 'extremely', 'professional', 'and', 'real', 'expert', 'in', 'her', 'field', 'donna', 'is', 'always', 'on', 'the', 'ball', 'highly', 'organised', 'and', 'real', 'pleasure', 'to', 'work', 'with']\n"
     ]
    },
    {
     "name": "stderr",
     "output_type": "stream",
     "text": [
      "/Users/oliversteadman/anaconda3/lib/python3.6/site-packages/gensim/models/phrases.py:494: UserWarning: For a faster implementation, use the gensim.models.phrases.Phraser class\n",
      "  warnings.warn(\"For a faster implementation, use the gensim.models.phrases.Phraser class\")\n"
     ]
    }
   ],
   "source": [
    "# grab bigram & trigram models\n",
    "bigram = gensim.models.Phrases(data_words, min_count=2)\n",
    "trigram = gensim.models.Phrases(bigram[data_words])\n",
    "\n",
    "# lets check that (for trigrams)\n",
    "print(trigram[bigram[data_words[0]]])"
   ]
  },
  {
   "cell_type": "code",
   "execution_count": 12,
   "metadata": {},
   "outputs": [],
   "source": [
    "# we'll need to remove stops, bigrams, trigrams, and apply lemmatization\n",
    "def remove_stopwords(texts):\n",
    "    return [[word for word in simple_preprocess(str(doc)) if word not in stop_words] for doc in texts]\n",
    "\n",
    "def make_bigrams(texts):\n",
    "    return [bigram_mod[doc] for doc in texts]\n",
    "\n",
    "def make_trigrams(texts):\n",
    "    return [trigram_mod[bigram_mod[doc]] for doc in texts]\n",
    "\n",
    "def lemmatization(texts, allowed_postags=['NOUN', 'ADJ', 'VERB', 'ADV']):\n",
    "    \"\"\"https://spacy.io/api/annotation\"\"\"\n",
    "    texts_out = []\n",
    "    for sent in texts:\n",
    "        doc = nlp(\" \".join(sent)) \n",
    "        texts_out.append([token.lemma_ for token in doc if token.pos_ in allowed_postags])\n",
    "    return texts_out"
   ]
  },
  {
   "cell_type": "code",
   "execution_count": 13,
   "metadata": {},
   "outputs": [
    {
     "name": "stdout",
     "output_type": "stream",
     "text": [
      "[['name', 'donna', 'summer', 'update', 'recommendation', 'work', 'donna', 'year', 'highly', 'recommend', 'experience', 'knowledgeable', 'hardworking', 'designer', 'meticulous', 'eye', 'detail', 'creativity', 'work', 'donna', 'number', 'year', 'always', 'find', 'extremely', 'professional', 'real', 'expert', 'field', 'donna', 'always', 'ball', 'highly', 'organise', 'real', 'pleasure', 'work']]\n"
     ]
    }
   ],
   "source": [
    "# Remove Stop Words\n",
    "data_words_nostops = remove_stopwords(data_words)\n",
    "\n",
    "# Form Bigrams\n",
    "data_words_bigrams = make_bigrams(data_words_nostops)\n",
    "\n",
    "# Initialize spacy 'en' model, keeping only tagger component (for efficiency)\n",
    "# python3 -m spacy download en\n",
    "nlp = spacy.load('en', disable=['parser', 'ner'])\n",
    "\n",
    "# Do lemmatization keeping only noun, adj, vb, adv\n",
    "data_lemmatized = lemmatization(data_words_bigrams, allowed_postags=['NOUN', 'ADJ', 'VERB', 'ADV'])\n",
    "\n",
    "# lets check that\n",
    "print(data_lemmatized[:1])"
   ]
  },
  {
   "cell_type": "code",
   "execution_count": 14,
   "metadata": {},
   "outputs": [
    {
     "name": "stdout",
     "output_type": "stream",
     "text": [
      "[[(0, 2), (1, 1), (2, 1), (3, 1), (4, 1), (5, 4), (6, 1), (7, 1), (8, 1), (9, 1), (10, 1), (11, 1), (12, 1), (13, 2), (14, 1), (15, 1), (16, 1), (17, 1), (18, 1), (19, 1), (20, 1), (21, 2), (22, 1), (23, 1), (24, 1), (25, 1), (26, 3), (27, 2)]]\n"
     ]
    }
   ],
   "source": [
    "# Create Dictionary\n",
    "id2word = corpora.Dictionary(data_lemmatized)\n",
    "\n",
    "# Create Corpus\n",
    "texts = data_lemmatized\n",
    "\n",
    "# Term Document Frequency\n",
    "corpus = [id2word.doc2bow(text) for text in texts]\n",
    "\n",
    "# lets check that\n",
    "print(corpus[:1])"
   ]
  },
  {
   "cell_type": "code",
   "execution_count": 15,
   "metadata": {},
   "outputs": [
    {
     "data": {
      "text/plain": [
       "'always'"
      ]
     },
     "execution_count": 15,
     "metadata": {},
     "output_type": "execute_result"
    }
   ],
   "source": [
    "id2word[0]"
   ]
  },
  {
   "cell_type": "markdown",
   "metadata": {},
   "source": [
    "## ML+ approach"
   ]
  },
  {
   "cell_type": "code",
   "execution_count": 16,
   "metadata": {},
   "outputs": [
    {
     "data": {
      "text/plain": [
       "[[('always', 2),\n",
       "  ('ball', 1),\n",
       "  ('creativity', 1),\n",
       "  ('designer', 1),\n",
       "  ('detail', 1),\n",
       "  ('donna', 4),\n",
       "  ('experience', 1),\n",
       "  ('expert', 1),\n",
       "  ('extremely', 1),\n",
       "  ('eye', 1),\n",
       "  ('field', 1),\n",
       "  ('find', 1),\n",
       "  ('hardworking', 1),\n",
       "  ('highly', 2),\n",
       "  ('knowledgeable', 1),\n",
       "  ('meticulous', 1),\n",
       "  ('name', 1),\n",
       "  ('number', 1),\n",
       "  ('organise', 1),\n",
       "  ('pleasure', 1),\n",
       "  ('professional', 1),\n",
       "  ('real', 2),\n",
       "  ('recommend', 1),\n",
       "  ('recommendation', 1),\n",
       "  ('summer', 1),\n",
       "  ('update', 1),\n",
       "  ('work', 3),\n",
       "  ('year', 2)]]"
      ]
     },
     "execution_count": 16,
     "metadata": {},
     "output_type": "execute_result"
    }
   ],
   "source": [
    "# readable format of corpus (term-frequency)\n",
    "[[(id2word[id], freq) for id, freq in cp] for cp in corpus[:1]]"
   ]
  },
  {
   "cell_type": "code",
   "execution_count": 17,
   "metadata": {},
   "outputs": [],
   "source": [
    "# build LDA model\n",
    "lda_model = gensim.models.ldamodel.LdaModel(corpus=corpus,\n",
    "                                           id2word=id2word,\n",
    "                                           num_topics=20, \n",
    "                                           random_state=100,\n",
    "                                           update_every=1,\n",
    "                                           chunksize=100,\n",
    "                                           passes=10,\n",
    "                                           alpha='auto',\n",
    "                                           per_word_topics=True)"
   ]
  },
  {
   "cell_type": "code",
   "execution_count": 18,
   "metadata": {},
   "outputs": [
    {
     "name": "stdout",
     "output_type": "stream",
     "text": [
      "[(0,\n",
      "  '0.031*\"summer\" + 0.031*\"update\" + 0.031*\"pleasure\" + 0.031*\"professional\" + '\n",
      "  '0.031*\"real\" + 0.031*\"recommend\" + 0.031*\"recommendation\" + 0.031*\"number\" '\n",
      "  '+ 0.031*\"bieber\" + 0.031*\"consummate\"'),\n",
      " (1,\n",
      "  '0.035*\"donna\" + 0.033*\"work\" + 0.032*\"real\" + 0.032*\"highly\" + '\n",
      "  '0.032*\"always\" + 0.032*\"year\" + 0.032*\"extremely\" + 0.031*\"meticulous\" + '\n",
      "  '0.031*\"organise\" + 0.031*\"creativity\"'),\n",
      " (2,\n",
      "  '0.031*\"summer\" + 0.031*\"update\" + 0.031*\"pleasure\" + 0.031*\"professional\" + '\n",
      "  '0.031*\"real\" + 0.031*\"recommend\" + 0.031*\"recommendation\" + 0.031*\"number\" '\n",
      "  '+ 0.031*\"bieber\" + 0.031*\"consummate\"'),\n",
      " (3,\n",
      "  '0.031*\"summer\" + 0.031*\"update\" + 0.031*\"pleasure\" + 0.031*\"professional\" + '\n",
      "  '0.031*\"real\" + 0.031*\"recommend\" + 0.031*\"recommendation\" + 0.031*\"number\" '\n",
      "  '+ 0.031*\"bieber\" + 0.031*\"consummate\"'),\n",
      " (4,\n",
      "  '0.031*\"summer\" + 0.031*\"update\" + 0.031*\"pleasure\" + 0.031*\"professional\" + '\n",
      "  '0.031*\"real\" + 0.031*\"recommend\" + 0.031*\"recommendation\" + 0.031*\"number\" '\n",
      "  '+ 0.031*\"bieber\" + 0.031*\"consummate\"'),\n",
      " (5,\n",
      "  '0.031*\"summer\" + 0.031*\"update\" + 0.031*\"pleasure\" + 0.031*\"professional\" + '\n",
      "  '0.031*\"real\" + 0.031*\"recommend\" + 0.031*\"recommendation\" + 0.031*\"number\" '\n",
      "  '+ 0.031*\"bieber\" + 0.031*\"consummate\"'),\n",
      " (6,\n",
      "  '0.031*\"summer\" + 0.031*\"update\" + 0.031*\"pleasure\" + 0.031*\"professional\" + '\n",
      "  '0.031*\"real\" + 0.031*\"recommend\" + 0.031*\"recommendation\" + 0.031*\"number\" '\n",
      "  '+ 0.031*\"bieber\" + 0.031*\"consummate\"'),\n",
      " (7,\n",
      "  '0.031*\"summer\" + 0.031*\"update\" + 0.031*\"pleasure\" + 0.031*\"professional\" + '\n",
      "  '0.031*\"real\" + 0.031*\"recommend\" + 0.031*\"recommendation\" + 0.031*\"number\" '\n",
      "  '+ 0.031*\"bieber\" + 0.031*\"consummate\"'),\n",
      " (8,\n",
      "  '0.031*\"summer\" + 0.031*\"update\" + 0.031*\"pleasure\" + 0.031*\"professional\" + '\n",
      "  '0.031*\"real\" + 0.031*\"recommend\" + 0.031*\"recommendation\" + 0.031*\"number\" '\n",
      "  '+ 0.031*\"bieber\" + 0.031*\"consummate\"'),\n",
      " (9,\n",
      "  '0.031*\"summer\" + 0.031*\"update\" + 0.031*\"pleasure\" + 0.031*\"professional\" + '\n",
      "  '0.031*\"real\" + 0.031*\"recommend\" + 0.031*\"recommendation\" + 0.031*\"number\" '\n",
      "  '+ 0.031*\"bieber\" + 0.031*\"consummate\"'),\n",
      " (10,\n",
      "  '0.163*\"justin\" + 0.083*\"recommendation\" + 0.083*\"update\" + 0.083*\"pleasure\" '\n",
      "  '+ 0.083*\"professional\" + 0.083*\"name\" + 0.083*\"consummate\" + 0.083*\"time\" + '\n",
      "  '0.083*\"bieber\" + 0.083*\"work\"'),\n",
      " (11,\n",
      "  '0.031*\"summer\" + 0.031*\"update\" + 0.031*\"pleasure\" + 0.031*\"professional\" + '\n",
      "  '0.031*\"real\" + 0.031*\"recommend\" + 0.031*\"recommendation\" + 0.031*\"number\" '\n",
      "  '+ 0.031*\"bieber\" + 0.031*\"consummate\"'),\n",
      " (12,\n",
      "  '0.031*\"summer\" + 0.031*\"update\" + 0.031*\"pleasure\" + 0.031*\"professional\" + '\n",
      "  '0.031*\"real\" + 0.031*\"recommend\" + 0.031*\"recommendation\" + 0.031*\"number\" '\n",
      "  '+ 0.031*\"bieber\" + 0.031*\"consummate\"'),\n",
      " (13,\n",
      "  '0.031*\"summer\" + 0.031*\"update\" + 0.031*\"pleasure\" + 0.031*\"professional\" + '\n",
      "  '0.031*\"real\" + 0.031*\"recommend\" + 0.031*\"recommendation\" + 0.031*\"number\" '\n",
      "  '+ 0.031*\"bieber\" + 0.031*\"consummate\"'),\n",
      " (14,\n",
      "  '0.031*\"summer\" + 0.031*\"update\" + 0.031*\"pleasure\" + 0.031*\"professional\" + '\n",
      "  '0.031*\"real\" + 0.031*\"recommend\" + 0.031*\"recommendation\" + 0.031*\"number\" '\n",
      "  '+ 0.031*\"bieber\" + 0.031*\"consummate\"'),\n",
      " (15,\n",
      "  '0.031*\"summer\" + 0.031*\"update\" + 0.031*\"pleasure\" + 0.031*\"professional\" + '\n",
      "  '0.031*\"real\" + 0.031*\"recommend\" + 0.031*\"recommendation\" + 0.031*\"number\" '\n",
      "  '+ 0.031*\"bieber\" + 0.031*\"consummate\"'),\n",
      " (16,\n",
      "  '0.031*\"summer\" + 0.031*\"update\" + 0.031*\"pleasure\" + 0.031*\"professional\" + '\n",
      "  '0.031*\"real\" + 0.031*\"recommend\" + 0.031*\"recommendation\" + 0.031*\"number\" '\n",
      "  '+ 0.031*\"bieber\" + 0.031*\"consummate\"'),\n",
      " (17,\n",
      "  '0.031*\"summer\" + 0.031*\"update\" + 0.031*\"pleasure\" + 0.031*\"professional\" + '\n",
      "  '0.031*\"real\" + 0.031*\"recommend\" + 0.031*\"recommendation\" + 0.031*\"number\" '\n",
      "  '+ 0.031*\"bieber\" + 0.031*\"consummate\"'),\n",
      " (18,\n",
      "  '0.031*\"summer\" + 0.031*\"update\" + 0.031*\"pleasure\" + 0.031*\"professional\" + '\n",
      "  '0.031*\"real\" + 0.031*\"recommend\" + 0.031*\"recommendation\" + 0.031*\"number\" '\n",
      "  '+ 0.031*\"bieber\" + 0.031*\"consummate\"'),\n",
      " (19,\n",
      "  '0.105*\"donna\" + 0.079*\"work\" + 0.053*\"year\" + 0.053*\"always\" + '\n",
      "  '0.053*\"highly\" + 0.053*\"real\" + 0.027*\"find\" + 0.027*\"hardworking\" + '\n",
      "  '0.027*\"number\" + 0.027*\"update\"')]\n"
     ]
    }
   ],
   "source": [
    "# Print the Keyword in the 10 topics\n",
    "pprint(lda_model.print_topics())\n",
    "doc_lda = lda_model[corpus]"
   ]
  },
  {
   "cell_type": "code",
   "execution_count": 19,
   "metadata": {},
   "outputs": [
    {
     "name": "stdout",
     "output_type": "stream",
     "text": [
      "\n",
      "Perplexity:  -4.970371960351865\n",
      "\n",
      "Coherence Score:  0.5191707969011488\n"
     ]
    }
   ],
   "source": [
    "# Compute Perplexity\n",
    "print('\\nPerplexity: ', lda_model.log_perplexity(corpus))  # a measure of how good the model is. lower the better.\n",
    "\n",
    "# Compute Coherence Score\n",
    "coherence_model_lda = CoherenceModel(model=lda_model, texts=data_lemmatized, dictionary=id2word, coherence='c_v')\n",
    "coherence_lda = coherence_model_lda.get_coherence()\n",
    "print('\\nCoherence Score: ', coherence_lda)"
   ]
  },
  {
   "cell_type": "code",
   "execution_count": 20,
   "metadata": {
    "scrolled": false
   },
   "outputs": [
    {
     "data": {
      "text/html": [
       "\n",
       "<link rel=\"stylesheet\" type=\"text/css\" href=\"https://cdn.rawgit.com/bmabey/pyLDAvis/files/ldavis.v1.0.0.css\">\n",
       "\n",
       "\n",
       "<div id=\"ldavis_el9195247571091603400544829\"></div>\n",
       "<script type=\"text/javascript\">\n",
       "\n",
       "var ldavis_el9195247571091603400544829_data = {\"mdsDat\": {\"Freq\": [76.18434143066406, 21.99020767211914, 0.13111969828605652, 0.09966643154621124, 0.09966643154621124, 0.09966643154621124, 0.09966643154621124, 0.09966643154621124, 0.09966643154621124, 0.09966643154621124, 0.09966643154621124, 0.09966643154621124, 0.09966643154621124, 0.09966643154621124, 0.09966643154621124, 0.09966643154621124, 0.09966643154621124, 0.09966643154621124, 0.09966643154621124, 0.09966643154621124], \"cluster\": [1, 1, 1, 1, 1, 1, 1, 1, 1, 1, 1, 1, 1, 1, 1, 1, 1, 1, 1, 1], \"topics\": [1, 2, 3, 4, 5, 6, 7, 8, 9, 10, 11, 12, 13, 14, 15, 16, 17, 18, 19, 20], \"x\": [-0.036630397663444364, 0.0916074096521011, -0.003275067915521402, -0.003042987923808935, -0.0030423546196663488, -0.0030406103582892854, -0.0030395415115545103, -0.003042939534477412, -0.003040640044467733, -0.003041962842885014, -0.003043053062349626, -0.003041168439329416, -0.0030425927234396374, -0.0030395302667038, -0.003039538944140779, -0.0030394244428527274, -0.0030394770147438906, -0.003040291412684697, -0.003042922712086335, -0.003042908219655187], \"y\": [0.05711223755798206, -0.18597238080546982, 0.007556661177228237, 0.007134538557479761, 0.007134894506538339, 0.0071358818069148155, 0.007136492005908091, 0.0071345657086634845, 0.007135864916400002, 0.007135115366424121, 0.007134502020286735, 0.007135564787933594, 0.007134760526323, 0.007136498446936739, 0.00713649347648454, 0.007136559084508255, 0.007136528955709114, 0.007136063470919072, 0.007134575149443658, 0.007134583283386212]}, \"tinfo\": {\"Category\": [\"Default\", \"Default\", \"Default\", \"Default\", \"Default\", \"Default\", \"Default\", \"Default\", \"Default\", \"Default\", \"Default\", \"Default\", \"Default\", \"Default\", \"Default\", \"Default\", \"Default\", \"Default\", \"Default\", \"Default\", \"Default\", \"Default\", \"Default\", \"Default\", \"Default\", \"Default\", \"Default\", \"Default\", \"Default\", \"Default\", \"Topic1\", \"Topic1\", \"Topic1\", \"Topic1\", \"Topic1\", \"Topic1\", \"Topic1\", \"Topic1\", \"Topic1\", \"Topic1\", \"Topic1\", \"Topic1\", \"Topic1\", \"Topic1\", \"Topic1\", \"Topic1\", \"Topic1\", \"Topic1\", \"Topic1\", \"Topic1\", \"Topic1\", \"Topic1\", \"Topic1\", \"Topic1\", \"Topic1\", \"Topic1\", \"Topic1\", \"Topic1\", \"Topic1\", \"Topic1\", \"Topic1\", \"Topic2\", \"Topic2\", \"Topic2\", \"Topic2\", \"Topic2\", \"Topic2\", \"Topic2\", \"Topic2\", \"Topic2\", \"Topic2\", \"Topic2\", \"Topic2\", \"Topic2\", \"Topic2\", \"Topic2\", \"Topic2\", \"Topic2\", \"Topic2\", \"Topic2\", \"Topic2\", \"Topic2\", \"Topic2\", \"Topic2\", \"Topic2\", \"Topic2\", \"Topic2\", \"Topic2\", \"Topic2\", \"Topic2\", \"Topic2\", \"Topic2\", \"Topic3\", \"Topic3\", \"Topic3\", \"Topic3\", \"Topic3\", \"Topic3\", \"Topic3\", \"Topic3\", \"Topic3\", \"Topic3\", \"Topic3\", \"Topic3\", \"Topic3\", \"Topic3\", \"Topic3\", \"Topic3\", \"Topic3\", \"Topic3\", \"Topic3\", \"Topic3\", \"Topic3\", \"Topic3\", \"Topic3\", \"Topic3\", \"Topic3\", \"Topic3\", \"Topic3\", \"Topic3\", \"Topic3\", \"Topic3\", \"Topic3\", \"Topic3\", \"Topic4\", \"Topic4\", \"Topic4\", \"Topic4\", \"Topic4\", \"Topic4\", \"Topic4\", \"Topic4\", \"Topic4\", \"Topic4\", \"Topic4\", \"Topic4\", \"Topic4\", \"Topic4\", \"Topic4\", \"Topic4\", \"Topic4\", \"Topic4\", \"Topic4\", \"Topic4\", \"Topic4\", \"Topic4\", \"Topic4\", \"Topic4\", \"Topic4\", \"Topic4\", \"Topic4\", \"Topic4\", \"Topic4\", \"Topic4\", \"Topic4\", \"Topic4\", \"Topic5\", \"Topic5\", \"Topic5\", \"Topic5\", \"Topic5\", \"Topic5\", \"Topic5\", \"Topic5\", \"Topic5\", \"Topic5\", \"Topic5\", \"Topic5\", \"Topic5\", \"Topic5\", \"Topic5\", \"Topic5\", \"Topic5\", \"Topic5\", \"Topic5\", \"Topic5\", \"Topic5\", \"Topic5\", \"Topic5\", \"Topic5\", \"Topic5\", \"Topic5\", \"Topic5\", \"Topic5\", \"Topic5\", \"Topic5\", \"Topic5\", \"Topic5\", \"Topic6\", \"Topic6\", \"Topic6\", \"Topic6\", \"Topic6\", \"Topic6\", \"Topic6\", \"Topic6\", \"Topic6\", \"Topic6\", \"Topic6\", \"Topic6\", \"Topic6\", \"Topic6\", \"Topic6\", \"Topic6\", \"Topic6\", \"Topic6\", \"Topic6\", \"Topic6\", \"Topic6\", \"Topic6\", \"Topic6\", \"Topic6\", \"Topic6\", \"Topic6\", \"Topic6\", \"Topic6\", \"Topic6\", \"Topic6\", \"Topic6\", \"Topic6\", \"Topic7\", \"Topic7\", \"Topic7\", \"Topic7\", \"Topic7\", \"Topic7\", \"Topic7\", \"Topic7\", \"Topic7\", \"Topic7\", \"Topic7\", \"Topic7\", \"Topic7\", \"Topic7\", \"Topic7\", \"Topic7\", \"Topic7\", \"Topic7\", \"Topic7\", \"Topic7\", \"Topic7\", \"Topic7\", \"Topic7\", \"Topic7\", \"Topic7\", \"Topic7\", \"Topic7\", \"Topic7\", \"Topic7\", \"Topic7\", \"Topic7\", \"Topic7\", \"Topic8\", \"Topic8\", \"Topic8\", \"Topic8\", \"Topic8\", \"Topic8\", \"Topic8\", \"Topic8\", \"Topic8\", \"Topic8\", \"Topic8\", \"Topic8\", \"Topic8\", \"Topic8\", \"Topic8\", \"Topic8\", \"Topic8\", \"Topic8\", \"Topic8\", \"Topic8\", \"Topic8\", \"Topic8\", \"Topic8\", \"Topic8\", \"Topic8\", \"Topic8\", \"Topic8\", \"Topic8\", \"Topic8\", \"Topic8\", \"Topic8\", \"Topic8\", \"Topic9\", \"Topic9\", \"Topic9\", \"Topic9\", \"Topic9\", \"Topic9\", \"Topic9\", \"Topic9\", \"Topic9\", \"Topic9\", \"Topic9\", \"Topic9\", \"Topic9\", \"Topic9\", \"Topic9\", \"Topic9\", \"Topic9\", \"Topic9\", \"Topic9\", \"Topic9\", \"Topic9\", \"Topic9\", \"Topic9\", \"Topic9\", \"Topic9\", \"Topic9\", \"Topic9\", \"Topic9\", \"Topic9\", \"Topic9\", \"Topic9\", \"Topic9\", \"Topic10\", \"Topic10\", \"Topic10\", \"Topic10\", \"Topic10\", \"Topic10\", \"Topic10\", \"Topic10\", \"Topic10\", \"Topic10\", \"Topic10\", \"Topic10\", \"Topic10\", \"Topic10\", \"Topic10\", \"Topic10\", \"Topic10\", \"Topic10\", \"Topic10\", \"Topic10\", \"Topic10\", \"Topic10\", \"Topic10\", \"Topic10\", \"Topic10\", \"Topic10\", \"Topic10\", \"Topic10\", \"Topic10\", \"Topic10\", \"Topic10\", \"Topic10\", \"Topic11\", \"Topic11\", \"Topic11\", \"Topic11\", \"Topic11\", \"Topic11\", \"Topic11\", \"Topic11\", \"Topic11\", \"Topic11\", \"Topic11\", \"Topic11\", \"Topic11\", \"Topic11\", \"Topic11\", \"Topic11\", \"Topic11\", \"Topic11\", \"Topic11\", \"Topic11\", \"Topic11\", \"Topic11\", \"Topic11\", \"Topic11\", \"Topic11\", \"Topic11\", \"Topic11\", \"Topic11\", \"Topic11\", \"Topic11\", \"Topic11\", \"Topic11\", \"Topic12\", \"Topic12\", \"Topic12\", \"Topic12\", \"Topic12\", \"Topic12\", \"Topic12\", \"Topic12\", \"Topic12\", \"Topic12\", \"Topic12\", \"Topic12\", \"Topic12\", \"Topic12\", \"Topic12\", \"Topic12\", \"Topic12\", \"Topic12\", \"Topic12\", \"Topic12\", \"Topic12\", \"Topic12\", \"Topic12\", \"Topic12\", \"Topic12\", \"Topic12\", \"Topic12\", \"Topic12\", \"Topic12\", \"Topic12\", \"Topic12\", \"Topic12\", \"Topic13\", \"Topic13\", \"Topic13\", \"Topic13\", \"Topic13\", \"Topic13\", \"Topic13\", \"Topic13\", \"Topic13\", \"Topic13\", \"Topic13\", \"Topic13\", \"Topic13\", \"Topic13\", \"Topic13\", \"Topic13\", \"Topic13\", \"Topic13\", \"Topic13\", \"Topic13\", \"Topic13\", \"Topic13\", \"Topic13\", \"Topic13\", \"Topic13\", \"Topic13\", \"Topic13\", \"Topic13\", \"Topic13\", \"Topic13\", \"Topic13\", \"Topic13\", \"Topic14\", \"Topic14\", \"Topic14\", \"Topic14\", \"Topic14\", \"Topic14\", \"Topic14\", \"Topic14\", \"Topic14\", \"Topic14\", \"Topic14\", \"Topic14\", \"Topic14\", \"Topic14\", \"Topic14\", \"Topic14\", \"Topic14\", \"Topic14\", \"Topic14\", \"Topic14\", \"Topic14\", \"Topic14\", \"Topic14\", \"Topic14\", \"Topic14\", \"Topic14\", \"Topic14\", \"Topic14\", \"Topic14\", \"Topic14\", \"Topic14\", \"Topic14\", \"Topic15\", \"Topic15\", \"Topic15\", \"Topic15\", \"Topic15\", \"Topic15\", \"Topic15\", \"Topic15\", \"Topic15\", \"Topic15\", \"Topic15\", \"Topic15\", \"Topic15\", \"Topic15\", \"Topic15\", \"Topic15\", \"Topic15\", \"Topic15\", \"Topic15\", \"Topic15\", \"Topic15\", \"Topic15\", \"Topic15\", \"Topic15\", \"Topic15\", \"Topic15\", \"Topic15\", \"Topic15\", \"Topic15\", \"Topic15\", \"Topic15\", \"Topic15\", \"Topic16\", \"Topic16\", \"Topic16\", \"Topic16\", \"Topic16\", \"Topic16\", \"Topic16\", \"Topic16\", \"Topic16\", \"Topic16\", \"Topic16\", \"Topic16\", \"Topic16\", \"Topic16\", \"Topic16\", \"Topic16\", \"Topic16\", \"Topic16\", \"Topic16\", \"Topic16\", \"Topic16\", \"Topic16\", \"Topic16\", \"Topic16\", \"Topic16\", \"Topic16\", \"Topic16\", \"Topic16\", \"Topic16\", \"Topic16\", \"Topic16\", \"Topic16\", \"Topic17\", \"Topic17\", \"Topic17\", \"Topic17\", \"Topic17\", \"Topic17\", \"Topic17\", \"Topic17\", \"Topic17\", \"Topic17\", \"Topic17\", \"Topic17\", \"Topic17\", \"Topic17\", \"Topic17\", \"Topic17\", \"Topic17\", \"Topic17\", \"Topic17\", \"Topic17\", \"Topic17\", \"Topic17\", \"Topic17\", \"Topic17\", \"Topic17\", \"Topic17\", \"Topic17\", \"Topic17\", \"Topic17\", \"Topic17\", \"Topic17\", \"Topic17\", \"Topic18\", \"Topic18\", \"Topic18\", \"Topic18\", \"Topic18\", \"Topic18\", \"Topic18\", \"Topic18\", \"Topic18\", \"Topic18\", \"Topic18\", \"Topic18\", \"Topic18\", \"Topic18\", \"Topic18\", \"Topic18\", \"Topic18\", \"Topic18\", \"Topic18\", \"Topic18\", \"Topic18\", \"Topic18\", \"Topic18\", \"Topic18\", \"Topic18\", \"Topic18\", \"Topic18\", \"Topic18\", \"Topic18\", \"Topic18\", \"Topic18\", \"Topic18\", \"Topic19\", \"Topic19\", \"Topic19\", \"Topic19\", \"Topic19\", \"Topic19\", \"Topic19\", \"Topic19\", \"Topic19\", \"Topic19\", \"Topic19\", \"Topic19\", \"Topic19\", \"Topic19\", \"Topic19\", \"Topic19\", \"Topic19\", \"Topic19\", \"Topic19\", \"Topic19\", \"Topic19\", \"Topic19\", \"Topic19\", \"Topic19\", \"Topic19\", \"Topic19\", \"Topic19\", \"Topic19\", \"Topic19\", \"Topic19\", \"Topic19\", \"Topic19\", \"Topic20\", \"Topic20\", \"Topic20\", \"Topic20\", \"Topic20\", \"Topic20\", \"Topic20\", \"Topic20\", \"Topic20\", \"Topic20\", \"Topic20\", \"Topic20\", \"Topic20\", \"Topic20\", \"Topic20\", \"Topic20\", \"Topic20\", \"Topic20\", \"Topic20\", \"Topic20\", \"Topic20\", \"Topic20\", \"Topic20\", \"Topic20\", \"Topic20\", \"Topic20\", \"Topic20\", \"Topic20\", \"Topic20\", \"Topic20\", \"Topic20\", \"Topic20\"], \"Freq\": [3.0, 3.0, 2.0, 2.0, 2.0, 2.0, 1.0, 1.0, 1.0, 1.0, 1.0, 1.0, 1.0, 1.0, 1.0, 1.0, 1.0, 1.0, 1.0, 1.0, 1.0, 1.0, 1.0, 1.0, 1.0, 1.0, 1.0, 1.0, 1.0, 0.0, 3.8355631828308105, 1.9422030448913574, 1.9420487880706787, 1.9419703483581543, 1.9416239261627197, 0.9952561259269714, 0.9951876997947693, 0.9950845241546631, 0.9949440360069275, 0.9948590397834778, 0.9947929978370667, 0.994746744632721, 0.9947027564048767, 0.9946963787078857, 0.994670033454895, 0.9946501851081848, 0.9946131110191345, 0.9946075677871704, 0.9945791959762573, 0.9945759177207947, 0.9945582747459412, 0.9938933253288269, 2.890230894088745, 0.9950551986694336, 0.9950374960899353, 0.9950324892997742, 0.9947956800460815, 0.9946971535682678, 0.04745293781161308, 0.04745293781161308, 0.04745293781161308, 1.7173418998718262, 0.8796140551567078, 0.8796140551567078, 0.8796140551567078, 0.8796164989471436, 0.8796164989471436, 0.8796164989471436, 0.8796164989471436, 0.8796164989471436, 0.8795328140258789, 0.04188638925552368, 0.04188638925552368, 0.04188638925552368, 0.04188638925552368, 0.04188638925552368, 0.04188638925552368, 0.04188638925552368, 0.04188638925552368, 0.04188638925552368, 0.04188638925552368, 0.04188638925552368, 0.04188638925552368, 0.04188638925552368, 0.04188638925552368, 0.04188638925552368, 0.04188638925552368, 0.04188638925552368, 0.04188638925552368, 0.04188638925552368, 0.04188638925552368, 0.04188638925552368, 0.0018857559189200401, 0.0018857559189200401, 0.0018857559189200401, 0.0019898107275366783, 0.0019633867777884007, 0.0019626831635832787, 0.0019625541754066944, 0.001961418893188238, 0.0019612021278589964, 0.00195972784422338, 0.0019589406438171864, 0.0019578910432755947, 0.0019576391205191612, 0.0019558952189981937, 0.001954055856913328, 0.001951428595930338, 0.001948052435182035, 0.0019424696220085025, 0.001938367960974574, 0.001935652457177639, 0.0018857559189200401, 0.0019577513448894024, 0.001953834667801857, 0.0019444297067821026, 0.0019442300545051694, 0.0019435258582234383, 0.0020425873808562756, 0.002028808230534196, 0.0020256880670785904, 0.0020195741672068834, 0.002208622405305505, 0.0020642001181840897, 0.0014949964825063944, 0.0014949964825063944, 0.0014949964825063944, 0.0014949964825063944, 0.0014949964825063944, 0.0014949964825063944, 0.0014949964825063944, 0.0014949964825063944, 0.0014949964825063944, 0.0014949964825063944, 0.0014949964825063944, 0.0014949964825063944, 0.0014949964825063944, 0.0014949964825063944, 0.0014949964825063944, 0.0014949964825063944, 0.0014949964825063944, 0.0014949964825063944, 0.0014949964825063944, 0.0014949964825063944, 0.0014949964825063944, 0.0014949964825063944, 0.0014949964825063944, 0.0014949964825063944, 0.0014949964825063944, 0.0014949964825063944, 0.0014949964825063944, 0.0014949964825063944, 0.0014949964825063944, 0.0014949964825063944, 0.0014949964825063944, 0.0014949964825063944, 0.0014949964825063944, 0.0014949964825063944, 0.0014949964825063944, 0.0014949964825063944, 0.0014949964825063944, 0.0014949964825063944, 0.0014949964825063944, 0.0014949964825063944, 0.0014949964825063944, 0.0014949964825063944, 0.0014949964825063944, 0.0014949964825063944, 0.0014949964825063944, 0.0014949964825063944, 0.0014949964825063944, 0.0014949964825063944, 0.0014949964825063944, 0.0014949964825063944, 0.0014949964825063944, 0.0014949964825063944, 0.0014949964825063944, 0.0014949964825063944, 0.0014949964825063944, 0.0014949964825063944, 0.0014949964825063944, 0.0014949964825063944, 0.0014949964825063944, 0.0014949964825063944, 0.0014949964825063944, 0.0014949964825063944, 0.0014949964825063944, 0.0014949964825063944, 0.0014949964825063944, 0.0014949964825063944, 0.0014949964825063944, 0.0014949964825063944, 0.0014949964825063944, 0.0014949964825063944, 0.0014949964825063944, 0.0014949964825063944, 0.0014949964825063944, 0.0014949964825063944, 0.0014949964825063944, 0.0014949964825063944, 0.0014949964825063944, 0.0014949964825063944, 0.0014949964825063944, 0.0014949964825063944, 0.0014949964825063944, 0.0014949964825063944, 0.0014949964825063944, 0.0014949964825063944, 0.0014949964825063944, 0.0014949964825063944, 0.0014949964825063944, 0.0014949964825063944, 0.0014949964825063944, 0.0014949964825063944, 0.0014949964825063944, 0.0014949964825063944, 0.0014949964825063944, 0.0014949964825063944, 0.0014949964825063944, 0.0014949964825063944, 0.0014949964825063944, 0.0014949964825063944, 0.0014949964825063944, 0.0014949964825063944, 0.0014949964825063944, 0.0014949964825063944, 0.0014949964825063944, 0.0014949964825063944, 0.0014949964825063944, 0.0014949964825063944, 0.0014949964825063944, 0.0014949964825063944, 0.0014949964825063944, 0.0014949964825063944, 0.0014949964825063944, 0.0014949964825063944, 0.0014949964825063944, 0.0014949964825063944, 0.0014949964825063944, 0.0014949964825063944, 0.0014949964825063944, 0.0014949964825063944, 0.0014949964825063944, 0.0014949964825063944, 0.0014949964825063944, 0.0014949964825063944, 0.0014949964825063944, 0.0014949964825063944, 0.0014949964825063944, 0.0014949964825063944, 0.0014949964825063944, 0.0014949964825063944, 0.0014949964825063944, 0.0014949964825063944, 0.0014949964825063944, 0.0014949964825063944, 0.0014949964825063944, 0.0014949964825063944, 0.0014949964825063944, 0.0014949964825063944, 0.0014949964825063944, 0.0014949964825063944, 0.0014949964825063944, 0.0014949964825063944, 0.0014949964825063944, 0.0014949964825063944, 0.0014949964825063944, 0.0014949964825063944, 0.0014949964825063944, 0.0014949964825063944, 0.0014949964825063944, 0.0014949964825063944, 0.0014949964825063944, 0.0014949964825063944, 0.0014949964825063944, 0.0014949964825063944, 0.0014949964825063944, 0.0014949964825063944, 0.0014949964825063944, 0.0014949964825063944, 0.0014949964825063944, 0.0014949964825063944, 0.0014949964825063944, 0.0014949964825063944, 0.0014949964825063944, 0.0014949964825063944, 0.0014949964825063944, 0.0014949964825063944, 0.0014949964825063944, 0.0014949964825063944, 0.0014949964825063944, 0.0014949964825063944, 0.0014949964825063944, 0.0014949964825063944, 0.0014949964825063944, 0.0014949964825063944, 0.0014949964825063944, 0.0014949964825063944, 0.0014949964825063944, 0.0014949964825063944, 0.0014949964825063944, 0.0014949964825063944, 0.0014949964825063944, 0.0014949964825063944, 0.0014949964825063944, 0.0014949964825063944, 0.0014949964825063944, 0.0014949964825063944, 0.0014949964825063944, 0.0014949964825063944, 0.0014949964825063944, 0.0014949964825063944, 0.0014949964825063944, 0.0014949964825063944, 0.0014949964825063944, 0.0014949964825063944, 0.0014949964825063944, 0.0014949964825063944, 0.0014949964825063944, 0.0014949964825063944, 0.0014949964825063944, 0.0014949964825063944, 0.0014949964825063944, 0.0014949964825063944, 0.0014949964825063944, 0.0014949964825063944, 0.0014949964825063944, 0.0014949964825063944, 0.0014949964825063944, 0.0014949964825063944, 0.0014949964825063944, 0.0014949964825063944, 0.0014949964825063944, 0.0014949964825063944, 0.0014949964825063944, 0.0014949964825063944, 0.0014949964825063944, 0.0014949964825063944, 0.0014949964825063944, 0.0014949964825063944, 0.0014949964825063944, 0.0014949964825063944, 0.0014949964825063944, 0.0014949964825063944, 0.0014949964825063944, 0.0014949964825063944, 0.0014949964825063944, 0.0014949964825063944, 0.0014949964825063944, 0.0014949964825063944, 0.0014949964825063944, 0.0014949964825063944, 0.0014949964825063944, 0.0014949964825063944, 0.0014949964825063944, 0.0014949964825063944, 0.0014949964825063944, 0.0014949964825063944, 0.0014949964825063944, 0.0014949964825063944, 0.0014949964825063944, 0.0014949964825063944, 0.0014949964825063944, 0.0014949964825063944, 0.0014949964825063944, 0.0014949964825063944, 0.0014949964825063944, 0.0014949964825063944, 0.0014949964825063944, 0.0014949964825063944, 0.0014949964825063944, 0.0014949964825063944, 0.0014949964825063944, 0.0014949964825063944, 0.0014949964825063944, 0.0014949964825063944, 0.0014949964825063944, 0.0014949964825063944, 0.0014949964825063944, 0.0014949964825063944, 0.0014949964825063944, 0.0014949964825063944, 0.0014949964825063944, 0.0014949964825063944, 0.0014949964825063944, 0.0014949964825063944, 0.0014949964825063944, 0.0014949964825063944, 0.0014949964825063944, 0.0014949964825063944, 0.0014949964825063944, 0.0014949964825063944, 0.0014949964825063944, 0.0014949964825063944, 0.0014949964825063944, 0.0014949964825063944, 0.0014949964825063944, 0.0014949964825063944, 0.0014949964825063944, 0.0014949964825063944, 0.0014949964825063944, 0.0014949964825063944, 0.0014949964825063944, 0.0014949964825063944, 0.0014949964825063944, 0.0014949964825063944, 0.0014949964825063944, 0.0014949964825063944, 0.0014949964825063944, 0.0014949964825063944, 0.0014949964825063944, 0.0014949964825063944, 0.0014949964825063944, 0.0014949964825063944, 0.0014949964825063944, 0.0014949964825063944, 0.0014949964825063944, 0.0014949964825063944, 0.0014949964825063944, 0.0014949964825063944, 0.0014949964825063944, 0.0014949964825063944, 0.0014949964825063944, 0.0014949964825063944, 0.0014949964825063944, 0.0014949964825063944, 0.0014949964825063944, 0.0014949964825063944, 0.0014949964825063944, 0.0014949964825063944, 0.0014949964825063944, 0.0014949964825063944, 0.0014949964825063944, 0.0014949964825063944, 0.0014949964825063944, 0.0014949964825063944, 0.0014949964825063944, 0.0014949964825063944, 0.0014949964825063944, 0.0014949964825063944, 0.0014949964825063944, 0.0014949964825063944, 0.0014949964825063944, 0.0014949964825063944, 0.0014949964825063944, 0.0014949964825063944, 0.0014949964825063944, 0.0014949964825063944, 0.0014949964825063944, 0.0014949964825063944, 0.0014949964825063944, 0.0014949964825063944, 0.0014949964825063944, 0.0014949964825063944, 0.0014949964825063944, 0.0014949964825063944, 0.0014949964825063944, 0.0014949964825063944, 0.0014949964825063944, 0.0014949964825063944, 0.0014949964825063944, 0.0014949964825063944, 0.0014949964825063944, 0.0014949964825063944, 0.0014949964825063944, 0.0014949964825063944, 0.0014949964825063944, 0.0014949964825063944, 0.0014949964825063944, 0.0014949964825063944, 0.0014949964825063944, 0.0014949964825063944, 0.0014949964825063944, 0.0014949964825063944, 0.0014949964825063944, 0.0014949964825063944, 0.0014949964825063944, 0.0014949964825063944, 0.0014949964825063944, 0.0014949964825063944, 0.0014949964825063944, 0.0014949964825063944, 0.0014949964825063944, 0.0014949964825063944, 0.0014949964825063944, 0.0014949964825063944, 0.0014949964825063944, 0.0014949964825063944, 0.0014949964825063944, 0.0014949964825063944, 0.0014949964825063944, 0.0014949964825063944, 0.0014949964825063944, 0.0014949964825063944, 0.0014949964825063944, 0.0014949964825063944, 0.0014949964825063944, 0.0014949964825063944, 0.0014949964825063944, 0.0014949964825063944, 0.0014949964825063944, 0.0014949964825063944, 0.0014949964825063944, 0.0014949964825063944, 0.0014949964825063944, 0.0014949964825063944, 0.0014949964825063944, 0.0014949964825063944, 0.0014949964825063944, 0.0014949964825063944, 0.0014949964825063944, 0.0014949964825063944, 0.0014949964825063944, 0.0014949964825063944, 0.0014949964825063944, 0.0014949964825063944, 0.0014949964825063944, 0.0014949964825063944, 0.0014949964825063944, 0.0014949964825063944, 0.0014949964825063944, 0.0014949964825063944, 0.0014949964825063944, 0.0014949964825063944, 0.0014949964825063944, 0.0014949964825063944, 0.0014949964825063944, 0.0014949964825063944, 0.0014949964825063944, 0.0014949964825063944, 0.0014949964825063944, 0.0014949964825063944, 0.0014949964825063944, 0.0014949964825063944, 0.0014949964825063944, 0.0014949964825063944, 0.0014949964825063944, 0.0014949964825063944, 0.0014949964825063944, 0.0014949964825063944, 0.0014949964825063944, 0.0014949964825063944, 0.0014949964825063944, 0.0014949964825063944, 0.0014949964825063944, 0.0014949964825063944, 0.0014949964825063944, 0.0014949964825063944, 0.0014949964825063944, 0.0014949964825063944, 0.0014949964825063944, 0.0014949964825063944, 0.0014949964825063944, 0.0014949964825063944, 0.0014949964825063944, 0.0014949964825063944, 0.0014949964825063944, 0.0014949964825063944, 0.0014949964825063944, 0.0014949964825063944, 0.0014949964825063944, 0.0014949964825063944, 0.0014949964825063944, 0.0014949964825063944, 0.0014949964825063944, 0.0014949964825063944, 0.0014949964825063944, 0.0014949964825063944, 0.0014949964825063944, 0.0014949964825063944, 0.0014949964825063944, 0.0014949964825063944, 0.0014949964825063944, 0.0014949964825063944, 0.0014949964825063944, 0.0014949964825063944, 0.0014949964825063944, 0.0014949964825063944, 0.0014949964825063944, 0.0014949964825063944, 0.0014949964825063944, 0.0014949964825063944, 0.0014949964825063944, 0.0014949964825063944, 0.0014949964825063944, 0.0014949964825063944, 0.0014949964825063944, 0.0014949964825063944, 0.0014949964825063944, 0.0014949964825063944, 0.0014949964825063944, 0.0014949964825063944, 0.0014949964825063944, 0.0014949964825063944, 0.0014949964825063944, 0.0014949964825063944, 0.0014949964825063944, 0.0014949964825063944, 0.0014949964825063944, 0.0014949964825063944, 0.0014949964825063944, 0.0014949964825063944, 0.0014949964825063944, 0.0014949964825063944, 0.0014949964825063944, 0.0014949964825063944, 0.0014949964825063944, 0.0014949964825063944, 0.0014949964825063944, 0.0014949964825063944, 0.0014949964825063944, 0.0014949964825063944, 0.0014949964825063944, 0.0014949964825063944, 0.0014949964825063944, 0.0014949964825063944, 0.0014949964825063944, 0.0014949964825063944, 0.0014949964825063944, 0.0014949964825063944, 0.0014949964825063944, 0.0014949964825063944, 0.0014949964825063944, 0.0014949964825063944, 0.0014949964825063944, 0.0014949964825063944, 0.0014949964825063944, 0.0014949964825063944, 0.0014949964825063944, 0.0014949964825063944, 0.0014949964825063944, 0.0014949964825063944, 0.0014949964825063944, 0.0014949964825063944, 0.0014949964825063944, 0.0014949964825063944, 0.0014949964825063944, 0.0014949964825063944, 0.0014949964825063944, 0.0014949964825063944, 0.0014949964825063944, 0.0014949964825063944, 0.0014949964825063944, 0.0014949964825063944, 0.0014949964825063944, 0.0014949964825063944, 0.0014949964825063944, 0.0014949964825063944, 0.0014949964825063944, 0.0014949964825063944, 0.0014949964825063944, 0.0014949964825063944, 0.0014949964825063944, 0.0014949964825063944, 0.0014949964825063944, 0.0014949964825063944, 0.0014949964825063944, 0.0014949964825063944, 0.0014949964825063944, 0.0014949964825063944, 0.0014949964825063944, 0.0014949964825063944, 0.0014949964825063944, 0.0014949964825063944, 0.0014949964825063944, 0.0014949964825063944, 0.0014949964825063944, 0.0014949964825063944], \"Term\": [\"donna\", \"work\", \"year\", \"always\", \"highly\", \"real\", \"update\", \"recommendation\", \"professional\", \"pleasure\", \"name\", \"justin\", \"find\", \"hardworking\", \"number\", \"recommend\", \"knowledgeable\", \"detail\", \"expert\", \"summer\", \"experience\", \"ball\", \"designer\", \"field\", \"eye\", \"creativity\", \"organise\", \"meticulous\", \"extremely\", \"bieber\", \"donna\", \"year\", \"always\", \"highly\", \"real\", \"find\", \"hardworking\", \"number\", \"recommend\", \"knowledgeable\", \"detail\", \"expert\", \"summer\", \"experience\", \"ball\", \"designer\", \"field\", \"eye\", \"creativity\", \"organise\", \"meticulous\", \"extremely\", \"work\", \"update\", \"recommendation\", \"professional\", \"pleasure\", \"name\", \"bieber\", \"consummate\", \"justin\", \"justin\", \"time\", \"consummate\", \"bieber\", \"name\", \"pleasure\", \"professional\", \"recommendation\", \"update\", \"work\", \"extremely\", \"meticulous\", \"organise\", \"creativity\", \"eye\", \"field\", \"designer\", \"ball\", \"experience\", \"summer\", \"expert\", \"detail\", \"knowledgeable\", \"recommend\", \"number\", \"hardworking\", \"find\", \"real\", \"highly\", \"always\", \"donna\", \"time\", \"consummate\", \"bieber\", \"extremely\", \"meticulous\", \"organise\", \"creativity\", \"eye\", \"field\", \"designer\", \"ball\", \"experience\", \"summer\", \"expert\", \"detail\", \"knowledgeable\", \"recommend\", \"number\", \"hardworking\", \"find\", \"justin\", \"name\", \"pleasure\", \"professional\", \"recommendation\", \"update\", \"real\", \"highly\", \"always\", \"year\", \"donna\", \"work\", \"time\", \"consummate\", \"bieber\", \"extremely\", \"meticulous\", \"organise\", \"creativity\", \"eye\", \"field\", \"designer\", \"ball\", \"experience\", \"summer\", \"expert\", \"detail\", \"knowledgeable\", \"recommend\", \"number\", \"hardworking\", \"find\", \"justin\", \"name\", \"pleasure\", \"professional\", \"recommendation\", \"update\", \"real\", \"highly\", \"always\", \"year\", \"donna\", \"work\", \"time\", \"consummate\", \"bieber\", \"extremely\", \"meticulous\", \"organise\", \"creativity\", \"eye\", \"field\", \"designer\", \"ball\", \"experience\", \"summer\", \"expert\", \"detail\", \"knowledgeable\", \"recommend\", \"number\", \"hardworking\", \"find\", \"justin\", \"name\", \"pleasure\", \"professional\", \"recommendation\", \"update\", \"real\", \"highly\", \"always\", \"year\", \"donna\", \"work\", \"time\", \"consummate\", \"bieber\", \"extremely\", \"meticulous\", \"organise\", \"creativity\", \"eye\", \"field\", \"designer\", \"ball\", \"experience\", \"summer\", \"expert\", \"detail\", \"knowledgeable\", \"recommend\", \"number\", \"hardworking\", \"find\", \"justin\", \"name\", \"pleasure\", \"professional\", \"recommendation\", \"update\", \"real\", \"highly\", \"always\", \"year\", \"donna\", \"work\", \"time\", \"consummate\", \"bieber\", \"extremely\", \"meticulous\", \"organise\", \"creativity\", \"eye\", \"field\", \"designer\", \"ball\", \"experience\", \"summer\", \"expert\", \"detail\", \"knowledgeable\", \"recommend\", \"number\", \"hardworking\", \"find\", \"justin\", \"name\", \"pleasure\", \"professional\", \"recommendation\", \"update\", \"real\", \"highly\", \"always\", \"year\", \"donna\", \"work\", \"time\", \"consummate\", \"bieber\", \"extremely\", \"meticulous\", \"organise\", \"creativity\", \"eye\", \"field\", \"designer\", \"ball\", \"experience\", \"summer\", \"expert\", \"detail\", \"knowledgeable\", \"recommend\", \"number\", \"hardworking\", \"find\", \"justin\", \"name\", \"pleasure\", \"professional\", \"recommendation\", \"update\", \"real\", \"highly\", \"always\", \"year\", \"donna\", \"work\", \"time\", \"consummate\", \"bieber\", \"extremely\", \"meticulous\", \"organise\", \"creativity\", \"eye\", \"field\", \"designer\", \"ball\", \"experience\", \"summer\", \"expert\", \"detail\", \"knowledgeable\", \"recommend\", \"number\", \"hardworking\", \"find\", \"justin\", \"name\", \"pleasure\", \"professional\", \"recommendation\", \"update\", \"real\", \"highly\", \"always\", \"year\", \"donna\", \"work\", \"time\", \"consummate\", \"bieber\", \"extremely\", \"meticulous\", \"organise\", \"creativity\", \"eye\", \"field\", \"designer\", \"ball\", \"experience\", \"summer\", \"expert\", \"detail\", \"knowledgeable\", \"recommend\", \"number\", \"hardworking\", \"find\", \"justin\", \"name\", \"pleasure\", \"professional\", \"recommendation\", \"update\", \"real\", \"highly\", \"always\", \"year\", \"donna\", \"work\", \"time\", \"consummate\", \"bieber\", \"extremely\", \"meticulous\", \"organise\", \"creativity\", \"eye\", \"field\", \"designer\", \"ball\", \"experience\", \"summer\", \"expert\", \"detail\", \"knowledgeable\", \"recommend\", \"number\", \"hardworking\", \"find\", \"justin\", \"name\", \"pleasure\", \"professional\", \"recommendation\", \"update\", \"real\", \"highly\", \"always\", \"year\", \"donna\", \"work\", \"time\", \"consummate\", \"bieber\", \"extremely\", \"meticulous\", \"organise\", \"creativity\", \"eye\", \"field\", \"designer\", \"ball\", \"experience\", \"summer\", \"expert\", \"detail\", \"knowledgeable\", \"recommend\", \"number\", \"hardworking\", \"find\", \"justin\", \"name\", \"pleasure\", \"professional\", \"recommendation\", \"update\", \"real\", \"highly\", \"always\", \"year\", \"donna\", \"work\", \"time\", \"consummate\", \"bieber\", \"extremely\", \"meticulous\", \"organise\", \"creativity\", \"eye\", \"field\", \"designer\", \"ball\", \"experience\", \"summer\", \"expert\", \"detail\", \"knowledgeable\", \"recommend\", \"number\", \"hardworking\", \"find\", \"justin\", \"name\", \"pleasure\", \"professional\", \"recommendation\", \"update\", \"real\", \"highly\", \"always\", \"year\", \"donna\", \"work\", \"time\", \"consummate\", \"bieber\", \"extremely\", \"meticulous\", \"organise\", \"creativity\", \"eye\", \"field\", \"designer\", \"ball\", \"experience\", \"summer\", \"expert\", \"detail\", \"knowledgeable\", \"recommend\", \"number\", \"hardworking\", \"find\", \"justin\", \"name\", \"pleasure\", \"professional\", \"recommendation\", \"update\", \"real\", \"highly\", \"always\", \"year\", \"donna\", \"work\", \"time\", \"consummate\", \"bieber\", \"extremely\", \"meticulous\", \"organise\", \"creativity\", \"eye\", \"field\", \"designer\", \"ball\", \"experience\", \"summer\", \"expert\", \"detail\", \"knowledgeable\", \"recommend\", \"number\", \"hardworking\", \"find\", \"justin\", \"name\", \"pleasure\", \"professional\", \"recommendation\", \"update\", \"real\", \"highly\", \"always\", \"year\", \"donna\", \"work\", \"time\", \"consummate\", \"bieber\", \"extremely\", \"meticulous\", \"organise\", \"creativity\", \"eye\", \"field\", \"designer\", \"ball\", \"experience\", \"summer\", \"expert\", \"detail\", \"knowledgeable\", \"recommend\", \"number\", \"hardworking\", \"find\", \"justin\", \"name\", \"pleasure\", \"professional\", \"recommendation\", \"update\", \"real\", \"highly\", \"always\", \"year\", \"donna\", \"work\", \"time\", \"consummate\", \"bieber\", \"extremely\", \"meticulous\", \"organise\", \"creativity\", \"eye\", \"field\", \"designer\", \"ball\", \"experience\", \"summer\", \"expert\", \"detail\", \"knowledgeable\", \"recommend\", \"number\", \"hardworking\", \"find\", \"justin\", \"name\", \"pleasure\", \"professional\", \"recommendation\", \"update\", \"real\", \"highly\", \"always\", \"year\", \"donna\", \"work\", \"time\", \"consummate\", \"bieber\", \"extremely\", \"meticulous\", \"organise\", \"creativity\", \"eye\", \"field\", \"designer\", \"ball\", \"experience\", \"summer\", \"expert\", \"detail\", \"knowledgeable\", \"recommend\", \"number\", \"hardworking\", \"find\", \"justin\", \"name\", \"pleasure\", \"professional\", \"recommendation\", \"update\", \"real\", \"highly\", \"always\", \"year\", \"donna\", \"work\", \"time\", \"consummate\", \"bieber\", \"extremely\", \"meticulous\", \"organise\", \"creativity\", \"eye\", \"field\", \"designer\", \"ball\", \"experience\", \"summer\", \"expert\", \"detail\", \"knowledgeable\", \"recommend\", \"number\", \"hardworking\", \"find\", \"justin\", \"name\", \"pleasure\", \"professional\", \"recommendation\", \"update\", \"real\", \"highly\", \"always\", \"year\", \"donna\", \"work\", \"time\", \"consummate\", \"bieber\", \"extremely\", \"meticulous\", \"organise\", \"creativity\", \"eye\", \"field\", \"designer\", \"ball\", \"experience\", \"summer\", \"expert\", \"detail\", \"knowledgeable\", \"recommend\", \"number\", \"hardworking\", \"find\", \"justin\", \"name\", \"pleasure\", \"professional\", \"recommendation\", \"update\", \"real\", \"highly\", \"always\", \"year\", \"donna\", \"work\"], \"Total\": [3.0, 3.0, 2.0, 2.0, 2.0, 2.0, 1.0, 1.0, 1.0, 1.0, 1.0, 1.0, 1.0, 1.0, 1.0, 1.0, 1.0, 1.0, 1.0, 1.0, 1.0, 1.0, 1.0, 1.0, 1.0, 1.0, 1.0, 1.0, 1.0, 0.0, 3.905071258544922, 2.0115230083465576, 2.0113749504089355, 2.0112996101379395, 2.0109670162200928, 1.064493179321289, 1.0644274950027466, 1.0643284320831299, 1.0641934871673584, 1.0641119480133057, 1.0640485286712646, 1.0640040636062622, 1.0639618635177612, 1.0639556646347046, 1.0639305114746094, 1.0639113187789917, 1.0638757944107056, 1.0638705492019653, 1.0638432502746582, 1.0638400316238403, 1.0638231039047241, 1.0631846189498901, 3.797240972518921, 1.9020302295684814, 1.9020133018493652, 1.9020085334777832, 1.9017810821533203, 1.901686429977417, 0.9543678164482117, 0.9543678164482117, 1.79209566116333, 1.79209566116333, 0.9543678164482117, 0.9543678164482117, 0.9543678164482117, 1.901686429977417, 1.9017810821533203, 1.9020085334777832, 1.9020133018493652, 1.9020302295684814, 3.797240972518921, 1.0631846189498901, 1.0638231039047241, 1.0638400316238403, 1.0638432502746582, 1.0638705492019653, 1.0638757944107056, 1.0639113187789917, 1.0639305114746094, 1.0639556646347046, 1.0639618635177612, 1.0640040636062622, 1.0640485286712646, 1.0641119480133057, 1.0641934871673584, 1.0643284320831299, 1.0644274950027466, 1.064493179321289, 2.0109670162200928, 2.0112996101379395, 2.0113749504089355, 3.905071258544922, 0.9543678164482117, 0.9543678164482117, 0.9543678164482117, 1.0631846189498901, 1.0638231039047241, 1.0638400316238403, 1.0638432502746582, 1.0638705492019653, 1.0638757944107056, 1.0639113187789917, 1.0639305114746094, 1.0639556646347046, 1.0639618635177612, 1.0640040636062622, 1.0640485286712646, 1.0641119480133057, 1.0641934871673584, 1.0643284320831299, 1.0644274950027466, 1.064493179321289, 1.79209566116333, 1.901686429977417, 1.9017810821533203, 1.9020085334777832, 1.9020133018493652, 1.9020302295684814, 2.0109670162200928, 2.0112996101379395, 2.0113749504089355, 2.0115230083465576, 3.905071258544922, 3.797240972518921, 0.9543678164482117, 0.9543678164482117, 0.9543678164482117, 1.0631846189498901, 1.0638231039047241, 1.0638400316238403, 1.0638432502746582, 1.0638705492019653, 1.0638757944107056, 1.0639113187789917, 1.0639305114746094, 1.0639556646347046, 1.0639618635177612, 1.0640040636062622, 1.0640485286712646, 1.0641119480133057, 1.0641934871673584, 1.0643284320831299, 1.0644274950027466, 1.064493179321289, 1.79209566116333, 1.901686429977417, 1.9017810821533203, 1.9020085334777832, 1.9020133018493652, 1.9020302295684814, 2.0109670162200928, 2.0112996101379395, 2.0113749504089355, 2.0115230083465576, 3.905071258544922, 3.797240972518921, 0.9543678164482117, 0.9543678164482117, 0.9543678164482117, 1.0631846189498901, 1.0638231039047241, 1.0638400316238403, 1.0638432502746582, 1.0638705492019653, 1.0638757944107056, 1.0639113187789917, 1.0639305114746094, 1.0639556646347046, 1.0639618635177612, 1.0640040636062622, 1.0640485286712646, 1.0641119480133057, 1.0641934871673584, 1.0643284320831299, 1.0644274950027466, 1.064493179321289, 1.79209566116333, 1.901686429977417, 1.9017810821533203, 1.9020085334777832, 1.9020133018493652, 1.9020302295684814, 2.0109670162200928, 2.0112996101379395, 2.0113749504089355, 2.0115230083465576, 3.905071258544922, 3.797240972518921, 0.9543678164482117, 0.9543678164482117, 0.9543678164482117, 1.0631846189498901, 1.0638231039047241, 1.0638400316238403, 1.0638432502746582, 1.0638705492019653, 1.0638757944107056, 1.0639113187789917, 1.0639305114746094, 1.0639556646347046, 1.0639618635177612, 1.0640040636062622, 1.0640485286712646, 1.0641119480133057, 1.0641934871673584, 1.0643284320831299, 1.0644274950027466, 1.064493179321289, 1.79209566116333, 1.901686429977417, 1.9017810821533203, 1.9020085334777832, 1.9020133018493652, 1.9020302295684814, 2.0109670162200928, 2.0112996101379395, 2.0113749504089355, 2.0115230083465576, 3.905071258544922, 3.797240972518921, 0.9543678164482117, 0.9543678164482117, 0.9543678164482117, 1.0631846189498901, 1.0638231039047241, 1.0638400316238403, 1.0638432502746582, 1.0638705492019653, 1.0638757944107056, 1.0639113187789917, 1.0639305114746094, 1.0639556646347046, 1.0639618635177612, 1.0640040636062622, 1.0640485286712646, 1.0641119480133057, 1.0641934871673584, 1.0643284320831299, 1.0644274950027466, 1.064493179321289, 1.79209566116333, 1.901686429977417, 1.9017810821533203, 1.9020085334777832, 1.9020133018493652, 1.9020302295684814, 2.0109670162200928, 2.0112996101379395, 2.0113749504089355, 2.0115230083465576, 3.905071258544922, 3.797240972518921, 0.9543678164482117, 0.9543678164482117, 0.9543678164482117, 1.0631846189498901, 1.0638231039047241, 1.0638400316238403, 1.0638432502746582, 1.0638705492019653, 1.0638757944107056, 1.0639113187789917, 1.0639305114746094, 1.0639556646347046, 1.0639618635177612, 1.0640040636062622, 1.0640485286712646, 1.0641119480133057, 1.0641934871673584, 1.0643284320831299, 1.0644274950027466, 1.064493179321289, 1.79209566116333, 1.901686429977417, 1.9017810821533203, 1.9020085334777832, 1.9020133018493652, 1.9020302295684814, 2.0109670162200928, 2.0112996101379395, 2.0113749504089355, 2.0115230083465576, 3.905071258544922, 3.797240972518921, 0.9543678164482117, 0.9543678164482117, 0.9543678164482117, 1.0631846189498901, 1.0638231039047241, 1.0638400316238403, 1.0638432502746582, 1.0638705492019653, 1.0638757944107056, 1.0639113187789917, 1.0639305114746094, 1.0639556646347046, 1.0639618635177612, 1.0640040636062622, 1.0640485286712646, 1.0641119480133057, 1.0641934871673584, 1.0643284320831299, 1.0644274950027466, 1.064493179321289, 1.79209566116333, 1.901686429977417, 1.9017810821533203, 1.9020085334777832, 1.9020133018493652, 1.9020302295684814, 2.0109670162200928, 2.0112996101379395, 2.0113749504089355, 2.0115230083465576, 3.905071258544922, 3.797240972518921, 0.9543678164482117, 0.9543678164482117, 0.9543678164482117, 1.0631846189498901, 1.0638231039047241, 1.0638400316238403, 1.0638432502746582, 1.0638705492019653, 1.0638757944107056, 1.0639113187789917, 1.0639305114746094, 1.0639556646347046, 1.0639618635177612, 1.0640040636062622, 1.0640485286712646, 1.0641119480133057, 1.0641934871673584, 1.0643284320831299, 1.0644274950027466, 1.064493179321289, 1.79209566116333, 1.901686429977417, 1.9017810821533203, 1.9020085334777832, 1.9020133018493652, 1.9020302295684814, 2.0109670162200928, 2.0112996101379395, 2.0113749504089355, 2.0115230083465576, 3.905071258544922, 3.797240972518921, 0.9543678164482117, 0.9543678164482117, 0.9543678164482117, 1.0631846189498901, 1.0638231039047241, 1.0638400316238403, 1.0638432502746582, 1.0638705492019653, 1.0638757944107056, 1.0639113187789917, 1.0639305114746094, 1.0639556646347046, 1.0639618635177612, 1.0640040636062622, 1.0640485286712646, 1.0641119480133057, 1.0641934871673584, 1.0643284320831299, 1.0644274950027466, 1.064493179321289, 1.79209566116333, 1.901686429977417, 1.9017810821533203, 1.9020085334777832, 1.9020133018493652, 1.9020302295684814, 2.0109670162200928, 2.0112996101379395, 2.0113749504089355, 2.0115230083465576, 3.905071258544922, 3.797240972518921, 0.9543678164482117, 0.9543678164482117, 0.9543678164482117, 1.0631846189498901, 1.0638231039047241, 1.0638400316238403, 1.0638432502746582, 1.0638705492019653, 1.0638757944107056, 1.0639113187789917, 1.0639305114746094, 1.0639556646347046, 1.0639618635177612, 1.0640040636062622, 1.0640485286712646, 1.0641119480133057, 1.0641934871673584, 1.0643284320831299, 1.0644274950027466, 1.064493179321289, 1.79209566116333, 1.901686429977417, 1.9017810821533203, 1.9020085334777832, 1.9020133018493652, 1.9020302295684814, 2.0109670162200928, 2.0112996101379395, 2.0113749504089355, 2.0115230083465576, 3.905071258544922, 3.797240972518921, 0.9543678164482117, 0.9543678164482117, 0.9543678164482117, 1.0631846189498901, 1.0638231039047241, 1.0638400316238403, 1.0638432502746582, 1.0638705492019653, 1.0638757944107056, 1.0639113187789917, 1.0639305114746094, 1.0639556646347046, 1.0639618635177612, 1.0640040636062622, 1.0640485286712646, 1.0641119480133057, 1.0641934871673584, 1.0643284320831299, 1.0644274950027466, 1.064493179321289, 1.79209566116333, 1.901686429977417, 1.9017810821533203, 1.9020085334777832, 1.9020133018493652, 1.9020302295684814, 2.0109670162200928, 2.0112996101379395, 2.0113749504089355, 2.0115230083465576, 3.905071258544922, 3.797240972518921, 0.9543678164482117, 0.9543678164482117, 0.9543678164482117, 1.0631846189498901, 1.0638231039047241, 1.0638400316238403, 1.0638432502746582, 1.0638705492019653, 1.0638757944107056, 1.0639113187789917, 1.0639305114746094, 1.0639556646347046, 1.0639618635177612, 1.0640040636062622, 1.0640485286712646, 1.0641119480133057, 1.0641934871673584, 1.0643284320831299, 1.0644274950027466, 1.064493179321289, 1.79209566116333, 1.901686429977417, 1.9017810821533203, 1.9020085334777832, 1.9020133018493652, 1.9020302295684814, 2.0109670162200928, 2.0112996101379395, 2.0113749504089355, 2.0115230083465576, 3.905071258544922, 3.797240972518921, 0.9543678164482117, 0.9543678164482117, 0.9543678164482117, 1.0631846189498901, 1.0638231039047241, 1.0638400316238403, 1.0638432502746582, 1.0638705492019653, 1.0638757944107056, 1.0639113187789917, 1.0639305114746094, 1.0639556646347046, 1.0639618635177612, 1.0640040636062622, 1.0640485286712646, 1.0641119480133057, 1.0641934871673584, 1.0643284320831299, 1.0644274950027466, 1.064493179321289, 1.79209566116333, 1.901686429977417, 1.9017810821533203, 1.9020085334777832, 1.9020133018493652, 1.9020302295684814, 2.0109670162200928, 2.0112996101379395, 2.0113749504089355, 2.0115230083465576, 3.905071258544922, 3.797240972518921, 0.9543678164482117, 0.9543678164482117, 0.9543678164482117, 1.0631846189498901, 1.0638231039047241, 1.0638400316238403, 1.0638432502746582, 1.0638705492019653, 1.0638757944107056, 1.0639113187789917, 1.0639305114746094, 1.0639556646347046, 1.0639618635177612, 1.0640040636062622, 1.0640485286712646, 1.0641119480133057, 1.0641934871673584, 1.0643284320831299, 1.0644274950027466, 1.064493179321289, 1.79209566116333, 1.901686429977417, 1.9017810821533203, 1.9020085334777832, 1.9020133018493652, 1.9020302295684814, 2.0109670162200928, 2.0112996101379395, 2.0113749504089355, 2.0115230083465576, 3.905071258544922, 3.797240972518921, 0.9543678164482117, 0.9543678164482117, 0.9543678164482117, 1.0631846189498901, 1.0638231039047241, 1.0638400316238403, 1.0638432502746582, 1.0638705492019653, 1.0638757944107056, 1.0639113187789917, 1.0639305114746094, 1.0639556646347046, 1.0639618635177612, 1.0640040636062622, 1.0640485286712646, 1.0641119480133057, 1.0641934871673584, 1.0643284320831299, 1.0644274950027466, 1.064493179321289, 1.79209566116333, 1.901686429977417, 1.9017810821533203, 1.9020085334777832, 1.9020133018493652, 1.9020302295684814, 2.0109670162200928, 2.0112996101379395, 2.0113749504089355, 2.0115230083465576, 3.905071258544922, 3.797240972518921, 0.9543678164482117, 0.9543678164482117, 0.9543678164482117, 1.0631846189498901, 1.0638231039047241, 1.0638400316238403, 1.0638432502746582, 1.0638705492019653, 1.0638757944107056, 1.0639113187789917, 1.0639305114746094, 1.0639556646347046, 1.0639618635177612, 1.0640040636062622, 1.0640485286712646, 1.0641119480133057, 1.0641934871673584, 1.0643284320831299, 1.0644274950027466, 1.064493179321289, 1.79209566116333, 1.901686429977417, 1.9017810821533203, 1.9020085334777832, 1.9020133018493652, 1.9020302295684814, 2.0109670162200928, 2.0112996101379395, 2.0113749504089355, 2.0115230083465576, 3.905071258544922, 3.797240972518921, 0.9543678164482117, 0.9543678164482117, 0.9543678164482117, 1.0631846189498901, 1.0638231039047241, 1.0638400316238403, 1.0638432502746582, 1.0638705492019653, 1.0638757944107056, 1.0639113187789917, 1.0639305114746094, 1.0639556646347046, 1.0639618635177612, 1.0640040636062622, 1.0640485286712646, 1.0641119480133057, 1.0641934871673584, 1.0643284320831299, 1.0644274950027466, 1.064493179321289, 1.79209566116333, 1.901686429977417, 1.9017810821533203, 1.9020085334777832, 1.9020133018493652, 1.9020302295684814, 2.0109670162200928, 2.0112996101379395, 2.0113749504089355, 2.0115230083465576, 3.905071258544922, 3.797240972518921, 0.9543678164482117, 0.9543678164482117, 0.9543678164482117, 1.0631846189498901, 1.0638231039047241, 1.0638400316238403, 1.0638432502746582, 1.0638705492019653, 1.0638757944107056, 1.0639113187789917, 1.0639305114746094, 1.0639556646347046, 1.0639618635177612, 1.0640040636062622, 1.0640485286712646, 1.0641119480133057, 1.0641934871673584, 1.0643284320831299, 1.0644274950027466, 1.064493179321289, 1.79209566116333, 1.901686429977417, 1.9017810821533203, 1.9020085334777832, 1.9020133018493652, 1.9020302295684814, 2.0109670162200928, 2.0112996101379395, 2.0113749504089355, 2.0115230083465576, 3.905071258544922, 3.797240972518921], \"loglift\": [30.0, 29.0, 28.0, 27.0, 26.0, 25.0, 24.0, 23.0, 22.0, 21.0, 20.0, 19.0, 18.0, 17.0, 16.0, 15.0, 14.0, 13.0, 12.0, 11.0, 10.0, 9.0, 8.0, 7.0, 6.0, 5.0, 4.0, 3.0, 2.0, 1.0, 0.2540999948978424, 0.23690000176429749, 0.23690000176429749, 0.23690000176429749, 0.23690000176429749, 0.20479999482631683, 0.20479999482631683, 0.20469999313354492, 0.20469999313354492, 0.20469999313354492, 0.20469999313354492, 0.20469999313354492, 0.20469999313354492, 0.20469999313354492, 0.20469999313354492, 0.20469999313354492, 0.20469999313354492, 0.20469999313354492, 0.20469999313354492, 0.20469999313354492, 0.20469999313354492, 0.2046000063419342, -0.0008999999845400453, -0.375900000333786, -0.375900000333786, -0.375900000333786, -0.37599998712539673, -0.37599998712539673, -2.729300022125244, -2.729300022125244, -3.3594000339508057, 1.472000002861023, 1.4329999685287476, 1.4329999685287476, 1.4329999685287476, 0.7436000108718872, 0.7434999942779541, 0.743399977684021, 0.743399977684021, 0.743399977684021, 0.051899999380111694, -1.719499945640564, -1.7201000452041626, -1.7201000452041626, -1.7201000452041626, -1.7201000452041626, -1.7201000452041626, -1.7201999425888062, -1.7201999425888062, -1.7201999425888062, -1.7201999425888062, -1.7202999591827393, -1.7202999591827393, -1.7203999757766724, -1.7203999757766724, -1.7206000089645386, -1.7207000255584717, -1.7207000255584717, -2.356800079345703, -2.3570001125335693, -2.3570001125335693, -3.0204999446868896, 0.4101000130176544, 0.4101000130176544, 0.4101000130176544, 0.35580000281333923, 0.3418999910354614, 0.34150001406669617, 0.34139999747276306, 0.3407999873161316, 0.3407000005245209, 0.3398999869823456, 0.3395000100135803, 0.33889999985694885, 0.33880001306533813, 0.3379000127315521, 0.336899995803833, 0.33550000190734863, 0.3337000012397766, 0.33070001006126404, 0.32850000262260437, 0.3269999921321869, -0.2199999988079071, -0.2418999969959259, -0.24390000104904175, -0.24889999628067017, -0.24899999797344208, -0.24940000474452972, -0.25529998540878296, -0.2623000144958496, -0.2637999951839447, -0.2669000029563904, -0.8407999873161316, -0.8805000185966492, 0.4521999955177307, 0.4521999955177307, 0.4521999955177307, 0.3441999852657318, 0.34360000491142273, 0.34360000491142273, 0.34360000491142273, 0.34360000491142273, 0.3434999883174896, 0.3434999883174896, 0.3434999883174896, 0.3434999883174896, 0.3434999883174896, 0.3434000015258789, 0.3434000015258789, 0.3433000147342682, 0.3431999981403351, 0.34310001134872437, 0.34299999475479126, 0.34299999475479126, -0.17790000140666962, -0.23729999363422394, -0.23729999363422394, -0.23739999532699585, -0.23739999532699585, -0.23749999701976776, -0.29319998621940613, -0.29330000281333923, -0.29339998960494995, -0.29339998960494995, -0.9567999839782715, -0.9287999868392944, 0.4521999955177307, 0.4521999955177307, 0.4521999955177307, 0.3441999852657318, 0.34360000491142273, 0.34360000491142273, 0.34360000491142273, 0.34360000491142273, 0.3434999883174896, 0.3434999883174896, 0.3434999883174896, 0.3434999883174896, 0.3434999883174896, 0.3434000015258789, 0.3434000015258789, 0.3433000147342682, 0.3431999981403351, 0.34310001134872437, 0.34299999475479126, 0.34299999475479126, -0.17790000140666962, -0.23729999363422394, -0.23729999363422394, -0.23739999532699585, -0.23739999532699585, -0.23749999701976776, -0.29319998621940613, -0.29330000281333923, -0.29339998960494995, -0.29339998960494995, -0.9567999839782715, -0.9287999868392944, 0.4521999955177307, 0.4521999955177307, 0.4521999955177307, 0.3441999852657318, 0.34360000491142273, 0.34360000491142273, 0.34360000491142273, 0.34360000491142273, 0.3434999883174896, 0.3434999883174896, 0.3434999883174896, 0.3434999883174896, 0.3434999883174896, 0.3434000015258789, 0.3434000015258789, 0.3433000147342682, 0.3431999981403351, 0.34310001134872437, 0.34299999475479126, 0.34299999475479126, -0.17790000140666962, -0.23729999363422394, -0.23729999363422394, -0.23739999532699585, -0.23739999532699585, -0.23749999701976776, -0.29319998621940613, -0.29330000281333923, -0.29339998960494995, -0.29339998960494995, -0.9567999839782715, -0.9287999868392944, 0.4521999955177307, 0.4521999955177307, 0.4521999955177307, 0.3441999852657318, 0.34360000491142273, 0.34360000491142273, 0.34360000491142273, 0.34360000491142273, 0.3434999883174896, 0.3434999883174896, 0.3434999883174896, 0.3434999883174896, 0.3434999883174896, 0.3434000015258789, 0.3434000015258789, 0.3433000147342682, 0.3431999981403351, 0.34310001134872437, 0.34299999475479126, 0.34299999475479126, -0.17790000140666962, -0.23729999363422394, -0.23729999363422394, -0.23739999532699585, -0.23739999532699585, -0.23749999701976776, -0.29319998621940613, -0.29330000281333923, -0.29339998960494995, -0.29339998960494995, -0.9567999839782715, -0.9287999868392944, 0.4521999955177307, 0.4521999955177307, 0.4521999955177307, 0.3441999852657318, 0.34360000491142273, 0.34360000491142273, 0.34360000491142273, 0.34360000491142273, 0.3434999883174896, 0.3434999883174896, 0.3434999883174896, 0.3434999883174896, 0.3434999883174896, 0.3434000015258789, 0.3434000015258789, 0.3433000147342682, 0.3431999981403351, 0.34310001134872437, 0.34299999475479126, 0.34299999475479126, -0.17790000140666962, -0.23729999363422394, -0.23729999363422394, -0.23739999532699585, -0.23739999532699585, -0.23749999701976776, -0.29319998621940613, -0.29330000281333923, -0.29339998960494995, -0.29339998960494995, -0.9567999839782715, -0.9287999868392944, 0.4521999955177307, 0.4521999955177307, 0.4521999955177307, 0.3441999852657318, 0.34360000491142273, 0.34360000491142273, 0.34360000491142273, 0.34360000491142273, 0.3434999883174896, 0.3434999883174896, 0.3434999883174896, 0.3434999883174896, 0.3434999883174896, 0.3434000015258789, 0.3434000015258789, 0.3433000147342682, 0.3431999981403351, 0.34310001134872437, 0.34299999475479126, 0.34299999475479126, -0.17790000140666962, -0.23729999363422394, -0.23729999363422394, -0.23739999532699585, -0.23739999532699585, -0.23749999701976776, -0.29319998621940613, -0.29330000281333923, -0.29339998960494995, -0.29339998960494995, -0.9567999839782715, -0.9287999868392944, 0.4521999955177307, 0.4521999955177307, 0.4521999955177307, 0.3441999852657318, 0.34360000491142273, 0.34360000491142273, 0.34360000491142273, 0.34360000491142273, 0.3434999883174896, 0.3434999883174896, 0.3434999883174896, 0.3434999883174896, 0.3434999883174896, 0.3434000015258789, 0.3434000015258789, 0.3433000147342682, 0.3431999981403351, 0.34310001134872437, 0.34299999475479126, 0.34299999475479126, -0.17790000140666962, -0.23729999363422394, -0.23729999363422394, -0.23739999532699585, -0.23739999532699585, -0.23749999701976776, -0.29319998621940613, -0.29330000281333923, -0.29339998960494995, -0.29339998960494995, -0.9567999839782715, -0.9287999868392944, 0.4521999955177307, 0.4521999955177307, 0.4521999955177307, 0.3441999852657318, 0.34360000491142273, 0.34360000491142273, 0.34360000491142273, 0.34360000491142273, 0.3434999883174896, 0.3434999883174896, 0.3434999883174896, 0.3434999883174896, 0.3434999883174896, 0.3434000015258789, 0.3434000015258789, 0.3433000147342682, 0.3431999981403351, 0.34310001134872437, 0.34299999475479126, 0.34299999475479126, -0.17790000140666962, -0.23729999363422394, -0.23729999363422394, -0.23739999532699585, -0.23739999532699585, -0.23749999701976776, -0.29319998621940613, -0.29330000281333923, -0.29339998960494995, -0.29339998960494995, -0.9567999839782715, -0.9287999868392944, 0.4521999955177307, 0.4521999955177307, 0.4521999955177307, 0.3441999852657318, 0.34360000491142273, 0.34360000491142273, 0.34360000491142273, 0.34360000491142273, 0.3434999883174896, 0.3434999883174896, 0.3434999883174896, 0.3434999883174896, 0.3434999883174896, 0.3434000015258789, 0.3434000015258789, 0.3433000147342682, 0.3431999981403351, 0.34310001134872437, 0.34299999475479126, 0.34299999475479126, -0.17790000140666962, -0.23729999363422394, -0.23729999363422394, -0.23739999532699585, -0.23739999532699585, -0.23749999701976776, -0.29319998621940613, -0.29330000281333923, -0.29339998960494995, -0.29339998960494995, -0.9567999839782715, -0.9287999868392944, 0.4521999955177307, 0.4521999955177307, 0.4521999955177307, 0.3441999852657318, 0.34360000491142273, 0.34360000491142273, 0.34360000491142273, 0.34360000491142273, 0.3434999883174896, 0.3434999883174896, 0.3434999883174896, 0.3434999883174896, 0.3434999883174896, 0.3434000015258789, 0.3434000015258789, 0.3433000147342682, 0.3431999981403351, 0.34310001134872437, 0.34299999475479126, 0.34299999475479126, -0.17790000140666962, -0.23729999363422394, -0.23729999363422394, -0.23739999532699585, -0.23739999532699585, -0.23749999701976776, -0.29319998621940613, -0.29330000281333923, -0.29339998960494995, -0.29339998960494995, -0.9567999839782715, -0.9287999868392944, 0.4521999955177307, 0.4521999955177307, 0.4521999955177307, 0.3441999852657318, 0.34360000491142273, 0.34360000491142273, 0.34360000491142273, 0.34360000491142273, 0.3434999883174896, 0.3434999883174896, 0.3434999883174896, 0.3434999883174896, 0.3434999883174896, 0.3434000015258789, 0.3434000015258789, 0.3433000147342682, 0.3431999981403351, 0.34310001134872437, 0.34299999475479126, 0.34299999475479126, -0.17790000140666962, -0.23729999363422394, -0.23729999363422394, -0.23739999532699585, -0.23739999532699585, -0.23749999701976776, -0.29319998621940613, -0.29330000281333923, -0.29339998960494995, -0.29339998960494995, -0.9567999839782715, -0.9287999868392944, 0.4521999955177307, 0.4521999955177307, 0.4521999955177307, 0.3441999852657318, 0.34360000491142273, 0.34360000491142273, 0.34360000491142273, 0.34360000491142273, 0.3434999883174896, 0.3434999883174896, 0.3434999883174896, 0.3434999883174896, 0.3434999883174896, 0.3434000015258789, 0.3434000015258789, 0.3433000147342682, 0.3431999981403351, 0.34310001134872437, 0.34299999475479126, 0.34299999475479126, -0.17790000140666962, -0.23729999363422394, -0.23729999363422394, -0.23739999532699585, -0.23739999532699585, -0.23749999701976776, -0.29319998621940613, -0.29330000281333923, -0.29339998960494995, -0.29339998960494995, -0.9567999839782715, -0.9287999868392944, 0.4521999955177307, 0.4521999955177307, 0.4521999955177307, 0.3441999852657318, 0.34360000491142273, 0.34360000491142273, 0.34360000491142273, 0.34360000491142273, 0.3434999883174896, 0.3434999883174896, 0.3434999883174896, 0.3434999883174896, 0.3434999883174896, 0.3434000015258789, 0.3434000015258789, 0.3433000147342682, 0.3431999981403351, 0.34310001134872437, 0.34299999475479126, 0.34299999475479126, -0.17790000140666962, -0.23729999363422394, -0.23729999363422394, -0.23739999532699585, -0.23739999532699585, -0.23749999701976776, -0.29319998621940613, -0.29330000281333923, -0.29339998960494995, -0.29339998960494995, -0.9567999839782715, -0.9287999868392944, 0.4521999955177307, 0.4521999955177307, 0.4521999955177307, 0.3441999852657318, 0.34360000491142273, 0.34360000491142273, 0.34360000491142273, 0.34360000491142273, 0.3434999883174896, 0.3434999883174896, 0.3434999883174896, 0.3434999883174896, 0.3434999883174896, 0.3434000015258789, 0.3434000015258789, 0.3433000147342682, 0.3431999981403351, 0.34310001134872437, 0.34299999475479126, 0.34299999475479126, -0.17790000140666962, -0.23729999363422394, -0.23729999363422394, -0.23739999532699585, -0.23739999532699585, -0.23749999701976776, -0.29319998621940613, -0.29330000281333923, -0.29339998960494995, -0.29339998960494995, -0.9567999839782715, -0.9287999868392944, 0.4521999955177307, 0.4521999955177307, 0.4521999955177307, 0.3441999852657318, 0.34360000491142273, 0.34360000491142273, 0.34360000491142273, 0.34360000491142273, 0.3434999883174896, 0.3434999883174896, 0.3434999883174896, 0.3434999883174896, 0.3434999883174896, 0.3434000015258789, 0.3434000015258789, 0.3433000147342682, 0.3431999981403351, 0.34310001134872437, 0.34299999475479126, 0.34299999475479126, -0.17790000140666962, -0.23729999363422394, -0.23729999363422394, -0.23739999532699585, -0.23739999532699585, -0.23749999701976776, -0.29319998621940613, -0.29330000281333923, -0.29339998960494995, -0.29339998960494995, -0.9567999839782715, -0.9287999868392944, 0.4521999955177307, 0.4521999955177307, 0.4521999955177307, 0.3441999852657318, 0.34360000491142273, 0.34360000491142273, 0.34360000491142273, 0.34360000491142273, 0.3434999883174896, 0.3434999883174896, 0.3434999883174896, 0.3434999883174896, 0.3434999883174896, 0.3434000015258789, 0.3434000015258789, 0.3433000147342682, 0.3431999981403351, 0.34310001134872437, 0.34299999475479126, 0.34299999475479126, -0.17790000140666962, -0.23729999363422394, -0.23729999363422394, -0.23739999532699585, -0.23739999532699585, -0.23749999701976776, -0.29319998621940613, -0.29330000281333923, -0.29339998960494995, -0.29339998960494995, -0.9567999839782715, -0.9287999868392944, 0.4521999955177307, 0.4521999955177307, 0.4521999955177307, 0.3441999852657318, 0.34360000491142273, 0.34360000491142273, 0.34360000491142273, 0.34360000491142273, 0.3434999883174896, 0.3434999883174896, 0.3434999883174896, 0.3434999883174896, 0.3434999883174896, 0.3434000015258789, 0.3434000015258789, 0.3433000147342682, 0.3431999981403351, 0.34310001134872437, 0.34299999475479126, 0.34299999475479126, -0.17790000140666962, -0.23729999363422394, -0.23729999363422394, -0.23739999532699585, -0.23739999532699585, -0.23749999701976776, -0.29319998621940613, -0.29330000281333923, -0.29339998960494995, -0.29339998960494995, -0.9567999839782715, -0.9287999868392944], \"logprob\": [30.0, 29.0, 28.0, 27.0, 26.0, 25.0, 24.0, 23.0, 22.0, 21.0, 20.0, 19.0, 18.0, 17.0, 16.0, 15.0, 14.0, 13.0, 12.0, 11.0, 10.0, 9.0, 8.0, 7.0, 6.0, 5.0, 4.0, 3.0, 2.0, 1.0, -2.2548999786376953, -2.9354000091552734, -2.9354000091552734, -2.935499906539917, -2.935699939727783, -3.6038999557495117, -3.6040000915527344, -3.604099988937378, -3.604300022125244, -3.604300022125244, -3.6043999195098877, -3.6045000553131104, -3.6045000553131104, -3.6045000553131104, -3.6045000553131104, -3.604599952697754, -3.604599952697754, -3.604599952697754, -3.604599952697754, -3.604599952697754, -3.604599952697754, -3.605299949645996, -2.537899971008301, -3.604099988937378, -3.6041998863220215, -3.6041998863220215, -3.6043999195098877, -3.6045000553131104, -6.647200107574463, -6.647200107574463, -6.647200107574463, -1.8158999681472778, -2.4848999977111816, -2.4848999977111816, -2.4848999977111816, -2.4848999977111816, -2.4848999977111816, -2.4848999977111816, -2.4848999977111816, -2.4848999977111816, -2.484999895095825, -5.529399871826172, -5.529399871826172, -5.529399871826172, -5.529399871826172, -5.529399871826172, -5.529399871826172, -5.529399871826172, -5.529399871826172, -5.529399871826172, -5.529399871826172, -5.529399871826172, -5.529399871826172, -5.529399871826172, -5.529399871826172, -5.529399871826172, -5.529399871826172, -5.529399871826172, -5.529399871826172, -5.529399871826172, -5.529399871826172, -5.529399871826172, -3.5078001022338867, -3.5078001022338867, -3.5078001022338867, -3.4540998935699463, -3.4674999713897705, -3.4677999019622803, -3.467900037765503, -3.4684998989105225, -3.468600034713745, -3.4693000316619873, -3.4697000980377197, -3.4702999591827393, -3.470400094985962, -3.471299886703491, -3.4721999168395996, -3.473599910736084, -3.4753000736236572, -3.4781999588012695, -3.480299949645996, -3.4816999435424805, -3.5078001022338867, -3.4702999591827393, -3.4723000526428223, -3.4772000312805176, -3.477299928665161, -3.47760009765625, -3.4279000759124756, -3.4347000122070312, -3.436199903488159, -3.439300060272217, -3.3498001098632812, -3.4173998832702637, -3.4656999111175537, -3.4656999111175537, -3.4656999111175537, -3.4656999111175537, -3.4656999111175537, -3.4656999111175537, -3.4656999111175537, -3.4656999111175537, -3.4656999111175537, -3.4656999111175537, -3.4656999111175537, -3.4656999111175537, -3.4656999111175537, -3.4656999111175537, -3.4656999111175537, -3.4656999111175537, -3.4656999111175537, -3.4656999111175537, -3.4656999111175537, -3.4656999111175537, -3.4656999111175537, -3.4656999111175537, -3.4656999111175537, -3.4656999111175537, -3.4656999111175537, -3.4656999111175537, -3.4656999111175537, -3.4656999111175537, -3.4656999111175537, -3.4656999111175537, -3.4656999111175537, -3.4656999111175537, -3.4656999111175537, -3.4656999111175537, -3.4656999111175537, -3.4656999111175537, -3.4656999111175537, -3.4656999111175537, -3.4656999111175537, -3.4656999111175537, -3.4656999111175537, -3.4656999111175537, -3.4656999111175537, -3.4656999111175537, -3.4656999111175537, -3.4656999111175537, -3.4656999111175537, -3.4656999111175537, -3.4656999111175537, -3.4656999111175537, -3.4656999111175537, -3.4656999111175537, -3.4656999111175537, -3.4656999111175537, -3.4656999111175537, -3.4656999111175537, -3.4656999111175537, -3.4656999111175537, -3.4656999111175537, -3.4656999111175537, -3.4656999111175537, -3.4656999111175537, -3.4656999111175537, -3.4656999111175537, -3.4656999111175537, -3.4656999111175537, -3.4656999111175537, -3.4656999111175537, -3.4656999111175537, -3.4656999111175537, -3.4656999111175537, -3.4656999111175537, -3.4656999111175537, -3.4656999111175537, -3.4656999111175537, -3.4656999111175537, -3.4656999111175537, -3.4656999111175537, -3.4656999111175537, -3.4656999111175537, -3.4656999111175537, -3.4656999111175537, -3.4656999111175537, -3.4656999111175537, -3.4656999111175537, -3.4656999111175537, -3.4656999111175537, -3.4656999111175537, -3.4656999111175537, -3.4656999111175537, -3.4656999111175537, -3.4656999111175537, -3.4656999111175537, -3.4656999111175537, -3.4656999111175537, -3.4656999111175537, -3.4656999111175537, -3.4656999111175537, -3.4656999111175537, -3.4656999111175537, -3.4656999111175537, -3.4656999111175537, -3.4656999111175537, -3.4656999111175537, -3.4656999111175537, -3.4656999111175537, -3.4656999111175537, -3.4656999111175537, -3.4656999111175537, -3.4656999111175537, -3.4656999111175537, -3.4656999111175537, -3.4656999111175537, -3.4656999111175537, -3.4656999111175537, -3.4656999111175537, -3.4656999111175537, -3.4656999111175537, -3.4656999111175537, -3.4656999111175537, -3.4656999111175537, -3.4656999111175537, -3.4656999111175537, -3.4656999111175537, -3.4656999111175537, -3.4656999111175537, -3.4656999111175537, -3.4656999111175537, -3.4656999111175537, -3.4656999111175537, -3.4656999111175537, -3.4656999111175537, -3.4656999111175537, -3.4656999111175537, -3.4656999111175537, -3.4656999111175537, -3.4656999111175537, -3.4656999111175537, -3.4656999111175537, -3.4656999111175537, -3.4656999111175537, -3.4656999111175537, -3.4656999111175537, -3.4656999111175537, -3.4656999111175537, -3.4656999111175537, -3.4656999111175537, -3.4656999111175537, -3.4656999111175537, -3.4656999111175537, -3.4656999111175537, -3.4656999111175537, -3.4656999111175537, -3.4656999111175537, -3.4656999111175537, -3.4656999111175537, -3.4656999111175537, -3.4656999111175537, -3.4656999111175537, -3.4656999111175537, -3.4656999111175537, -3.4656999111175537, -3.4656999111175537, -3.4656999111175537, -3.4656999111175537, -3.4656999111175537, -3.4656999111175537, -3.4656999111175537, -3.4656999111175537, -3.4656999111175537, -3.4656999111175537, -3.4656999111175537, -3.4656999111175537, -3.4656999111175537, -3.4656999111175537, -3.4656999111175537, -3.4656999111175537, -3.4656999111175537, -3.4656999111175537, -3.4656999111175537, -3.4656999111175537, -3.4656999111175537, -3.4656999111175537, -3.4656999111175537, -3.4656999111175537, -3.4656999111175537, -3.4656999111175537, -3.4656999111175537, -3.4656999111175537, -3.4656999111175537, -3.4656999111175537, -3.4656999111175537, -3.4656999111175537, -3.4656999111175537, -3.4656999111175537, -3.4656999111175537, -3.4656999111175537, -3.4656999111175537, -3.4656999111175537, -3.4656999111175537, -3.4656999111175537, -3.4656999111175537, -3.4656999111175537, -3.4656999111175537, -3.4656999111175537, -3.4656999111175537, -3.4656999111175537, -3.4656999111175537, -3.4656999111175537, -3.4656999111175537, -3.4656999111175537, -3.4656999111175537, -3.4656999111175537, -3.4656999111175537, -3.4656999111175537, -3.4656999111175537, -3.4656999111175537, -3.4656999111175537, -3.4656999111175537, -3.4656999111175537, -3.4656999111175537, -3.4656999111175537, -3.4656999111175537, -3.4656999111175537, -3.4656999111175537, -3.4656999111175537, -3.4656999111175537, -3.4656999111175537, -3.4656999111175537, -3.4656999111175537, -3.4656999111175537, -3.4656999111175537, -3.4656999111175537, -3.4656999111175537, -3.4656999111175537, -3.4656999111175537, -3.4656999111175537, -3.4656999111175537, -3.4656999111175537, -3.4656999111175537, -3.4656999111175537, -3.4656999111175537, -3.4656999111175537, -3.4656999111175537, -3.4656999111175537, -3.4656999111175537, -3.4656999111175537, -3.4656999111175537, -3.4656999111175537, -3.4656999111175537, -3.4656999111175537, -3.4656999111175537, -3.4656999111175537, -3.4656999111175537, -3.4656999111175537, -3.4656999111175537, -3.4656999111175537, -3.4656999111175537, -3.4656999111175537, -3.4656999111175537, -3.4656999111175537, -3.4656999111175537, -3.4656999111175537, -3.4656999111175537, -3.4656999111175537, -3.4656999111175537, -3.4656999111175537, -3.4656999111175537, -3.4656999111175537, -3.4656999111175537, -3.4656999111175537, -3.4656999111175537, -3.4656999111175537, -3.4656999111175537, -3.4656999111175537, -3.4656999111175537, -3.4656999111175537, -3.4656999111175537, -3.4656999111175537, -3.4656999111175537, -3.4656999111175537, -3.4656999111175537, -3.4656999111175537, -3.4656999111175537, -3.4656999111175537, -3.4656999111175537, -3.4656999111175537, -3.4656999111175537, -3.4656999111175537, -3.4656999111175537, -3.4656999111175537, -3.4656999111175537, -3.4656999111175537, -3.4656999111175537, -3.4656999111175537, -3.4656999111175537, -3.4656999111175537, -3.4656999111175537, -3.4656999111175537, -3.4656999111175537, -3.4656999111175537, -3.4656999111175537, -3.4656999111175537, -3.4656999111175537, -3.4656999111175537, -3.4656999111175537, -3.4656999111175537, -3.4656999111175537, -3.4656999111175537, -3.4656999111175537, -3.4656999111175537, -3.4656999111175537, -3.4656999111175537, -3.4656999111175537, -3.4656999111175537, -3.4656999111175537, -3.4656999111175537, -3.4656999111175537, -3.4656999111175537, -3.4656999111175537, -3.4656999111175537, -3.4656999111175537, -3.4656999111175537, -3.4656999111175537, -3.4656999111175537, -3.4656999111175537, -3.4656999111175537, -3.4656999111175537, -3.4656999111175537, -3.4656999111175537, -3.4656999111175537, -3.4656999111175537, -3.4656999111175537, -3.4656999111175537, -3.4656999111175537, -3.4656999111175537, -3.4656999111175537, -3.4656999111175537, -3.4656999111175537, -3.4656999111175537, -3.4656999111175537, -3.4656999111175537, -3.4656999111175537, -3.4656999111175537, -3.4656999111175537, -3.4656999111175537, -3.4656999111175537, -3.4656999111175537, -3.4656999111175537, -3.4656999111175537, -3.4656999111175537, -3.4656999111175537, -3.4656999111175537, -3.4656999111175537, -3.4656999111175537, -3.4656999111175537, -3.4656999111175537, -3.4656999111175537, -3.4656999111175537, -3.4656999111175537, -3.4656999111175537, -3.4656999111175537, -3.4656999111175537, -3.4656999111175537, -3.4656999111175537, -3.4656999111175537, -3.4656999111175537, -3.4656999111175537, -3.4656999111175537, -3.4656999111175537, -3.4656999111175537, -3.4656999111175537, -3.4656999111175537, -3.4656999111175537, -3.4656999111175537, -3.4656999111175537, -3.4656999111175537, -3.4656999111175537, -3.4656999111175537, -3.4656999111175537, -3.4656999111175537, -3.4656999111175537, -3.4656999111175537, -3.4656999111175537, -3.4656999111175537, -3.4656999111175537, -3.4656999111175537, -3.4656999111175537, -3.4656999111175537, -3.4656999111175537, -3.4656999111175537, -3.4656999111175537, -3.4656999111175537, -3.4656999111175537, -3.4656999111175537, -3.4656999111175537, -3.4656999111175537, -3.4656999111175537, -3.4656999111175537, -3.4656999111175537, -3.4656999111175537, -3.4656999111175537, -3.4656999111175537, -3.4656999111175537, -3.4656999111175537, -3.4656999111175537, -3.4656999111175537, -3.4656999111175537, -3.4656999111175537, -3.4656999111175537, -3.4656999111175537, -3.4656999111175537, -3.4656999111175537, -3.4656999111175537, -3.4656999111175537, -3.4656999111175537, -3.4656999111175537, -3.4656999111175537, -3.4656999111175537, -3.4656999111175537, -3.4656999111175537, -3.4656999111175537, -3.4656999111175537, -3.4656999111175537, -3.4656999111175537, -3.4656999111175537, -3.4656999111175537, -3.4656999111175537, -3.4656999111175537, -3.4656999111175537, -3.4656999111175537, -3.4656999111175537, -3.4656999111175537, -3.4656999111175537, -3.4656999111175537, -3.4656999111175537, -3.4656999111175537, -3.4656999111175537, -3.4656999111175537, -3.4656999111175537, -3.4656999111175537, -3.4656999111175537, -3.4656999111175537, -3.4656999111175537, -3.4656999111175537, -3.4656999111175537, -3.4656999111175537, -3.4656999111175537, -3.4656999111175537, -3.4656999111175537, -3.4656999111175537, -3.4656999111175537, -3.4656999111175537, -3.4656999111175537, -3.4656999111175537, -3.4656999111175537, -3.4656999111175537, -3.4656999111175537, -3.4656999111175537, -3.4656999111175537, -3.4656999111175537, -3.4656999111175537, -3.4656999111175537, -3.4656999111175537, -3.4656999111175537, -3.4656999111175537, -3.4656999111175537, -3.4656999111175537, -3.4656999111175537, -3.4656999111175537, -3.4656999111175537, -3.4656999111175537, -3.4656999111175537, -3.4656999111175537, -3.4656999111175537, -3.4656999111175537, -3.4656999111175537, -3.4656999111175537, -3.4656999111175537, -3.4656999111175537, -3.4656999111175537, -3.4656999111175537, -3.4656999111175537, -3.4656999111175537, -3.4656999111175537, -3.4656999111175537, -3.4656999111175537, -3.4656999111175537, -3.4656999111175537, -3.4656999111175537, -3.4656999111175537, -3.4656999111175537, -3.4656999111175537, -3.4656999111175537, -3.4656999111175537, -3.4656999111175537, -3.4656999111175537, -3.4656999111175537, -3.4656999111175537, -3.4656999111175537, -3.4656999111175537, -3.4656999111175537, -3.4656999111175537, -3.4656999111175537, -3.4656999111175537, -3.4656999111175537, -3.4656999111175537, -3.4656999111175537, -3.4656999111175537, -3.4656999111175537, -3.4656999111175537, -3.4656999111175537, -3.4656999111175537, -3.4656999111175537, -3.4656999111175537, -3.4656999111175537, -3.4656999111175537, -3.4656999111175537, -3.4656999111175537, -3.4656999111175537, -3.4656999111175537, -3.4656999111175537, -3.4656999111175537, -3.4656999111175537, -3.4656999111175537, -3.4656999111175537, -3.4656999111175537, -3.4656999111175537, -3.4656999111175537, -3.4656999111175537, -3.4656999111175537, -3.4656999111175537, -3.4656999111175537, -3.4656999111175537, -3.4656999111175537, -3.4656999111175537, -3.4656999111175537, -3.4656999111175537, -3.4656999111175537, -3.4656999111175537, -3.4656999111175537, -3.4656999111175537, -3.4656999111175537, -3.4656999111175537]}, \"token.table\": {\"Topic\": [1, 1, 2, 2, 1, 1, 1, 1, 1, 1, 1, 1, 1, 1, 1, 1, 2, 1, 1, 1, 2, 1, 1, 1, 2, 1, 2, 1, 1, 1, 2, 1, 2, 1, 2, 1, 2, 1], \"Freq\": [0.9943447113037109, 0.9399110078811646, 1.0478140115737915, 1.0478140115737915, 0.9399880766868591, 0.9399279356002808, 0.9398067593574524, 1.0243090391159058, 0.9398887753486633, 0.9398460388183594, 0.9405704140663147, 0.9399639964103699, 0.9399593472480774, 0.9394142031669617, 0.9394721388816833, 0.9943819642066956, 1.1160118579864502, 0.9397507309913635, 0.940005898475647, 0.5258490443229675, 0.5258490443229675, 0.9395595788955688, 0.9399909377098083, 0.5258228778839111, 0.5258228778839111, 0.5257599949836731, 0.5257599949836731, 0.9945464134216309, 0.9396787285804749, 0.525758683681488, 0.525758683681488, 0.939883291721344, 1.0478140115737915, 0.5257539749145508, 0.5257539749145508, 0.790047287940979, 0.26334911584854126, 0.9942715167999268], \"Term\": [\"always\", \"ball\", \"bieber\", \"consummate\", \"creativity\", \"designer\", \"detail\", \"donna\", \"experience\", \"expert\", \"extremely\", \"eye\", \"field\", \"find\", \"hardworking\", \"highly\", \"justin\", \"knowledgeable\", \"meticulous\", \"name\", \"name\", \"number\", \"organise\", \"pleasure\", \"pleasure\", \"professional\", \"professional\", \"real\", \"recommend\", \"recommendation\", \"recommendation\", \"summer\", \"time\", \"update\", \"update\", \"work\", \"work\", \"year\"]}, \"R\": 30, \"lambda.step\": 0.01, \"plot.opts\": {\"xlab\": \"PC1\", \"ylab\": \"PC2\"}, \"topic.order\": [20, 11, 2, 9, 3, 4, 5, 6, 7, 8, 10, 19, 12, 13, 14, 15, 16, 17, 18, 1]};\n",
       "\n",
       "function LDAvis_load_lib(url, callback){\n",
       "  var s = document.createElement('script');\n",
       "  s.src = url;\n",
       "  s.async = true;\n",
       "  s.onreadystatechange = s.onload = callback;\n",
       "  s.onerror = function(){console.warn(\"failed to load library \" + url);};\n",
       "  document.getElementsByTagName(\"head\")[0].appendChild(s);\n",
       "}\n",
       "\n",
       "if(typeof(LDAvis) !== \"undefined\"){\n",
       "   // already loaded: just create the visualization\n",
       "   !function(LDAvis){\n",
       "       new LDAvis(\"#\" + \"ldavis_el9195247571091603400544829\", ldavis_el9195247571091603400544829_data);\n",
       "   }(LDAvis);\n",
       "}else if(typeof define === \"function\" && define.amd){\n",
       "   // require.js is available: use it to load d3/LDAvis\n",
       "   require.config({paths: {d3: \"https://cdnjs.cloudflare.com/ajax/libs/d3/3.5.5/d3.min\"}});\n",
       "   require([\"d3\"], function(d3){\n",
       "      window.d3 = d3;\n",
       "      LDAvis_load_lib(\"https://cdn.rawgit.com/bmabey/pyLDAvis/files/ldavis.v1.0.0.js\", function(){\n",
       "        new LDAvis(\"#\" + \"ldavis_el9195247571091603400544829\", ldavis_el9195247571091603400544829_data);\n",
       "      });\n",
       "    });\n",
       "}else{\n",
       "    // require.js not available: dynamically load d3 & LDAvis\n",
       "    LDAvis_load_lib(\"https://cdnjs.cloudflare.com/ajax/libs/d3/3.5.5/d3.min.js\", function(){\n",
       "         LDAvis_load_lib(\"https://cdn.rawgit.com/bmabey/pyLDAvis/files/ldavis.v1.0.0.js\", function(){\n",
       "                 new LDAvis(\"#\" + \"ldavis_el9195247571091603400544829\", ldavis_el9195247571091603400544829_data);\n",
       "            })\n",
       "         });\n",
       "}\n",
       "</script>"
      ],
      "text/plain": [
       "PreparedData(topic_coordinates=            Freq  cluster  topics         x         y\n",
       "topic                                                \n",
       "19     76.184341        1       1 -0.036630  0.057112\n",
       "10     21.990208        1       2  0.091607 -0.185972\n",
       "1       0.131120        1       3 -0.003275  0.007557\n",
       "8       0.099666        1       4 -0.003043  0.007135\n",
       "2       0.099666        1       5 -0.003042  0.007135\n",
       "3       0.099666        1       6 -0.003041  0.007136\n",
       "4       0.099666        1       7 -0.003040  0.007136\n",
       "5       0.099666        1       8 -0.003043  0.007135\n",
       "6       0.099666        1       9 -0.003041  0.007136\n",
       "7       0.099666        1      10 -0.003042  0.007135\n",
       "9       0.099666        1      11 -0.003043  0.007135\n",
       "18      0.099666        1      12 -0.003041  0.007136\n",
       "11      0.099666        1      13 -0.003043  0.007135\n",
       "12      0.099666        1      14 -0.003040  0.007136\n",
       "13      0.099666        1      15 -0.003040  0.007136\n",
       "14      0.099666        1      16 -0.003039  0.007137\n",
       "15      0.099666        1      17 -0.003039  0.007137\n",
       "16      0.099666        1      18 -0.003040  0.007136\n",
       "17      0.099666        1      19 -0.003043  0.007135\n",
       "0       0.099666        1      20 -0.003043  0.007135, topic_info=     Category      Freq            Term     Total  loglift  logprob\n",
       "term                                                               \n",
       "5     Default  3.000000           donna  3.000000  30.0000  30.0000\n",
       "26    Default  3.000000            work  3.000000  29.0000  29.0000\n",
       "27    Default  2.000000            year  2.000000  28.0000  28.0000\n",
       "0     Default  2.000000          always  2.000000  27.0000  27.0000\n",
       "13    Default  2.000000          highly  2.000000  26.0000  26.0000\n",
       "21    Default  2.000000            real  2.000000  25.0000  25.0000\n",
       "25    Default  1.000000          update  1.000000  24.0000  24.0000\n",
       "23    Default  1.000000  recommendation  1.000000  23.0000  23.0000\n",
       "20    Default  1.000000    professional  1.000000  22.0000  22.0000\n",
       "19    Default  1.000000        pleasure  1.000000  21.0000  21.0000\n",
       "16    Default  1.000000            name  1.000000  20.0000  20.0000\n",
       "30    Default  1.000000          justin  1.000000  19.0000  19.0000\n",
       "11    Default  1.000000            find  1.000000  18.0000  18.0000\n",
       "12    Default  1.000000     hardworking  1.000000  17.0000  17.0000\n",
       "17    Default  1.000000          number  1.000000  16.0000  16.0000\n",
       "22    Default  1.000000       recommend  1.000000  15.0000  15.0000\n",
       "14    Default  1.000000   knowledgeable  1.000000  14.0000  14.0000\n",
       "4     Default  1.000000          detail  1.000000  13.0000  13.0000\n",
       "7     Default  1.000000          expert  1.000000  12.0000  12.0000\n",
       "24    Default  1.000000          summer  1.000000  11.0000  11.0000\n",
       "6     Default  1.000000      experience  1.000000  10.0000  10.0000\n",
       "1     Default  1.000000            ball  1.000000   9.0000   9.0000\n",
       "3     Default  1.000000        designer  1.000000   8.0000   8.0000\n",
       "10    Default  1.000000           field  1.000000   7.0000   7.0000\n",
       "9     Default  1.000000             eye  1.000000   6.0000   6.0000\n",
       "2     Default  1.000000      creativity  1.000000   5.0000   5.0000\n",
       "18    Default  1.000000        organise  1.000000   4.0000   4.0000\n",
       "15    Default  1.000000      meticulous  1.000000   3.0000   3.0000\n",
       "8     Default  1.000000       extremely  1.000000   2.0000   2.0000\n",
       "28    Default  0.000000          bieber  0.000000   1.0000   1.0000\n",
       "...       ...       ...             ...       ...      ...      ...\n",
       "28    Topic20  0.001495          bieber  0.954368   0.4522  -3.4657\n",
       "8     Topic20  0.001495       extremely  1.063185   0.3442  -3.4657\n",
       "15    Topic20  0.001495      meticulous  1.063823   0.3436  -3.4657\n",
       "18    Topic20  0.001495        organise  1.063840   0.3436  -3.4657\n",
       "2     Topic20  0.001495      creativity  1.063843   0.3436  -3.4657\n",
       "9     Topic20  0.001495             eye  1.063871   0.3436  -3.4657\n",
       "10    Topic20  0.001495           field  1.063876   0.3435  -3.4657\n",
       "3     Topic20  0.001495        designer  1.063911   0.3435  -3.4657\n",
       "1     Topic20  0.001495            ball  1.063931   0.3435  -3.4657\n",
       "6     Topic20  0.001495      experience  1.063956   0.3435  -3.4657\n",
       "24    Topic20  0.001495          summer  1.063962   0.3435  -3.4657\n",
       "7     Topic20  0.001495          expert  1.064004   0.3434  -3.4657\n",
       "4     Topic20  0.001495          detail  1.064049   0.3434  -3.4657\n",
       "14    Topic20  0.001495   knowledgeable  1.064112   0.3433  -3.4657\n",
       "22    Topic20  0.001495       recommend  1.064193   0.3432  -3.4657\n",
       "17    Topic20  0.001495          number  1.064328   0.3431  -3.4657\n",
       "12    Topic20  0.001495     hardworking  1.064427   0.3430  -3.4657\n",
       "11    Topic20  0.001495            find  1.064493   0.3430  -3.4657\n",
       "30    Topic20  0.001495          justin  1.792096  -0.1779  -3.4657\n",
       "16    Topic20  0.001495            name  1.901686  -0.2373  -3.4657\n",
       "19    Topic20  0.001495        pleasure  1.901781  -0.2373  -3.4657\n",
       "20    Topic20  0.001495    professional  1.902009  -0.2374  -3.4657\n",
       "23    Topic20  0.001495  recommendation  1.902013  -0.2374  -3.4657\n",
       "25    Topic20  0.001495          update  1.902030  -0.2375  -3.4657\n",
       "21    Topic20  0.001495            real  2.010967  -0.2932  -3.4657\n",
       "13    Topic20  0.001495          highly  2.011300  -0.2933  -3.4657\n",
       "0     Topic20  0.001495          always  2.011375  -0.2934  -3.4657\n",
       "27    Topic20  0.001495            year  2.011523  -0.2934  -3.4657\n",
       "5     Topic20  0.001495           donna  3.905071  -0.9568  -3.4657\n",
       "26    Topic20  0.001495            work  3.797241  -0.9288  -3.4657\n",
       "\n",
       "[668 rows x 6 columns], token_table=      Topic      Freq            Term\n",
       "term                                 \n",
       "0         1  0.994345          always\n",
       "1         1  0.939911            ball\n",
       "28        2  1.047814          bieber\n",
       "29        2  1.047814      consummate\n",
       "2         1  0.939988      creativity\n",
       "3         1  0.939928        designer\n",
       "4         1  0.939807          detail\n",
       "5         1  1.024309           donna\n",
       "6         1  0.939889      experience\n",
       "7         1  0.939846          expert\n",
       "8         1  0.940570       extremely\n",
       "9         1  0.939964             eye\n",
       "10        1  0.939959           field\n",
       "11        1  0.939414            find\n",
       "12        1  0.939472     hardworking\n",
       "13        1  0.994382          highly\n",
       "30        2  1.116012          justin\n",
       "14        1  0.939751   knowledgeable\n",
       "15        1  0.940006      meticulous\n",
       "16        1  0.525849            name\n",
       "16        2  0.525849            name\n",
       "17        1  0.939560          number\n",
       "18        1  0.939991        organise\n",
       "19        1  0.525823        pleasure\n",
       "19        2  0.525823        pleasure\n",
       "20        1  0.525760    professional\n",
       "20        2  0.525760    professional\n",
       "21        1  0.994546            real\n",
       "22        1  0.939679       recommend\n",
       "23        1  0.525759  recommendation\n",
       "23        2  0.525759  recommendation\n",
       "24        1  0.939883          summer\n",
       "31        2  1.047814            time\n",
       "25        1  0.525754          update\n",
       "25        2  0.525754          update\n",
       "26        1  0.790047            work\n",
       "26        2  0.263349            work\n",
       "27        1  0.994272            year, R=30, lambda_step=0.01, plot_opts={'xlab': 'PC1', 'ylab': 'PC2'}, topic_order=[20, 11, 2, 9, 3, 4, 5, 6, 7, 8, 10, 19, 12, 13, 14, 15, 16, 17, 18, 1])"
      ]
     },
     "execution_count": 20,
     "metadata": {},
     "output_type": "execute_result"
    }
   ],
   "source": [
    "# Visualize the topics\n",
    "pyLDAvis.enable_notebook()\n",
    "vis = pyLDAvis.gensim.prepare(lda_model, corpus, id2word, mds='mmds')\n",
    "vis"
   ]
  },
  {
   "cell_type": "code",
   "execution_count": 21,
   "metadata": {},
   "outputs": [],
   "source": [
    "mallet_path = 'mallet-2.0.8/bin/mallet'\n",
    "ldamallet = gensim.models.wrappers.LdaMallet(mallet_path, corpus=corpus, num_topics=20, id2word=id2word)"
   ]
  },
  {
   "cell_type": "code",
   "execution_count": 22,
   "metadata": {},
   "outputs": [
    {
     "name": "stdout",
     "output_type": "stream",
     "text": [
      "[(0,\n",
      "  [('highly', 1.0),\n",
      "   ('recommendation', 0.0),\n",
      "   ('update', 0.0),\n",
      "   ('pleasure', 0.0),\n",
      "   ('professional', 0.0),\n",
      "   ('real', 0.0),\n",
      "   ('recommend', 0.0),\n",
      "   ('number', 0.0),\n",
      "   ('summer', 0.0),\n",
      "   ('bieber', 0.0)]),\n",
      " (9,\n",
      "  [('organise', 1.0),\n",
      "   ('summer', 0.0),\n",
      "   ('pleasure', 0.0),\n",
      "   ('professional', 0.0),\n",
      "   ('real', 0.0),\n",
      "   ('recommend', 0.0),\n",
      "   ('recommendation', 0.0),\n",
      "   ('number', 0.0),\n",
      "   ('bieber', 0.0),\n",
      "   ('consummate', 0.0)]),\n",
      " (4,\n",
      "  [('creativity', 0.5),\n",
      "   ('professional', 0.5),\n",
      "   ('summer', 0.0),\n",
      "   ('work', 0.0),\n",
      "   ('pleasure', 0.0),\n",
      "   ('real', 0.0),\n",
      "   ('recommend', 0.0),\n",
      "   ('recommendation', 0.0),\n",
      "   ('number', 0.0),\n",
      "   ('bieber', 0.0)]),\n",
      " (10,\n",
      "  [('update', 0.5),\n",
      "   ('year', 0.5),\n",
      "   ('recommendation', 0.0),\n",
      "   ('pleasure', 0.0),\n",
      "   ('professional', 0.0),\n",
      "   ('real', 0.0),\n",
      "   ('recommend', 0.0),\n",
      "   ('number', 0.0),\n",
      "   ('summer', 0.0),\n",
      "   ('justin', 0.0)]),\n",
      " (2,\n",
      "  [('professional', 1.0),\n",
      "   ('summer', 0.0),\n",
      "   ('update', 0.0),\n",
      "   ('pleasure', 0.0),\n",
      "   ('real', 0.0),\n",
      "   ('recommend', 0.0),\n",
      "   ('recommendation', 0.0),\n",
      "   ('number', 0.0),\n",
      "   ('bieber', 0.0),\n",
      "   ('consummate', 0.0)]),\n",
      " (15,\n",
      "  [('time', 1.0),\n",
      "   ('update', 0.0),\n",
      "   ('pleasure', 0.0),\n",
      "   ('professional', 0.0),\n",
      "   ('real', 0.0),\n",
      "   ('recommend', 0.0),\n",
      "   ('recommendation', 0.0),\n",
      "   ('number', 0.0),\n",
      "   ('summer', 0.0),\n",
      "   ('justin', 0.0)]),\n",
      " (11,\n",
      "  [('find', 0.5),\n",
      "   ('recommend', 0.5),\n",
      "   ('recommendation', 0.0),\n",
      "   ('update', 0.0),\n",
      "   ('pleasure', 0.0),\n",
      "   ('professional', 0.0),\n",
      "   ('real', 0.0),\n",
      "   ('number', 0.0),\n",
      "   ('summer', 0.0),\n",
      "   ('bieber', 0.0)]),\n",
      " (1,\n",
      "  [('donna', 1.0),\n",
      "   ('summer', 0.0),\n",
      "   ('work', 0.0),\n",
      "   ('pleasure', 0.0),\n",
      "   ('professional', 0.0),\n",
      "   ('real', 0.0),\n",
      "   ('recommend', 0.0),\n",
      "   ('recommendation', 0.0),\n",
      "   ('number', 0.0),\n",
      "   ('bieber', 0.0)]),\n",
      " (8,\n",
      "  [('justin', 0.5),\n",
      "   ('expert', 0.25),\n",
      "   ('knowledgeable', 0.25),\n",
      "   ('summer', 0.0),\n",
      "   ('professional', 0.0),\n",
      "   ('real', 0.0),\n",
      "   ('recommend', 0.0),\n",
      "   ('recommendation', 0.0),\n",
      "   ('organise', 0.0),\n",
      "   ('year', 0.0)]),\n",
      " (12,\n",
      "  [('pleasure', 0.5),\n",
      "   ('summer', 0.25),\n",
      "   ('hardworking', 0.25),\n",
      "   ('update', 0.0),\n",
      "   ('professional', 0.0),\n",
      "   ('real', 0.0),\n",
      "   ('recommend', 0.0),\n",
      "   ('recommendation', 0.0),\n",
      "   ('number', 0.0),\n",
      "   ('bieber', 0.0)])]\n"
     ]
    },
    {
     "name": "stderr",
     "output_type": "stream",
     "text": [
      "/Users/oliversteadman/anaconda3/lib/python3.6/site-packages/gensim/models/wrappers/ldamallet.py:373: RuntimeWarning: invalid value encountered in true_divide\n",
      "  return topics / topics.sum(axis=1)[:, None]\n"
     ]
    },
    {
     "name": "stdout",
     "output_type": "stream",
     "text": [
      "\n",
      "Coherence Score:  0.49645179927605704\n"
     ]
    }
   ],
   "source": [
    "# Show Topics\n",
    "pprint(ldamallet.show_topics(formatted=False))\n",
    "\n",
    "# Compute Coherence Score\n",
    "coherence_model_ldamallet = CoherenceModel(model=ldamallet, texts=data_lemmatized, dictionary=id2word, coherence='c_v')\n",
    "coherence_ldamallet = coherence_model_ldamallet.get_coherence()\n",
    "print('\\nCoherence Score: ', coherence_ldamallet)"
   ]
  },
  {
   "cell_type": "code",
   "execution_count": 23,
   "metadata": {},
   "outputs": [
    {
     "name": "stderr",
     "output_type": "stream",
     "text": [
      "/Users/oliversteadman/anaconda3/lib/python3.6/site-packages/gensim/models/wrappers/ldamallet.py:373: RuntimeWarning: invalid value encountered in true_divide\n",
      "  return topics / topics.sum(axis=1)[:, None]\n"
     ]
    },
    {
     "data": {
      "image/png": "[encoded data removed]",
      "text/plain": [
       "<Figure size 432x288 with 1 Axes>"
      ]
     },
     "metadata": {
      "image/png": {
       "height": 260,
       "width": 432
      }
     },
     "output_type": "display_data"
    }
   ],
   "source": [
    "def compute_coherence_values(dictionary, corpus, texts, limit, start=2, step=3):\n",
    "    \"\"\"\n",
    "    Compute c_v coherence for various number of topics\n",
    "\n",
    "    Parameters:\n",
    "    ----------\n",
    "    dictionary : Gensim dictionary\n",
    "    corpus : Gensim corpus\n",
    "    texts : List of input texts\n",
    "    limit : Max num of topics\n",
    "\n",
    "    Returns:\n",
    "    -------\n",
    "    model_list : List of LDA topic models\n",
    "    coherence_values : Coherence values corresponding to the LDA model with respective number of topics\n",
    "    \"\"\"\n",
    "    coherence_values = []\n",
    "    model_list = []\n",
    "    for num_topics in range(start, limit, step):\n",
    "        model = gensim.models.wrappers.LdaMallet(mallet_path, corpus=corpus, num_topics=num_topics, id2word=id2word)\n",
    "        model_list.append(model)\n",
    "        coherencemodel = CoherenceModel(model=model, texts=texts, dictionary=dictionary, coherence='c_v')\n",
    "        coherence_values.append(coherencemodel.get_coherence())\n",
    "\n",
    "    return model_list, coherence_values\n",
    "# Can take a long time to run.\n",
    "model_list, coherence_values = compute_coherence_values(dictionary=id2word, corpus=corpus, texts=data_lemmatized, start=2, limit=40, step=6)\n",
    "# Show graph\n",
    "limit=40; start=2; step=6;\n",
    "x = range(start, limit, step)\n",
    "plt.plot(x, coherence_values)\n",
    "plt.xlabel(\"Num Topics\")\n",
    "plt.ylabel(\"Coherence score\")\n",
    "plt.legend((\"coherence_values\"), loc='best');"
   ]
  },
  {
   "cell_type": "code",
   "execution_count": 24,
   "metadata": {},
   "outputs": [
    {
     "name": "stdout",
     "output_type": "stream",
     "text": [
      "Num Topics = 2  has Coherence Value of 0.5457\n",
      "Num Topics = 8  has Coherence Value of 0.4938\n",
      "Num Topics = 14  has Coherence Value of 0.493\n",
      "Num Topics = 20  has Coherence Value of 0.4951\n",
      "Num Topics = 26  has Coherence Value of 0.4948\n",
      "Num Topics = 32  has Coherence Value of 0.4938\n",
      "Num Topics = 38  has Coherence Value of 0.4944\n"
     ]
    }
   ],
   "source": [
    "# Print the coherence scores\n",
    "for m, cv in zip(x, coherence_values):\n",
    "    print(\"Num Topics =\", m, \" has Coherence Value of\", round(cv, 4))"
   ]
  },
  {
   "cell_type": "code",
   "execution_count": 25,
   "metadata": {},
   "outputs": [
    {
     "name": "stdout",
     "output_type": "stream",
     "text": [
      "[(0,\n",
      "  '0.500*\"recommendation\" + 0.500*\"ball\" + 0.000*\"organise\" + 0.000*\"pleasure\" '\n",
      "  '+ 0.000*\"professional\" + 0.000*\"real\" + 0.000*\"recommend\" + 0.000*\"number\" '\n",
      "  '+ 0.000*\"summer\" + 0.000*\"bieber\"'),\n",
      " (1,\n",
      "  '0.800*\"work\" + 0.200*\"bieber\" + 0.000*\"recommendation\" + 0.000*\"update\" + '\n",
      "  '0.000*\"pleasure\" + 0.000*\"professional\" + 0.000*\"real\" + 0.000*\"recommend\" '\n",
      "  '+ 0.000*\"number\" + 0.000*\"justin\"'),\n",
      " (2,\n",
      "  '1.000*\"number\" + 0.000*\"summer\" + 0.000*\"pleasure\" + 0.000*\"professional\" + '\n",
      "  '0.000*\"real\" + 0.000*\"recommend\" + 0.000*\"recommendation\" + 0.000*\"update\" '\n",
      "  '+ 0.000*\"bieber\" + 0.000*\"consummate\"'),\n",
      " (3,\n",
      "  '1.000*\"creativity\" + 0.000*\"summer\" + 0.000*\"work\" + 0.000*\"pleasure\" + '\n",
      "  '0.000*\"professional\" + 0.000*\"real\" + 0.000*\"recommend\" + '\n",
      "  '0.000*\"recommendation\" + 0.000*\"number\" + 0.000*\"bieber\"'),\n",
      " (4,\n",
      "  '1.000*\"find\" + 0.000*\"recommendation\" + 0.000*\"update\" + 0.000*\"pleasure\" + '\n",
      "  '0.000*\"professional\" + 0.000*\"real\" + 0.000*\"recommend\" + 0.000*\"number\" + '\n",
      "  '0.000*\"summer\" + 0.000*\"bieber\"'),\n",
      " (5,\n",
      "  '1.000*\"recommendation\" + 0.000*\"summer\" + 0.000*\"update\" + 0.000*\"pleasure\" '\n",
      "  '+ 0.000*\"professional\" + 0.000*\"real\" + 0.000*\"recommend\" + 0.000*\"number\" '\n",
      "  '+ 0.000*\"bieber\" + 0.000*\"consummate\"'),\n",
      " (6,\n",
      "  '0.800*\"donna\" + 0.200*\"expert\" + 0.000*\"update\" + 0.000*\"professional\" + '\n",
      "  '0.000*\"real\" + 0.000*\"recommend\" + 0.000*\"recommendation\" + 0.000*\"summer\" '\n",
      "  '+ 0.000*\"organise\" + 0.000*\"bieber\"'),\n",
      " (7,\n",
      "  '0.667*\"year\" + 0.333*\"time\" + 0.000*\"recommendation\" + 0.000*\"update\" + '\n",
      "  '0.000*\"pleasure\" + 0.000*\"professional\" + 0.000*\"real\" + 0.000*\"recommend\" '\n",
      "  '+ 0.000*\"number\" + 0.000*\"justin\"'),\n",
      " (8,\n",
      "  '1.000*\"professional\" + 0.000*\"summer\" + 0.000*\"update\" + 0.000*\"pleasure\" + '\n",
      "  '0.000*\"real\" + 0.000*\"recommend\" + 0.000*\"recommendation\" + 0.000*\"number\" '\n",
      "  '+ 0.000*\"bieber\" + 0.000*\"consummate\"'),\n",
      " (9,\n",
      "  '0.333*\"justin\" + 0.167*\"organise\" + 0.167*\"knowledgeable\" + 0.167*\"highly\" '\n",
      "  '+ 0.167*\"experience\" + 0.000*\"recommendation\" + 0.000*\"professional\" + '\n",
      "  '0.000*\"real\" + 0.000*\"recommend\" + 0.000*\"update\"'),\n",
      " (10,\n",
      "  '0.500*\"extremely\" + 0.500*\"summer\" + 0.000*\"update\" + 0.000*\"pleasure\" + '\n",
      "  '0.000*\"professional\" + 0.000*\"real\" + 0.000*\"recommend\" + '\n",
      "  '0.000*\"recommendation\" + 0.000*\"number\" + 0.000*\"bieber\"'),\n",
      " (11,\n",
      "  '0.500*\"designer\" + 0.500*\"highly\" + 0.000*\"summer\" + 0.000*\"work\" + '\n",
      "  '0.000*\"professional\" + 0.000*\"real\" + 0.000*\"recommend\" + '\n",
      "  '0.000*\"recommendation\" + 0.000*\"organise\" + 0.000*\"bieber\"'),\n",
      " (12,\n",
      "  '1.000*\"detail\" + 0.000*\"summer\" + 0.000*\"work\" + 0.000*\"pleasure\" + '\n",
      "  '0.000*\"professional\" + 0.000*\"real\" + 0.000*\"recommend\" + '\n",
      "  '0.000*\"recommendation\" + 0.000*\"number\" + 0.000*\"bieber\"'),\n",
      " (13,\n",
      "  '1.000*\"recommend\" + 0.000*\"summer\" + 0.000*\"update\" + 0.000*\"pleasure\" + '\n",
      "  '0.000*\"professional\" + 0.000*\"real\" + 0.000*\"recommendation\" + '\n",
      "  '0.000*\"number\" + 0.000*\"bieber\" + 0.000*\"consummate\"'),\n",
      " (14,\n",
      "  '1.000*\"hardworking\" + 0.000*\"recommendation\" + 0.000*\"update\" + '\n",
      "  '0.000*\"pleasure\" + 0.000*\"professional\" + 0.000*\"real\" + 0.000*\"recommend\" '\n",
      "  '+ 0.000*\"number\" + 0.000*\"summer\" + 0.000*\"bieber\"'),\n",
      " (15,\n",
      "  '0.500*\"eye\" + 0.500*\"consummate\" + 0.000*\"update\" + 0.000*\"pleasure\" + '\n",
      "  '0.000*\"professional\" + 0.000*\"real\" + 0.000*\"recommend\" + '\n",
      "  '0.000*\"recommendation\" + 0.000*\"number\" + 0.000*\"year\"'),\n",
      " (16,\n",
      "  '1.000*\"pleasure\" + 0.000*\"summer\" + 0.000*\"update\" + 0.000*\"professional\" + '\n",
      "  '0.000*\"real\" + 0.000*\"recommend\" + 0.000*\"recommendation\" + 0.000*\"number\" '\n",
      "  '+ 0.000*\"bieber\" + 0.000*\"consummate\"'),\n",
      " (17,\n",
      "  '0.500*\"field\" + 0.500*\"meticulous\" + 0.000*\"recommendation\" + '\n",
      "  '0.000*\"update\" + 0.000*\"pleasure\" + 0.000*\"professional\" + 0.000*\"real\" + '\n",
      "  '0.000*\"recommend\" + 0.000*\"number\" + 0.000*\"bieber\"'),\n",
      " (18,\n",
      "  '1.000*\"real\" + 0.000*\"summer\" + 0.000*\"update\" + 0.000*\"pleasure\" + '\n",
      "  '0.000*\"professional\" + 0.000*\"recommend\" + 0.000*\"recommendation\" + '\n",
      "  '0.000*\"number\" + 0.000*\"bieber\" + 0.000*\"consummate\"'),\n",
      " (19,\n",
      "  '0.667*\"update\" + 0.333*\"real\" + 0.000*\"summer\" + 0.000*\"pleasure\" + '\n",
      "  '0.000*\"professional\" + 0.000*\"recommend\" + 0.000*\"recommendation\" + '\n",
      "  '0.000*\"number\" + 0.000*\"bieber\" + 0.000*\"consummate\"')]\n"
     ]
    }
   ],
   "source": [
    "# Select the model and print the topics\n",
    "optimal_model = model_list[3]\n",
    "model_topics = optimal_model.show_topics(formatted=False)\n",
    "pprint(optimal_model.print_topics(num_words=10))"
   ]
  },
  {
   "cell_type": "code",
   "execution_count": 31,
   "metadata": {},
   "outputs": [
    {
     "data": {
      "text/html": [
       "<div>\n",
       "<style scoped>\n",
       "    .dataframe tbody tr th:only-of-type {\n",
       "        vertical-align: middle;\n",
       "    }\n",
       "\n",
       "    .dataframe tbody tr th {\n",
       "        vertical-align: top;\n",
       "    }\n",
       "\n",
       "    .dataframe thead th {\n",
       "        text-align: right;\n",
       "    }\n",
       "</style>\n",
       "<table border=\"1\" class=\"dataframe\">\n",
       "  <thead>\n",
       "    <tr style=\"text-align: right;\">\n",
       "      <th></th>\n",
       "      <th>Document_No</th>\n",
       "      <th>Dominant_Topic</th>\n",
       "      <th>Topic_Perc_Contrib</th>\n",
       "      <th>Keywords</th>\n",
       "      <th>Text</th>\n",
       "    </tr>\n",
       "  </thead>\n",
       "  <tbody>\n",
       "    <tr>\n",
       "      <th>0</th>\n",
       "      <td>0</td>\n",
       "      <td>6.0</td>\n",
       "      <td>0.0827</td>\n",
       "      <td>donna, expert, update, professional, real, rec...</td>\n",
       "      <td>{'name': 'Donna Summer', 'updated': '2016-02-2...</td>\n",
       "    </tr>\n",
       "    <tr>\n",
       "      <th>1</th>\n",
       "      <td>1</td>\n",
       "      <td>9.0</td>\n",
       "      <td>0.0713</td>\n",
       "      <td>justin, organise, knowledgeable, highly, exper...</td>\n",
       "      <td>{'name': 'Justin Bieber', 'updated': '2016-02-...</td>\n",
       "    </tr>\n",
       "  </tbody>\n",
       "</table>\n",
       "</div>"
      ],
      "text/plain": [
       "   Document_No  Dominant_Topic  Topic_Perc_Contrib  \\\n",
       "0            0             6.0              0.0827   \n",
       "1            1             9.0              0.0713   \n",
       "\n",
       "                                            Keywords  \\\n",
       "0  donna, expert, update, professional, real, rec...   \n",
       "1  justin, organise, knowledgeable, highly, exper...   \n",
       "\n",
       "                                                Text  \n",
       "0  {'name': 'Donna Summer', 'updated': '2016-02-2...  \n",
       "1  {'name': 'Justin Bieber', 'updated': '2016-02-...  "
      ]
     },
     "execution_count": 31,
     "metadata": {},
     "output_type": "execute_result"
    }
   ],
   "source": [
    "def format_topics_sentences(ldamodel=lda_model, corpus=corpus, texts=data):\n",
    "    # Init output\n",
    "    sent_topics_df = pd.DataFrame()\n",
    "\n",
    "    # Get main topic in each document\n",
    "    for i, row in enumerate(ldamodel[corpus]):\n",
    "        row = sorted(row, key=lambda x: (x[1]), reverse=True)\n",
    "        # Get the Dominant topic, Perc Contribution and Keywords for each document\n",
    "        for j, (topic_num, prop_topic) in enumerate(row):\n",
    "            if j == 0:  # => dominant topic\n",
    "                wp = ldamodel.show_topic(topic_num)\n",
    "                topic_keywords = \", \".join([word for word, prop in wp])\n",
    "                sent_topics_df = sent_topics_df.append(pd.Series([int(topic_num), round(prop_topic,4), topic_keywords]), ignore_index=True)\n",
    "            else:\n",
    "                break\n",
    "    sent_topics_df.columns = ['Dominant_Topic', 'Perc_Contribution', 'Topic_Keywords']\n",
    "\n",
    "    # Add original text to the end of the output\n",
    "    contents = pd.Series(texts)\n",
    "    sent_topics_df = pd.concat([sent_topics_df, contents], axis=1)\n",
    "    return(sent_topics_df)\n",
    "\n",
    "\n",
    "df_topic_sents_keywords = format_topics_sentences(ldamodel=optimal_model, corpus=corpus, texts=data)\n",
    "\n",
    "# Format\n",
    "df_dominant_topic = df_topic_sents_keywords.reset_index()\n",
    "df_dominant_topic.columns = ['Document_No', 'Dominant_Topic', 'Topic_Perc_Contrib', 'Keywords', 'Text']\n",
    "\n",
    "# Show\n",
    "df_dominant_topic.head(10)"
   ]
  },
  {
   "cell_type": "code",
   "execution_count": 32,
   "metadata": {},
   "outputs": [
    {
     "data": {
      "text/html": [
       "<div>\n",
       "<style scoped>\n",
       "    .dataframe tbody tr th:only-of-type {\n",
       "        vertical-align: middle;\n",
       "    }\n",
       "\n",
       "    .dataframe tbody tr th {\n",
       "        vertical-align: top;\n",
       "    }\n",
       "\n",
       "    .dataframe thead th {\n",
       "        text-align: right;\n",
       "    }\n",
       "</style>\n",
       "<table border=\"1\" class=\"dataframe\">\n",
       "  <thead>\n",
       "    <tr style=\"text-align: right;\">\n",
       "      <th></th>\n",
       "      <th>Topic_Num</th>\n",
       "      <th>Topic_Perc_Contrib</th>\n",
       "      <th>Keywords</th>\n",
       "      <th>Text</th>\n",
       "    </tr>\n",
       "  </thead>\n",
       "  <tbody>\n",
       "    <tr>\n",
       "      <th>0</th>\n",
       "      <td>6.0</td>\n",
       "      <td>0.0827</td>\n",
       "      <td>donna, expert, update, professional, real, rec...</td>\n",
       "      <td>{'name': 'Donna Summer', 'updated': '2016-02-2...</td>\n",
       "    </tr>\n",
       "    <tr>\n",
       "      <th>1</th>\n",
       "      <td>9.0</td>\n",
       "      <td>0.0713</td>\n",
       "      <td>justin, organise, knowledgeable, highly, exper...</td>\n",
       "      <td>{'name': 'Justin Bieber', 'updated': '2016-02-...</td>\n",
       "    </tr>\n",
       "  </tbody>\n",
       "</table>\n",
       "</div>"
      ],
      "text/plain": [
       "   Topic_Num  Topic_Perc_Contrib  \\\n",
       "0        6.0              0.0827   \n",
       "1        9.0              0.0713   \n",
       "\n",
       "                                            Keywords  \\\n",
       "0  donna, expert, update, professional, real, rec...   \n",
       "1  justin, organise, knowledgeable, highly, exper...   \n",
       "\n",
       "                                                Text  \n",
       "0  {'name': 'Donna Summer', 'updated': '2016-02-2...  \n",
       "1  {'name': 'Justin Bieber', 'updated': '2016-02-...  "
      ]
     },
     "execution_count": 32,
     "metadata": {},
     "output_type": "execute_result"
    }
   ],
   "source": [
    "# Group top 5 sentences under each topic\n",
    "sent_topics_sorteddf_mallet = pd.DataFrame()\n",
    "\n",
    "sent_topics_outdf_grpd = df_topic_sents_keywords.groupby('Dominant_Topic')\n",
    "\n",
    "for i, grp in sent_topics_outdf_grpd:\n",
    "    sent_topics_sorteddf_mallet = pd.concat([sent_topics_sorteddf_mallet, \n",
    "                                             grp.sort_values(['Perc_Contribution'], ascending=[0]).head(1)], \n",
    "                                            axis=0)\n",
    "\n",
    "# Reset Index    \n",
    "sent_topics_sorteddf_mallet.reset_index(drop=True, inplace=True)\n",
    "\n",
    "# Format\n",
    "sent_topics_sorteddf_mallet.columns = ['Topic_Num', \"Topic_Perc_Contrib\", \"Keywords\", \"Text\"]\n",
    "\n",
    "# Show\n",
    "sent_topics_sorteddf_mallet.head()"
   ]
  },
  {
   "cell_type": "markdown",
   "metadata": {},
   "source": [
    "## part C"
   ]
  },
  {
   "cell_type": "code",
   "execution_count": 36,
   "metadata": {},
   "outputs": [
    {
     "data": {
      "text/html": [
       "\n",
       "<link rel=\"stylesheet\" type=\"text/css\" href=\"https://cdn.rawgit.com/bmabey/pyLDAvis/files/ldavis.v1.0.0.css\">\n",
       "\n",
       "\n",
       "<div id=\"ldavis_el8741446839215924742361185\"></div>\n",
       "<script type=\"text/javascript\">\n",
       "\n",
       "var ldavis_el8741446839215924742361185_data = {\"mdsDat\": {\"Freq\": [76.18439483642578, 21.99015235900879, 0.13111969828605652, 0.09966643154621124, 0.09966643154621124, 0.09966643154621124, 0.09966643154621124, 0.09966643154621124, 0.09966643154621124, 0.09966643154621124, 0.09966643154621124, 0.09966643154621124, 0.09966643154621124, 0.09966643154621124, 0.09966643154621124, 0.09966643154621124, 0.09966643154621124, 0.09966643154621124, 0.09966643154621124, 0.09966643154621124], \"cluster\": [1, 1, 1, 1, 1, 1, 1, 1, 1, 1, 1, 1, 1, 1, 1, 1, 1, 1, 1, 1], \"topics\": [1, 2, 3, 4, 5, 6, 7, 8, 9, 10, 11, 12, 13, 14, 15, 16, 17, 18, 19, 20], \"x\": [-0.036630397663444364, 0.0916074096521011, -0.003275067915521402, -0.003042987923808935, -0.0030423546196663488, -0.0030406103582892854, -0.0030395415115545103, -0.003042939534477412, -0.003040640044467733, -0.003041962842885014, -0.003043053062349626, -0.003041168439329416, -0.0030425927234396374, -0.0030395302667038, -0.003039538944140779, -0.0030394244428527274, -0.0030394770147438906, -0.003040291412684697, -0.003042922712086335, -0.003042908219655187], \"y\": [0.05711223755798206, -0.18597238080546982, 0.007556661177228237, 0.007134538557479761, 0.007134894506538339, 0.0071358818069148155, 0.007136492005908091, 0.0071345657086634845, 0.007135864916400002, 0.007135115366424121, 0.007134502020286735, 0.007135564787933594, 0.007134760526323, 0.007136498446936739, 0.00713649347648454, 0.007136559084508255, 0.007136528955709114, 0.007136063470919072, 0.007134575149443658, 0.007134583283386212]}, \"tinfo\": {\"Category\": [\"Default\", \"Default\", \"Default\", \"Default\", \"Default\", \"Default\", \"Default\", \"Default\", \"Default\", \"Default\", \"Default\", \"Default\", \"Default\", \"Default\", \"Default\", \"Default\", \"Default\", \"Default\", \"Default\", \"Default\", \"Default\", \"Default\", \"Default\", \"Default\", \"Default\", \"Default\", \"Default\", \"Default\", \"Default\", \"Default\", \"Topic1\", \"Topic1\", \"Topic1\", \"Topic1\", \"Topic1\", \"Topic1\", \"Topic1\", \"Topic1\", \"Topic1\", \"Topic1\", \"Topic1\", \"Topic1\", \"Topic1\", \"Topic1\", \"Topic1\", \"Topic1\", \"Topic1\", \"Topic1\", \"Topic1\", \"Topic1\", \"Topic1\", \"Topic1\", \"Topic1\", \"Topic1\", \"Topic1\", \"Topic1\", \"Topic1\", \"Topic1\", \"Topic1\", \"Topic1\", \"Topic1\", \"Topic2\", \"Topic2\", \"Topic2\", \"Topic2\", \"Topic2\", \"Topic2\", \"Topic2\", \"Topic2\", \"Topic2\", \"Topic2\", \"Topic2\", \"Topic2\", \"Topic2\", \"Topic2\", \"Topic2\", \"Topic2\", \"Topic2\", \"Topic2\", \"Topic2\", \"Topic2\", \"Topic2\", \"Topic2\", \"Topic2\", \"Topic2\", \"Topic2\", \"Topic2\", \"Topic2\", \"Topic2\", \"Topic2\", \"Topic2\", \"Topic2\", \"Topic3\", \"Topic3\", \"Topic3\", \"Topic3\", \"Topic3\", \"Topic3\", \"Topic3\", \"Topic3\", \"Topic3\", \"Topic3\", \"Topic3\", \"Topic3\", \"Topic3\", \"Topic3\", \"Topic3\", \"Topic3\", \"Topic3\", \"Topic3\", \"Topic3\", \"Topic3\", \"Topic3\", \"Topic3\", \"Topic3\", \"Topic3\", \"Topic3\", \"Topic3\", \"Topic3\", \"Topic3\", \"Topic3\", \"Topic3\", \"Topic3\", \"Topic3\", \"Topic4\", \"Topic4\", \"Topic4\", \"Topic4\", \"Topic4\", \"Topic4\", \"Topic4\", \"Topic4\", \"Topic4\", \"Topic4\", \"Topic4\", \"Topic4\", \"Topic4\", \"Topic4\", \"Topic4\", \"Topic4\", \"Topic4\", \"Topic4\", \"Topic4\", \"Topic4\", \"Topic4\", \"Topic4\", \"Topic4\", \"Topic4\", \"Topic4\", \"Topic4\", \"Topic4\", \"Topic4\", \"Topic4\", \"Topic4\", \"Topic4\", \"Topic4\", \"Topic5\", \"Topic5\", \"Topic5\", \"Topic5\", \"Topic5\", \"Topic5\", \"Topic5\", \"Topic5\", \"Topic5\", \"Topic5\", \"Topic5\", \"Topic5\", \"Topic5\", \"Topic5\", \"Topic5\", \"Topic5\", \"Topic5\", \"Topic5\", \"Topic5\", \"Topic5\", \"Topic5\", \"Topic5\", \"Topic5\", \"Topic5\", \"Topic5\", \"Topic5\", \"Topic5\", \"Topic5\", \"Topic5\", \"Topic5\", \"Topic5\", \"Topic5\", \"Topic6\", \"Topic6\", \"Topic6\", \"Topic6\", \"Topic6\", \"Topic6\", \"Topic6\", \"Topic6\", \"Topic6\", \"Topic6\", \"Topic6\", \"Topic6\", \"Topic6\", \"Topic6\", \"Topic6\", \"Topic6\", \"Topic6\", \"Topic6\", \"Topic6\", \"Topic6\", \"Topic6\", \"Topic6\", \"Topic6\", \"Topic6\", \"Topic6\", \"Topic6\", \"Topic6\", \"Topic6\", \"Topic6\", \"Topic6\", \"Topic6\", \"Topic6\", \"Topic7\", \"Topic7\", \"Topic7\", \"Topic7\", \"Topic7\", \"Topic7\", \"Topic7\", \"Topic7\", \"Topic7\", \"Topic7\", \"Topic7\", \"Topic7\", \"Topic7\", \"Topic7\", \"Topic7\", \"Topic7\", \"Topic7\", \"Topic7\", \"Topic7\", \"Topic7\", \"Topic7\", \"Topic7\", \"Topic7\", \"Topic7\", \"Topic7\", \"Topic7\", \"Topic7\", \"Topic7\", \"Topic7\", \"Topic7\", \"Topic7\", \"Topic7\", \"Topic8\", \"Topic8\", \"Topic8\", \"Topic8\", \"Topic8\", \"Topic8\", \"Topic8\", \"Topic8\", \"Topic8\", \"Topic8\", \"Topic8\", \"Topic8\", \"Topic8\", \"Topic8\", \"Topic8\", \"Topic8\", \"Topic8\", \"Topic8\", \"Topic8\", \"Topic8\", \"Topic8\", \"Topic8\", \"Topic8\", \"Topic8\", \"Topic8\", \"Topic8\", \"Topic8\", \"Topic8\", \"Topic8\", \"Topic8\", \"Topic8\", \"Topic8\", \"Topic9\", \"Topic9\", \"Topic9\", \"Topic9\", \"Topic9\", \"Topic9\", \"Topic9\", \"Topic9\", \"Topic9\", \"Topic9\", \"Topic9\", \"Topic9\", \"Topic9\", \"Topic9\", \"Topic9\", \"Topic9\", \"Topic9\", \"Topic9\", \"Topic9\", \"Topic9\", \"Topic9\", \"Topic9\", \"Topic9\", \"Topic9\", \"Topic9\", \"Topic9\", \"Topic9\", \"Topic9\", \"Topic9\", \"Topic9\", \"Topic9\", \"Topic9\", \"Topic10\", \"Topic10\", \"Topic10\", \"Topic10\", \"Topic10\", \"Topic10\", \"Topic10\", \"Topic10\", \"Topic10\", \"Topic10\", \"Topic10\", \"Topic10\", \"Topic10\", \"Topic10\", \"Topic10\", \"Topic10\", \"Topic10\", \"Topic10\", \"Topic10\", \"Topic10\", \"Topic10\", \"Topic10\", \"Topic10\", \"Topic10\", \"Topic10\", \"Topic10\", \"Topic10\", \"Topic10\", \"Topic10\", \"Topic10\", \"Topic10\", \"Topic10\", \"Topic11\", \"Topic11\", \"Topic11\", \"Topic11\", \"Topic11\", \"Topic11\", \"Topic11\", \"Topic11\", \"Topic11\", \"Topic11\", \"Topic11\", \"Topic11\", \"Topic11\", \"Topic11\", \"Topic11\", \"Topic11\", \"Topic11\", \"Topic11\", \"Topic11\", \"Topic11\", \"Topic11\", \"Topic11\", \"Topic11\", \"Topic11\", \"Topic11\", \"Topic11\", \"Topic11\", \"Topic11\", \"Topic11\", \"Topic11\", \"Topic11\", \"Topic11\", \"Topic12\", \"Topic12\", \"Topic12\", \"Topic12\", \"Topic12\", \"Topic12\", \"Topic12\", \"Topic12\", \"Topic12\", \"Topic12\", \"Topic12\", \"Topic12\", \"Topic12\", \"Topic12\", \"Topic12\", \"Topic12\", \"Topic12\", \"Topic12\", \"Topic12\", \"Topic12\", \"Topic12\", \"Topic12\", \"Topic12\", \"Topic12\", \"Topic12\", \"Topic12\", \"Topic12\", \"Topic12\", \"Topic12\", \"Topic12\", \"Topic12\", \"Topic12\", \"Topic13\", \"Topic13\", \"Topic13\", \"Topic13\", \"Topic13\", \"Topic13\", \"Topic13\", \"Topic13\", \"Topic13\", \"Topic13\", \"Topic13\", \"Topic13\", \"Topic13\", \"Topic13\", \"Topic13\", \"Topic13\", \"Topic13\", \"Topic13\", \"Topic13\", \"Topic13\", \"Topic13\", \"Topic13\", \"Topic13\", \"Topic13\", \"Topic13\", \"Topic13\", \"Topic13\", \"Topic13\", \"Topic13\", \"Topic13\", \"Topic13\", \"Topic13\", \"Topic14\", \"Topic14\", \"Topic14\", \"Topic14\", \"Topic14\", \"Topic14\", \"Topic14\", \"Topic14\", \"Topic14\", \"Topic14\", \"Topic14\", \"Topic14\", \"Topic14\", \"Topic14\", \"Topic14\", \"Topic14\", \"Topic14\", \"Topic14\", \"Topic14\", \"Topic14\", \"Topic14\", \"Topic14\", \"Topic14\", \"Topic14\", \"Topic14\", \"Topic14\", \"Topic14\", \"Topic14\", \"Topic14\", \"Topic14\", \"Topic14\", \"Topic14\", \"Topic15\", \"Topic15\", \"Topic15\", \"Topic15\", \"Topic15\", \"Topic15\", \"Topic15\", \"Topic15\", \"Topic15\", \"Topic15\", \"Topic15\", \"Topic15\", \"Topic15\", \"Topic15\", \"Topic15\", \"Topic15\", \"Topic15\", \"Topic15\", \"Topic15\", \"Topic15\", \"Topic15\", \"Topic15\", \"Topic15\", \"Topic15\", \"Topic15\", \"Topic15\", \"Topic15\", \"Topic15\", \"Topic15\", \"Topic15\", \"Topic15\", \"Topic15\", \"Topic16\", \"Topic16\", \"Topic16\", \"Topic16\", \"Topic16\", \"Topic16\", \"Topic16\", \"Topic16\", \"Topic16\", \"Topic16\", \"Topic16\", \"Topic16\", \"Topic16\", \"Topic16\", \"Topic16\", \"Topic16\", \"Topic16\", \"Topic16\", \"Topic16\", \"Topic16\", \"Topic16\", \"Topic16\", \"Topic16\", \"Topic16\", \"Topic16\", \"Topic16\", \"Topic16\", \"Topic16\", \"Topic16\", \"Topic16\", \"Topic16\", \"Topic16\", \"Topic17\", \"Topic17\", \"Topic17\", \"Topic17\", \"Topic17\", \"Topic17\", \"Topic17\", \"Topic17\", \"Topic17\", \"Topic17\", \"Topic17\", \"Topic17\", \"Topic17\", \"Topic17\", \"Topic17\", \"Topic17\", \"Topic17\", \"Topic17\", \"Topic17\", \"Topic17\", \"Topic17\", \"Topic17\", \"Topic17\", \"Topic17\", \"Topic17\", \"Topic17\", \"Topic17\", \"Topic17\", \"Topic17\", \"Topic17\", \"Topic17\", \"Topic17\", \"Topic18\", \"Topic18\", \"Topic18\", \"Topic18\", \"Topic18\", \"Topic18\", \"Topic18\", \"Topic18\", \"Topic18\", \"Topic18\", \"Topic18\", \"Topic18\", \"Topic18\", \"Topic18\", \"Topic18\", \"Topic18\", \"Topic18\", \"Topic18\", \"Topic18\", \"Topic18\", \"Topic18\", \"Topic18\", \"Topic18\", \"Topic18\", \"Topic18\", \"Topic18\", \"Topic18\", \"Topic18\", \"Topic18\", \"Topic18\", \"Topic18\", \"Topic18\", \"Topic19\", \"Topic19\", \"Topic19\", \"Topic19\", \"Topic19\", \"Topic19\", \"Topic19\", \"Topic19\", \"Topic19\", \"Topic19\", \"Topic19\", \"Topic19\", \"Topic19\", \"Topic19\", \"Topic19\", \"Topic19\", \"Topic19\", \"Topic19\", \"Topic19\", \"Topic19\", \"Topic19\", \"Topic19\", \"Topic19\", \"Topic19\", \"Topic19\", \"Topic19\", \"Topic19\", \"Topic19\", \"Topic19\", \"Topic19\", \"Topic19\", \"Topic19\", \"Topic20\", \"Topic20\", \"Topic20\", \"Topic20\", \"Topic20\", \"Topic20\", \"Topic20\", \"Topic20\", \"Topic20\", \"Topic20\", \"Topic20\", \"Topic20\", \"Topic20\", \"Topic20\", \"Topic20\", \"Topic20\", \"Topic20\", \"Topic20\", \"Topic20\", \"Topic20\", \"Topic20\", \"Topic20\", \"Topic20\", \"Topic20\", \"Topic20\", \"Topic20\", \"Topic20\", \"Topic20\", \"Topic20\", \"Topic20\", \"Topic20\", \"Topic20\"], \"Freq\": [3.0, 3.0, 2.0, 2.0, 2.0, 2.0, 1.0, 1.0, 1.0, 1.0, 1.0, 1.0, 1.0, 1.0, 1.0, 1.0, 1.0, 1.0, 1.0, 1.0, 1.0, 1.0, 1.0, 1.0, 1.0, 1.0, 1.0, 1.0, 1.0, 0.0, 3.8355658054351807, 1.942204475402832, 1.9420502185821533, 1.941971778869629, 1.9416253566741943, 0.9952569007873535, 0.9951884150505066, 0.9950852394104004, 0.9949448108673096, 0.9948597550392151, 0.994793713092804, 0.9947474598884583, 0.994703471660614, 0.994697093963623, 0.9946707487106323, 0.9946509599685669, 0.9946138262748718, 0.9946082830429077, 0.9945799112319946, 0.994576632976532, 0.9945589900016785, 0.9938940405845642, 2.890232801437378, 0.9950559735298157, 0.9950382113456726, 0.9950332045555115, 0.9947964549064636, 0.9946978688240051, 0.04745297506451607, 0.04745297506451607, 0.04745297506451607, 1.7173376083374023, 0.8796118497848511, 0.8796118497848511, 0.8796118497848511, 0.8796142935752869, 0.8796142935752869, 0.8796142935752869, 0.8796142935752869, 0.8796142935752869, 0.8795306086540222, 0.041886281222105026, 0.041886281222105026, 0.041886281222105026, 0.041886281222105026, 0.041886281222105026, 0.041886281222105026, 0.041886281222105026, 0.041886281222105026, 0.041886281222105026, 0.041886281222105026, 0.041886281222105026, 0.041886281222105026, 0.041886281222105026, 0.041886281222105026, 0.041886281222105026, 0.041886281222105026, 0.041886281222105026, 0.041886281222105026, 0.041886281222105026, 0.041886281222105026, 0.041886281222105026, 0.0018857559189200401, 0.0018857559189200401, 0.0018857559189200401, 0.0019898107275366783, 0.0019633867777884007, 0.0019626831635832787, 0.0019625541754066944, 0.001961418893188238, 0.0019612021278589964, 0.00195972784422338, 0.0019589406438171864, 0.0019578910432755947, 0.0019576391205191612, 0.0019558952189981937, 0.001954055856913328, 0.001951428595930338, 0.001948052435182035, 0.0019424696220085025, 0.001938367960974574, 0.001935652457177639, 0.0018857559189200401, 0.0019577513448894024, 0.001953834667801857, 0.0019444297067821026, 0.0019442300545051694, 0.0019435258582234383, 0.0020425873808562756, 0.002028808230534196, 0.0020256880670785904, 0.0020195741672068834, 0.002208622405305505, 0.0020642001181840897, 0.0014949964825063944, 0.0014949964825063944, 0.0014949964825063944, 0.0014949964825063944, 0.0014949964825063944, 0.0014949964825063944, 0.0014949964825063944, 0.0014949964825063944, 0.0014949964825063944, 0.0014949964825063944, 0.0014949964825063944, 0.0014949964825063944, 0.0014949964825063944, 0.0014949964825063944, 0.0014949964825063944, 0.0014949964825063944, 0.0014949964825063944, 0.0014949964825063944, 0.0014949964825063944, 0.0014949964825063944, 0.0014949964825063944, 0.0014949964825063944, 0.0014949964825063944, 0.0014949964825063944, 0.0014949964825063944, 0.0014949964825063944, 0.0014949964825063944, 0.0014949964825063944, 0.0014949964825063944, 0.0014949964825063944, 0.0014949964825063944, 0.0014949964825063944, 0.0014949964825063944, 0.0014949964825063944, 0.0014949964825063944, 0.0014949964825063944, 0.0014949964825063944, 0.0014949964825063944, 0.0014949964825063944, 0.0014949964825063944, 0.0014949964825063944, 0.0014949964825063944, 0.0014949964825063944, 0.0014949964825063944, 0.0014949964825063944, 0.0014949964825063944, 0.0014949964825063944, 0.0014949964825063944, 0.0014949964825063944, 0.0014949964825063944, 0.0014949964825063944, 0.0014949964825063944, 0.0014949964825063944, 0.0014949964825063944, 0.0014949964825063944, 0.0014949964825063944, 0.0014949964825063944, 0.0014949964825063944, 0.0014949964825063944, 0.0014949964825063944, 0.0014949964825063944, 0.0014949964825063944, 0.0014949964825063944, 0.0014949964825063944, 0.0014949964825063944, 0.0014949964825063944, 0.0014949964825063944, 0.0014949964825063944, 0.0014949964825063944, 0.0014949964825063944, 0.0014949964825063944, 0.0014949964825063944, 0.0014949964825063944, 0.0014949964825063944, 0.0014949964825063944, 0.0014949964825063944, 0.0014949964825063944, 0.0014949964825063944, 0.0014949964825063944, 0.0014949964825063944, 0.0014949964825063944, 0.0014949964825063944, 0.0014949964825063944, 0.0014949964825063944, 0.0014949964825063944, 0.0014949964825063944, 0.0014949964825063944, 0.0014949964825063944, 0.0014949964825063944, 0.0014949964825063944, 0.0014949964825063944, 0.0014949964825063944, 0.0014949964825063944, 0.0014949964825063944, 0.0014949964825063944, 0.0014949964825063944, 0.0014949964825063944, 0.0014949964825063944, 0.0014949964825063944, 0.0014949964825063944, 0.0014949964825063944, 0.0014949964825063944, 0.0014949964825063944, 0.0014949964825063944, 0.0014949964825063944, 0.0014949964825063944, 0.0014949964825063944, 0.0014949964825063944, 0.0014949964825063944, 0.0014949964825063944, 0.0014949964825063944, 0.0014949964825063944, 0.0014949964825063944, 0.0014949964825063944, 0.0014949964825063944, 0.0014949964825063944, 0.0014949964825063944, 0.0014949964825063944, 0.0014949964825063944, 0.0014949964825063944, 0.0014949964825063944, 0.0014949964825063944, 0.0014949964825063944, 0.0014949964825063944, 0.0014949964825063944, 0.0014949964825063944, 0.0014949964825063944, 0.0014949964825063944, 0.0014949964825063944, 0.0014949964825063944, 0.0014949964825063944, 0.0014949964825063944, 0.0014949964825063944, 0.0014949964825063944, 0.0014949964825063944, 0.0014949964825063944, 0.0014949964825063944, 0.0014949964825063944, 0.0014949964825063944, 0.0014949964825063944, 0.0014949964825063944, 0.0014949964825063944, 0.0014949964825063944, 0.0014949964825063944, 0.0014949964825063944, 0.0014949964825063944, 0.0014949964825063944, 0.0014949964825063944, 0.0014949964825063944, 0.0014949964825063944, 0.0014949964825063944, 0.0014949964825063944, 0.0014949964825063944, 0.0014949964825063944, 0.0014949964825063944, 0.0014949964825063944, 0.0014949964825063944, 0.0014949964825063944, 0.0014949964825063944, 0.0014949964825063944, 0.0014949964825063944, 0.0014949964825063944, 0.0014949964825063944, 0.0014949964825063944, 0.0014949964825063944, 0.0014949964825063944, 0.0014949964825063944, 0.0014949964825063944, 0.0014949964825063944, 0.0014949964825063944, 0.0014949964825063944, 0.0014949964825063944, 0.0014949964825063944, 0.0014949964825063944, 0.0014949964825063944, 0.0014949964825063944, 0.0014949964825063944, 0.0014949964825063944, 0.0014949964825063944, 0.0014949964825063944, 0.0014949964825063944, 0.0014949964825063944, 0.0014949964825063944, 0.0014949964825063944, 0.0014949964825063944, 0.0014949964825063944, 0.0014949964825063944, 0.0014949964825063944, 0.0014949964825063944, 0.0014949964825063944, 0.0014949964825063944, 0.0014949964825063944, 0.0014949964825063944, 0.0014949964825063944, 0.0014949964825063944, 0.0014949964825063944, 0.0014949964825063944, 0.0014949964825063944, 0.0014949964825063944, 0.0014949964825063944, 0.0014949964825063944, 0.0014949964825063944, 0.0014949964825063944, 0.0014949964825063944, 0.0014949964825063944, 0.0014949964825063944, 0.0014949964825063944, 0.0014949964825063944, 0.0014949964825063944, 0.0014949964825063944, 0.0014949964825063944, 0.0014949964825063944, 0.0014949964825063944, 0.0014949964825063944, 0.0014949964825063944, 0.0014949964825063944, 0.0014949964825063944, 0.0014949964825063944, 0.0014949964825063944, 0.0014949964825063944, 0.0014949964825063944, 0.0014949964825063944, 0.0014949964825063944, 0.0014949964825063944, 0.0014949964825063944, 0.0014949964825063944, 0.0014949964825063944, 0.0014949964825063944, 0.0014949964825063944, 0.0014949964825063944, 0.0014949964825063944, 0.0014949964825063944, 0.0014949964825063944, 0.0014949964825063944, 0.0014949964825063944, 0.0014949964825063944, 0.0014949964825063944, 0.0014949964825063944, 0.0014949964825063944, 0.0014949964825063944, 0.0014949964825063944, 0.0014949964825063944, 0.0014949964825063944, 0.0014949964825063944, 0.0014949964825063944, 0.0014949964825063944, 0.0014949964825063944, 0.0014949964825063944, 0.0014949964825063944, 0.0014949964825063944, 0.0014949964825063944, 0.0014949964825063944, 0.0014949964825063944, 0.0014949964825063944, 0.0014949964825063944, 0.0014949964825063944, 0.0014949964825063944, 0.0014949964825063944, 0.0014949964825063944, 0.0014949964825063944, 0.0014949964825063944, 0.0014949964825063944, 0.0014949964825063944, 0.0014949964825063944, 0.0014949964825063944, 0.0014949964825063944, 0.0014949964825063944, 0.0014949964825063944, 0.0014949964825063944, 0.0014949964825063944, 0.0014949964825063944, 0.0014949964825063944, 0.0014949964825063944, 0.0014949964825063944, 0.0014949964825063944, 0.0014949964825063944, 0.0014949964825063944, 0.0014949964825063944, 0.0014949964825063944, 0.0014949964825063944, 0.0014949964825063944, 0.0014949964825063944, 0.0014949964825063944, 0.0014949964825063944, 0.0014949964825063944, 0.0014949964825063944, 0.0014949964825063944, 0.0014949964825063944, 0.0014949964825063944, 0.0014949964825063944, 0.0014949964825063944, 0.0014949964825063944, 0.0014949964825063944, 0.0014949964825063944, 0.0014949964825063944, 0.0014949964825063944, 0.0014949964825063944, 0.0014949964825063944, 0.0014949964825063944, 0.0014949964825063944, 0.0014949964825063944, 0.0014949964825063944, 0.0014949964825063944, 0.0014949964825063944, 0.0014949964825063944, 0.0014949964825063944, 0.0014949964825063944, 0.0014949964825063944, 0.0014949964825063944, 0.0014949964825063944, 0.0014949964825063944, 0.0014949964825063944, 0.0014949964825063944, 0.0014949964825063944, 0.0014949964825063944, 0.0014949964825063944, 0.0014949964825063944, 0.0014949964825063944, 0.0014949964825063944, 0.0014949964825063944, 0.0014949964825063944, 0.0014949964825063944, 0.0014949964825063944, 0.0014949964825063944, 0.0014949964825063944, 0.0014949964825063944, 0.0014949964825063944, 0.0014949964825063944, 0.0014949964825063944, 0.0014949964825063944, 0.0014949964825063944, 0.0014949964825063944, 0.0014949964825063944, 0.0014949964825063944, 0.0014949964825063944, 0.0014949964825063944, 0.0014949964825063944, 0.0014949964825063944, 0.0014949964825063944, 0.0014949964825063944, 0.0014949964825063944, 0.0014949964825063944, 0.0014949964825063944, 0.0014949964825063944, 0.0014949964825063944, 0.0014949964825063944, 0.0014949964825063944, 0.0014949964825063944, 0.0014949964825063944, 0.0014949964825063944, 0.0014949964825063944, 0.0014949964825063944, 0.0014949964825063944, 0.0014949964825063944, 0.0014949964825063944, 0.0014949964825063944, 0.0014949964825063944, 0.0014949964825063944, 0.0014949964825063944, 0.0014949964825063944, 0.0014949964825063944, 0.0014949964825063944, 0.0014949964825063944, 0.0014949964825063944, 0.0014949964825063944, 0.0014949964825063944, 0.0014949964825063944, 0.0014949964825063944, 0.0014949964825063944, 0.0014949964825063944, 0.0014949964825063944, 0.0014949964825063944, 0.0014949964825063944, 0.0014949964825063944, 0.0014949964825063944, 0.0014949964825063944, 0.0014949964825063944, 0.0014949964825063944, 0.0014949964825063944, 0.0014949964825063944, 0.0014949964825063944, 0.0014949964825063944, 0.0014949964825063944, 0.0014949964825063944, 0.0014949964825063944, 0.0014949964825063944, 0.0014949964825063944, 0.0014949964825063944, 0.0014949964825063944, 0.0014949964825063944, 0.0014949964825063944, 0.0014949964825063944, 0.0014949964825063944, 0.0014949964825063944, 0.0014949964825063944, 0.0014949964825063944, 0.0014949964825063944, 0.0014949964825063944, 0.0014949964825063944, 0.0014949964825063944, 0.0014949964825063944, 0.0014949964825063944, 0.0014949964825063944, 0.0014949964825063944, 0.0014949964825063944, 0.0014949964825063944, 0.0014949964825063944, 0.0014949964825063944, 0.0014949964825063944, 0.0014949964825063944, 0.0014949964825063944, 0.0014949964825063944, 0.0014949964825063944, 0.0014949964825063944, 0.0014949964825063944, 0.0014949964825063944, 0.0014949964825063944, 0.0014949964825063944, 0.0014949964825063944, 0.0014949964825063944, 0.0014949964825063944, 0.0014949964825063944, 0.0014949964825063944, 0.0014949964825063944, 0.0014949964825063944, 0.0014949964825063944, 0.0014949964825063944, 0.0014949964825063944, 0.0014949964825063944, 0.0014949964825063944, 0.0014949964825063944, 0.0014949964825063944, 0.0014949964825063944, 0.0014949964825063944, 0.0014949964825063944, 0.0014949964825063944, 0.0014949964825063944, 0.0014949964825063944, 0.0014949964825063944, 0.0014949964825063944, 0.0014949964825063944, 0.0014949964825063944, 0.0014949964825063944, 0.0014949964825063944, 0.0014949964825063944, 0.0014949964825063944, 0.0014949964825063944, 0.0014949964825063944, 0.0014949964825063944, 0.0014949964825063944, 0.0014949964825063944, 0.0014949964825063944, 0.0014949964825063944, 0.0014949964825063944, 0.0014949964825063944, 0.0014949964825063944, 0.0014949964825063944, 0.0014949964825063944, 0.0014949964825063944, 0.0014949964825063944, 0.0014949964825063944, 0.0014949964825063944, 0.0014949964825063944, 0.0014949964825063944, 0.0014949964825063944, 0.0014949964825063944, 0.0014949964825063944, 0.0014949964825063944, 0.0014949964825063944, 0.0014949964825063944, 0.0014949964825063944, 0.0014949964825063944, 0.0014949964825063944, 0.0014949964825063944, 0.0014949964825063944, 0.0014949964825063944, 0.0014949964825063944, 0.0014949964825063944, 0.0014949964825063944, 0.0014949964825063944, 0.0014949964825063944, 0.0014949964825063944, 0.0014949964825063944, 0.0014949964825063944, 0.0014949964825063944, 0.0014949964825063944, 0.0014949964825063944, 0.0014949964825063944, 0.0014949964825063944, 0.0014949964825063944, 0.0014949964825063944, 0.0014949964825063944, 0.0014949964825063944, 0.0014949964825063944, 0.0014949964825063944, 0.0014949964825063944, 0.0014949964825063944, 0.0014949964825063944, 0.0014949964825063944, 0.0014949964825063944, 0.0014949964825063944, 0.0014949964825063944, 0.0014949964825063944, 0.0014949964825063944, 0.0014949964825063944, 0.0014949964825063944, 0.0014949964825063944, 0.0014949964825063944, 0.0014949964825063944, 0.0014949964825063944, 0.0014949964825063944, 0.0014949964825063944, 0.0014949964825063944, 0.0014949964825063944, 0.0014949964825063944, 0.0014949964825063944, 0.0014949964825063944, 0.0014949964825063944, 0.0014949964825063944, 0.0014949964825063944, 0.0014949964825063944, 0.0014949964825063944, 0.0014949964825063944, 0.0014949964825063944, 0.0014949964825063944, 0.0014949964825063944, 0.0014949964825063944, 0.0014949964825063944, 0.0014949964825063944, 0.0014949964825063944, 0.0014949964825063944, 0.0014949964825063944, 0.0014949964825063944, 0.0014949964825063944, 0.0014949964825063944, 0.0014949964825063944, 0.0014949964825063944, 0.0014949964825063944, 0.0014949964825063944, 0.0014949964825063944, 0.0014949964825063944, 0.0014949964825063944, 0.0014949964825063944, 0.0014949964825063944], \"Term\": [\"donna\", \"work\", \"year\", \"always\", \"highly\", \"real\", \"update\", \"recommendation\", \"professional\", \"pleasure\", \"name\", \"justin\", \"find\", \"hardworking\", \"number\", \"recommend\", \"knowledgeable\", \"detail\", \"expert\", \"summer\", \"experience\", \"ball\", \"designer\", \"field\", \"eye\", \"creativity\", \"organise\", \"meticulous\", \"extremely\", \"bieber\", \"donna\", \"year\", \"always\", \"highly\", \"real\", \"find\", \"hardworking\", \"number\", \"recommend\", \"knowledgeable\", \"detail\", \"expert\", \"summer\", \"experience\", \"ball\", \"designer\", \"field\", \"eye\", \"creativity\", \"organise\", \"meticulous\", \"extremely\", \"work\", \"update\", \"recommendation\", \"professional\", \"pleasure\", \"name\", \"bieber\", \"consummate\", \"justin\", \"justin\", \"time\", \"consummate\", \"bieber\", \"name\", \"pleasure\", \"professional\", \"recommendation\", \"update\", \"work\", \"extremely\", \"meticulous\", \"organise\", \"creativity\", \"eye\", \"field\", \"designer\", \"ball\", \"experience\", \"summer\", \"expert\", \"detail\", \"knowledgeable\", \"recommend\", \"number\", \"hardworking\", \"find\", \"real\", \"highly\", \"always\", \"donna\", \"time\", \"consummate\", \"bieber\", \"extremely\", \"meticulous\", \"organise\", \"creativity\", \"eye\", \"field\", \"designer\", \"ball\", \"experience\", \"summer\", \"expert\", \"detail\", \"knowledgeable\", \"recommend\", \"number\", \"hardworking\", \"find\", \"justin\", \"name\", \"pleasure\", \"professional\", \"recommendation\", \"update\", \"real\", \"highly\", \"always\", \"year\", \"donna\", \"work\", \"time\", \"consummate\", \"bieber\", \"extremely\", \"meticulous\", \"organise\", \"creativity\", \"eye\", \"field\", \"designer\", \"ball\", \"experience\", \"summer\", \"expert\", \"detail\", \"knowledgeable\", \"recommend\", \"number\", \"hardworking\", \"find\", \"justin\", \"name\", \"pleasure\", \"professional\", \"recommendation\", \"update\", \"real\", \"highly\", \"always\", \"year\", \"donna\", \"work\", \"time\", \"consummate\", \"bieber\", \"extremely\", \"meticulous\", \"organise\", \"creativity\", \"eye\", \"field\", \"designer\", \"ball\", \"experience\", \"summer\", \"expert\", \"detail\", \"knowledgeable\", \"recommend\", \"number\", \"hardworking\", \"find\", \"justin\", \"name\", \"pleasure\", \"professional\", \"recommendation\", \"update\", \"real\", \"highly\", \"always\", \"year\", \"donna\", \"work\", \"time\", \"consummate\", \"bieber\", \"extremely\", \"meticulous\", \"organise\", \"creativity\", \"eye\", \"field\", \"designer\", \"ball\", \"experience\", \"summer\", \"expert\", \"detail\", \"knowledgeable\", \"recommend\", \"number\", \"hardworking\", \"find\", \"justin\", \"name\", \"pleasure\", \"professional\", \"recommendation\", \"update\", \"real\", \"highly\", \"always\", \"year\", \"donna\", \"work\", \"time\", \"consummate\", \"bieber\", \"extremely\", \"meticulous\", \"organise\", \"creativity\", \"eye\", \"field\", \"designer\", \"ball\", \"experience\", \"summer\", \"expert\", \"detail\", \"knowledgeable\", \"recommend\", \"number\", \"hardworking\", \"find\", \"justin\", \"name\", \"pleasure\", \"professional\", \"recommendation\", \"update\", \"real\", \"highly\", \"always\", \"year\", \"donna\", \"work\", \"time\", \"consummate\", \"bieber\", \"extremely\", \"meticulous\", \"organise\", \"creativity\", \"eye\", \"field\", \"designer\", \"ball\", \"experience\", \"summer\", \"expert\", \"detail\", \"knowledgeable\", \"recommend\", \"number\", \"hardworking\", \"find\", \"justin\", \"name\", \"pleasure\", \"professional\", \"recommendation\", \"update\", \"real\", \"highly\", \"always\", \"year\", \"donna\", \"work\", \"time\", \"consummate\", \"bieber\", \"extremely\", \"meticulous\", \"organise\", \"creativity\", \"eye\", \"field\", \"designer\", \"ball\", \"experience\", \"summer\", \"expert\", \"detail\", \"knowledgeable\", \"recommend\", \"number\", \"hardworking\", \"find\", \"justin\", \"name\", \"pleasure\", \"professional\", \"recommendation\", \"update\", \"real\", \"highly\", \"always\", \"year\", \"donna\", \"work\", \"time\", \"consummate\", \"bieber\", \"extremely\", \"meticulous\", \"organise\", \"creativity\", \"eye\", \"field\", \"designer\", \"ball\", \"experience\", \"summer\", \"expert\", \"detail\", \"knowledgeable\", \"recommend\", \"number\", \"hardworking\", \"find\", \"justin\", \"name\", \"pleasure\", \"professional\", \"recommendation\", \"update\", \"real\", \"highly\", \"always\", \"year\", \"donna\", \"work\", \"time\", \"consummate\", \"bieber\", \"extremely\", \"meticulous\", \"organise\", \"creativity\", \"eye\", \"field\", \"designer\", \"ball\", \"experience\", \"summer\", \"expert\", \"detail\", \"knowledgeable\", \"recommend\", \"number\", \"hardworking\", \"find\", \"justin\", \"name\", \"pleasure\", \"professional\", \"recommendation\", \"update\", \"real\", \"highly\", \"always\", \"year\", \"donna\", \"work\", \"time\", \"consummate\", \"bieber\", \"extremely\", \"meticulous\", \"organise\", \"creativity\", \"eye\", \"field\", \"designer\", \"ball\", \"experience\", \"summer\", \"expert\", \"detail\", \"knowledgeable\", \"recommend\", \"number\", \"hardworking\", \"find\", \"justin\", \"name\", \"pleasure\", \"professional\", \"recommendation\", \"update\", \"real\", \"highly\", \"always\", \"year\", \"donna\", \"work\", \"time\", \"consummate\", \"bieber\", \"extremely\", \"meticulous\", \"organise\", \"creativity\", \"eye\", \"field\", \"designer\", \"ball\", \"experience\", \"summer\", \"expert\", \"detail\", \"knowledgeable\", \"recommend\", \"number\", \"hardworking\", \"find\", \"justin\", \"name\", \"pleasure\", \"professional\", \"recommendation\", \"update\", \"real\", \"highly\", \"always\", \"year\", \"donna\", \"work\", \"time\", \"consummate\", \"bieber\", \"extremely\", \"meticulous\", \"organise\", \"creativity\", \"eye\", \"field\", \"designer\", \"ball\", \"experience\", \"summer\", \"expert\", \"detail\", \"knowledgeable\", \"recommend\", \"number\", \"hardworking\", \"find\", \"justin\", \"name\", \"pleasure\", \"professional\", \"recommendation\", \"update\", \"real\", \"highly\", \"always\", \"year\", \"donna\", \"work\", \"time\", \"consummate\", \"bieber\", \"extremely\", \"meticulous\", \"organise\", \"creativity\", \"eye\", \"field\", \"designer\", \"ball\", \"experience\", \"summer\", \"expert\", \"detail\", \"knowledgeable\", \"recommend\", \"number\", \"hardworking\", \"find\", \"justin\", \"name\", \"pleasure\", \"professional\", \"recommendation\", \"update\", \"real\", \"highly\", \"always\", \"year\", \"donna\", \"work\", \"time\", \"consummate\", \"bieber\", \"extremely\", \"meticulous\", \"organise\", \"creativity\", \"eye\", \"field\", \"designer\", \"ball\", \"experience\", \"summer\", \"expert\", \"detail\", \"knowledgeable\", \"recommend\", \"number\", \"hardworking\", \"find\", \"justin\", \"name\", \"pleasure\", \"professional\", \"recommendation\", \"update\", \"real\", \"highly\", \"always\", \"year\", \"donna\", \"work\", \"time\", \"consummate\", \"bieber\", \"extremely\", \"meticulous\", \"organise\", \"creativity\", \"eye\", \"field\", \"designer\", \"ball\", \"experience\", \"summer\", \"expert\", \"detail\", \"knowledgeable\", \"recommend\", \"number\", \"hardworking\", \"find\", \"justin\", \"name\", \"pleasure\", \"professional\", \"recommendation\", \"update\", \"real\", \"highly\", \"always\", \"year\", \"donna\", \"work\", \"time\", \"consummate\", \"bieber\", \"extremely\", \"meticulous\", \"organise\", \"creativity\", \"eye\", \"field\", \"designer\", \"ball\", \"experience\", \"summer\", \"expert\", \"detail\", \"knowledgeable\", \"recommend\", \"number\", \"hardworking\", \"find\", \"justin\", \"name\", \"pleasure\", \"professional\", \"recommendation\", \"update\", \"real\", \"highly\", \"always\", \"year\", \"donna\", \"work\", \"time\", \"consummate\", \"bieber\", \"extremely\", \"meticulous\", \"organise\", \"creativity\", \"eye\", \"field\", \"designer\", \"ball\", \"experience\", \"summer\", \"expert\", \"detail\", \"knowledgeable\", \"recommend\", \"number\", \"hardworking\", \"find\", \"justin\", \"name\", \"pleasure\", \"professional\", \"recommendation\", \"update\", \"real\", \"highly\", \"always\", \"year\", \"donna\", \"work\", \"time\", \"consummate\", \"bieber\", \"extremely\", \"meticulous\", \"organise\", \"creativity\", \"eye\", \"field\", \"designer\", \"ball\", \"experience\", \"summer\", \"expert\", \"detail\", \"knowledgeable\", \"recommend\", \"number\", \"hardworking\", \"find\", \"justin\", \"name\", \"pleasure\", \"professional\", \"recommendation\", \"update\", \"real\", \"highly\", \"always\", \"year\", \"donna\", \"work\"], \"Total\": [3.0, 3.0, 2.0, 2.0, 2.0, 2.0, 1.0, 1.0, 1.0, 1.0, 1.0, 1.0, 1.0, 1.0, 1.0, 1.0, 1.0, 1.0, 1.0, 1.0, 1.0, 1.0, 1.0, 1.0, 1.0, 1.0, 1.0, 1.0, 1.0, 0.0, 3.905073881149292, 2.0115244388580322, 2.01137638092041, 2.011301040649414, 2.0109684467315674, 1.0644938945770264, 1.0644280910491943, 1.0643291473388672, 1.0641942024230957, 1.0641125440597534, 1.0640491247177124, 1.06400465965271, 1.063962459564209, 1.063956379890442, 1.0639311075210571, 1.063912034034729, 1.0638763904571533, 1.063871145248413, 1.063843846321106, 1.063840627670288, 1.0638236999511719, 1.063185214996338, 3.797240734100342, 1.9020287990570068, 1.902011752128601, 1.902006983757019, 1.9017796516418457, 1.9016849994659424, 0.9543656706809998, 0.9543656706809998, 1.7920913696289062, 1.7920913696289062, 0.9543656706809998, 0.9543656706809998, 0.9543656706809998, 1.9016849994659424, 1.9017796516418457, 1.902006983757019, 1.902011752128601, 1.9020287990570068, 3.797240734100342, 1.063185214996338, 1.0638236999511719, 1.063840627670288, 1.063843846321106, 1.063871145248413, 1.0638763904571533, 1.063912034034729, 1.0639311075210571, 1.063956379890442, 1.063962459564209, 1.06400465965271, 1.0640491247177124, 1.0641125440597534, 1.0641942024230957, 1.0643291473388672, 1.0644280910491943, 1.0644938945770264, 2.0109684467315674, 2.011301040649414, 2.01137638092041, 3.905073881149292, 0.9543656706809998, 0.9543656706809998, 0.9543656706809998, 1.063185214996338, 1.0638236999511719, 1.063840627670288, 1.063843846321106, 1.063871145248413, 1.0638763904571533, 1.063912034034729, 1.0639311075210571, 1.063956379890442, 1.063962459564209, 1.06400465965271, 1.0640491247177124, 1.0641125440597534, 1.0641942024230957, 1.0643291473388672, 1.0644280910491943, 1.0644938945770264, 1.7920913696289062, 1.9016849994659424, 1.9017796516418457, 1.902006983757019, 1.902011752128601, 1.9020287990570068, 2.0109684467315674, 2.011301040649414, 2.01137638092041, 2.0115244388580322, 3.905073881149292, 3.797240734100342, 0.9543656706809998, 0.9543656706809998, 0.9543656706809998, 1.063185214996338, 1.0638236999511719, 1.063840627670288, 1.063843846321106, 1.063871145248413, 1.0638763904571533, 1.063912034034729, 1.0639311075210571, 1.063956379890442, 1.063962459564209, 1.06400465965271, 1.0640491247177124, 1.0641125440597534, 1.0641942024230957, 1.0643291473388672, 1.0644280910491943, 1.0644938945770264, 1.7920913696289062, 1.9016849994659424, 1.9017796516418457, 1.902006983757019, 1.902011752128601, 1.9020287990570068, 2.0109684467315674, 2.011301040649414, 2.01137638092041, 2.0115244388580322, 3.905073881149292, 3.797240734100342, 0.9543656706809998, 0.9543656706809998, 0.9543656706809998, 1.063185214996338, 1.0638236999511719, 1.063840627670288, 1.063843846321106, 1.063871145248413, 1.0638763904571533, 1.063912034034729, 1.0639311075210571, 1.063956379890442, 1.063962459564209, 1.06400465965271, 1.0640491247177124, 1.0641125440597534, 1.0641942024230957, 1.0643291473388672, 1.0644280910491943, 1.0644938945770264, 1.7920913696289062, 1.9016849994659424, 1.9017796516418457, 1.902006983757019, 1.902011752128601, 1.9020287990570068, 2.0109684467315674, 2.011301040649414, 2.01137638092041, 2.0115244388580322, 3.905073881149292, 3.797240734100342, 0.9543656706809998, 0.9543656706809998, 0.9543656706809998, 1.063185214996338, 1.0638236999511719, 1.063840627670288, 1.063843846321106, 1.063871145248413, 1.0638763904571533, 1.063912034034729, 1.0639311075210571, 1.063956379890442, 1.063962459564209, 1.06400465965271, 1.0640491247177124, 1.0641125440597534, 1.0641942024230957, 1.0643291473388672, 1.0644280910491943, 1.0644938945770264, 1.7920913696289062, 1.9016849994659424, 1.9017796516418457, 1.902006983757019, 1.902011752128601, 1.9020287990570068, 2.0109684467315674, 2.011301040649414, 2.01137638092041, 2.0115244388580322, 3.905073881149292, 3.797240734100342, 0.9543656706809998, 0.9543656706809998, 0.9543656706809998, 1.063185214996338, 1.0638236999511719, 1.063840627670288, 1.063843846321106, 1.063871145248413, 1.0638763904571533, 1.063912034034729, 1.0639311075210571, 1.063956379890442, 1.063962459564209, 1.06400465965271, 1.0640491247177124, 1.0641125440597534, 1.0641942024230957, 1.0643291473388672, 1.0644280910491943, 1.0644938945770264, 1.7920913696289062, 1.9016849994659424, 1.9017796516418457, 1.902006983757019, 1.902011752128601, 1.9020287990570068, 2.0109684467315674, 2.011301040649414, 2.01137638092041, 2.0115244388580322, 3.905073881149292, 3.797240734100342, 0.9543656706809998, 0.9543656706809998, 0.9543656706809998, 1.063185214996338, 1.0638236999511719, 1.063840627670288, 1.063843846321106, 1.063871145248413, 1.0638763904571533, 1.063912034034729, 1.0639311075210571, 1.063956379890442, 1.063962459564209, 1.06400465965271, 1.0640491247177124, 1.0641125440597534, 1.0641942024230957, 1.0643291473388672, 1.0644280910491943, 1.0644938945770264, 1.7920913696289062, 1.9016849994659424, 1.9017796516418457, 1.902006983757019, 1.902011752128601, 1.9020287990570068, 2.0109684467315674, 2.011301040649414, 2.01137638092041, 2.0115244388580322, 3.905073881149292, 3.797240734100342, 0.9543656706809998, 0.9543656706809998, 0.9543656706809998, 1.063185214996338, 1.0638236999511719, 1.063840627670288, 1.063843846321106, 1.063871145248413, 1.0638763904571533, 1.063912034034729, 1.0639311075210571, 1.063956379890442, 1.063962459564209, 1.06400465965271, 1.0640491247177124, 1.0641125440597534, 1.0641942024230957, 1.0643291473388672, 1.0644280910491943, 1.0644938945770264, 1.7920913696289062, 1.9016849994659424, 1.9017796516418457, 1.902006983757019, 1.902011752128601, 1.9020287990570068, 2.0109684467315674, 2.011301040649414, 2.01137638092041, 2.0115244388580322, 3.905073881149292, 3.797240734100342, 0.9543656706809998, 0.9543656706809998, 0.9543656706809998, 1.063185214996338, 1.0638236999511719, 1.063840627670288, 1.063843846321106, 1.063871145248413, 1.0638763904571533, 1.063912034034729, 1.0639311075210571, 1.063956379890442, 1.063962459564209, 1.06400465965271, 1.0640491247177124, 1.0641125440597534, 1.0641942024230957, 1.0643291473388672, 1.0644280910491943, 1.0644938945770264, 1.7920913696289062, 1.9016849994659424, 1.9017796516418457, 1.902006983757019, 1.902011752128601, 1.9020287990570068, 2.0109684467315674, 2.011301040649414, 2.01137638092041, 2.0115244388580322, 3.905073881149292, 3.797240734100342, 0.9543656706809998, 0.9543656706809998, 0.9543656706809998, 1.063185214996338, 1.0638236999511719, 1.063840627670288, 1.063843846321106, 1.063871145248413, 1.0638763904571533, 1.063912034034729, 1.0639311075210571, 1.063956379890442, 1.063962459564209, 1.06400465965271, 1.0640491247177124, 1.0641125440597534, 1.0641942024230957, 1.0643291473388672, 1.0644280910491943, 1.0644938945770264, 1.7920913696289062, 1.9016849994659424, 1.9017796516418457, 1.902006983757019, 1.902011752128601, 1.9020287990570068, 2.0109684467315674, 2.011301040649414, 2.01137638092041, 2.0115244388580322, 3.905073881149292, 3.797240734100342, 0.9543656706809998, 0.9543656706809998, 0.9543656706809998, 1.063185214996338, 1.0638236999511719, 1.063840627670288, 1.063843846321106, 1.063871145248413, 1.0638763904571533, 1.063912034034729, 1.0639311075210571, 1.063956379890442, 1.063962459564209, 1.06400465965271, 1.0640491247177124, 1.0641125440597534, 1.0641942024230957, 1.0643291473388672, 1.0644280910491943, 1.0644938945770264, 1.7920913696289062, 1.9016849994659424, 1.9017796516418457, 1.902006983757019, 1.902011752128601, 1.9020287990570068, 2.0109684467315674, 2.011301040649414, 2.01137638092041, 2.0115244388580322, 3.905073881149292, 3.797240734100342, 0.9543656706809998, 0.9543656706809998, 0.9543656706809998, 1.063185214996338, 1.0638236999511719, 1.063840627670288, 1.063843846321106, 1.063871145248413, 1.0638763904571533, 1.063912034034729, 1.0639311075210571, 1.063956379890442, 1.063962459564209, 1.06400465965271, 1.0640491247177124, 1.0641125440597534, 1.0641942024230957, 1.0643291473388672, 1.0644280910491943, 1.0644938945770264, 1.7920913696289062, 1.9016849994659424, 1.9017796516418457, 1.902006983757019, 1.902011752128601, 1.9020287990570068, 2.0109684467315674, 2.011301040649414, 2.01137638092041, 2.0115244388580322, 3.905073881149292, 3.797240734100342, 0.9543656706809998, 0.9543656706809998, 0.9543656706809998, 1.063185214996338, 1.0638236999511719, 1.063840627670288, 1.063843846321106, 1.063871145248413, 1.0638763904571533, 1.063912034034729, 1.0639311075210571, 1.063956379890442, 1.063962459564209, 1.06400465965271, 1.0640491247177124, 1.0641125440597534, 1.0641942024230957, 1.0643291473388672, 1.0644280910491943, 1.0644938945770264, 1.7920913696289062, 1.9016849994659424, 1.9017796516418457, 1.902006983757019, 1.902011752128601, 1.9020287990570068, 2.0109684467315674, 2.011301040649414, 2.01137638092041, 2.0115244388580322, 3.905073881149292, 3.797240734100342, 0.9543656706809998, 0.9543656706809998, 0.9543656706809998, 1.063185214996338, 1.0638236999511719, 1.063840627670288, 1.063843846321106, 1.063871145248413, 1.0638763904571533, 1.063912034034729, 1.0639311075210571, 1.063956379890442, 1.063962459564209, 1.06400465965271, 1.0640491247177124, 1.0641125440597534, 1.0641942024230957, 1.0643291473388672, 1.0644280910491943, 1.0644938945770264, 1.7920913696289062, 1.9016849994659424, 1.9017796516418457, 1.902006983757019, 1.902011752128601, 1.9020287990570068, 2.0109684467315674, 2.011301040649414, 2.01137638092041, 2.0115244388580322, 3.905073881149292, 3.797240734100342, 0.9543656706809998, 0.9543656706809998, 0.9543656706809998, 1.063185214996338, 1.0638236999511719, 1.063840627670288, 1.063843846321106, 1.063871145248413, 1.0638763904571533, 1.063912034034729, 1.0639311075210571, 1.063956379890442, 1.063962459564209, 1.06400465965271, 1.0640491247177124, 1.0641125440597534, 1.0641942024230957, 1.0643291473388672, 1.0644280910491943, 1.0644938945770264, 1.7920913696289062, 1.9016849994659424, 1.9017796516418457, 1.902006983757019, 1.902011752128601, 1.9020287990570068, 2.0109684467315674, 2.011301040649414, 2.01137638092041, 2.0115244388580322, 3.905073881149292, 3.797240734100342, 0.9543656706809998, 0.9543656706809998, 0.9543656706809998, 1.063185214996338, 1.0638236999511719, 1.063840627670288, 1.063843846321106, 1.063871145248413, 1.0638763904571533, 1.063912034034729, 1.0639311075210571, 1.063956379890442, 1.063962459564209, 1.06400465965271, 1.0640491247177124, 1.0641125440597534, 1.0641942024230957, 1.0643291473388672, 1.0644280910491943, 1.0644938945770264, 1.7920913696289062, 1.9016849994659424, 1.9017796516418457, 1.902006983757019, 1.902011752128601, 1.9020287990570068, 2.0109684467315674, 2.011301040649414, 2.01137638092041, 2.0115244388580322, 3.905073881149292, 3.797240734100342, 0.9543656706809998, 0.9543656706809998, 0.9543656706809998, 1.063185214996338, 1.0638236999511719, 1.063840627670288, 1.063843846321106, 1.063871145248413, 1.0638763904571533, 1.063912034034729, 1.0639311075210571, 1.063956379890442, 1.063962459564209, 1.06400465965271, 1.0640491247177124, 1.0641125440597534, 1.0641942024230957, 1.0643291473388672, 1.0644280910491943, 1.0644938945770264, 1.7920913696289062, 1.9016849994659424, 1.9017796516418457, 1.902006983757019, 1.902011752128601, 1.9020287990570068, 2.0109684467315674, 2.011301040649414, 2.01137638092041, 2.0115244388580322, 3.905073881149292, 3.797240734100342, 0.9543656706809998, 0.9543656706809998, 0.9543656706809998, 1.063185214996338, 1.0638236999511719, 1.063840627670288, 1.063843846321106, 1.063871145248413, 1.0638763904571533, 1.063912034034729, 1.0639311075210571, 1.063956379890442, 1.063962459564209, 1.06400465965271, 1.0640491247177124, 1.0641125440597534, 1.0641942024230957, 1.0643291473388672, 1.0644280910491943, 1.0644938945770264, 1.7920913696289062, 1.9016849994659424, 1.9017796516418457, 1.902006983757019, 1.902011752128601, 1.9020287990570068, 2.0109684467315674, 2.011301040649414, 2.01137638092041, 2.0115244388580322, 3.905073881149292, 3.797240734100342, 0.9543656706809998, 0.9543656706809998, 0.9543656706809998, 1.063185214996338, 1.0638236999511719, 1.063840627670288, 1.063843846321106, 1.063871145248413, 1.0638763904571533, 1.063912034034729, 1.0639311075210571, 1.063956379890442, 1.063962459564209, 1.06400465965271, 1.0640491247177124, 1.0641125440597534, 1.0641942024230957, 1.0643291473388672, 1.0644280910491943, 1.0644938945770264, 1.7920913696289062, 1.9016849994659424, 1.9017796516418457, 1.902006983757019, 1.902011752128601, 1.9020287990570068, 2.0109684467315674, 2.011301040649414, 2.01137638092041, 2.0115244388580322, 3.905073881149292, 3.797240734100342], \"loglift\": [30.0, 29.0, 28.0, 27.0, 26.0, 25.0, 24.0, 23.0, 22.0, 21.0, 20.0, 19.0, 18.0, 17.0, 16.0, 15.0, 14.0, 13.0, 12.0, 11.0, 10.0, 9.0, 8.0, 7.0, 6.0, 5.0, 4.0, 3.0, 2.0, 1.0, 0.2540999948978424, 0.23690000176429749, 0.23690000176429749, 0.23690000176429749, 0.23690000176429749, 0.20479999482631683, 0.20479999482631683, 0.20469999313354492, 0.20469999313354492, 0.20469999313354492, 0.20469999313354492, 0.20469999313354492, 0.20469999313354492, 0.20469999313354492, 0.20469999313354492, 0.20469999313354492, 0.20469999313354492, 0.20469999313354492, 0.20469999313354492, 0.20469999313354492, 0.20469999313354492, 0.2046000063419342, -0.0008999999845400453, -0.375900000333786, -0.375900000333786, -0.375900000333786, -0.37599998712539673, -0.37599998712539673, -2.729300022125244, -2.729300022125244, -3.3594000339508057, 1.472000002861023, 1.4329999685287476, 1.4329999685287476, 1.4329999685287476, 0.7436000108718872, 0.7434999942779541, 0.743399977684021, 0.743399977684021, 0.743399977684021, 0.051899999380111694, -1.719499945640564, -1.7201000452041626, -1.7201000452041626, -1.7201000452041626, -1.7201000452041626, -1.7201000452041626, -1.7201999425888062, -1.7201999425888062, -1.7201999425888062, -1.7201999425888062, -1.7202999591827393, -1.7202999591827393, -1.7203999757766724, -1.7203999757766724, -1.7206000089645386, -1.7207000255584717, -1.7207000255584717, -2.356800079345703, -2.3570001125335693, -2.3570001125335693, -3.0204999446868896, 0.4101000130176544, 0.4101000130176544, 0.4101000130176544, 0.35580000281333923, 0.3418999910354614, 0.34150001406669617, 0.34139999747276306, 0.3407999873161316, 0.3407000005245209, 0.3398999869823456, 0.3395000100135803, 0.33889999985694885, 0.33880001306533813, 0.3379000127315521, 0.336899995803833, 0.33550000190734863, 0.3337000012397766, 0.33070001006126404, 0.32850000262260437, 0.3269999921321869, -0.2199999988079071, -0.2418999969959259, -0.24390000104904175, -0.24889999628067017, -0.24899999797344208, -0.24940000474452972, -0.25529998540878296, -0.2623000144958496, -0.2639000117778778, -0.2669000029563904, -0.8407999873161316, -0.8805000185966492, 0.4521999955177307, 0.4521999955177307, 0.4521999955177307, 0.3441999852657318, 0.34360000491142273, 0.34360000491142273, 0.34360000491142273, 0.34360000491142273, 0.3434999883174896, 0.3434999883174896, 0.3434999883174896, 0.3434999883174896, 0.3434999883174896, 0.3434000015258789, 0.3434000015258789, 0.3433000147342682, 0.3431999981403351, 0.34310001134872437, 0.34299999475479126, 0.34299999475479126, -0.17790000140666962, -0.23729999363422394, -0.23729999363422394, -0.23739999532699585, -0.23739999532699585, -0.23749999701976776, -0.29319998621940613, -0.29330000281333923, -0.29339998960494995, -0.29339998960494995, -0.9567999839782715, -0.9287999868392944, 0.4521999955177307, 0.4521999955177307, 0.4521999955177307, 0.3441999852657318, 0.34360000491142273, 0.34360000491142273, 0.34360000491142273, 0.34360000491142273, 0.3434999883174896, 0.3434999883174896, 0.3434999883174896, 0.3434999883174896, 0.3434999883174896, 0.3434000015258789, 0.3434000015258789, 0.3433000147342682, 0.3431999981403351, 0.34310001134872437, 0.34299999475479126, 0.34299999475479126, -0.17790000140666962, -0.23729999363422394, -0.23729999363422394, -0.23739999532699585, -0.23739999532699585, -0.23749999701976776, -0.29319998621940613, -0.29330000281333923, -0.29339998960494995, -0.29339998960494995, -0.9567999839782715, -0.9287999868392944, 0.4521999955177307, 0.4521999955177307, 0.4521999955177307, 0.3441999852657318, 0.34360000491142273, 0.34360000491142273, 0.34360000491142273, 0.34360000491142273, 0.3434999883174896, 0.3434999883174896, 0.3434999883174896, 0.3434999883174896, 0.3434999883174896, 0.3434000015258789, 0.3434000015258789, 0.3433000147342682, 0.3431999981403351, 0.34310001134872437, 0.34299999475479126, 0.34299999475479126, -0.17790000140666962, -0.23729999363422394, -0.23729999363422394, -0.23739999532699585, -0.23739999532699585, -0.23749999701976776, -0.29319998621940613, -0.29330000281333923, -0.29339998960494995, -0.29339998960494995, -0.9567999839782715, -0.9287999868392944, 0.4521999955177307, 0.4521999955177307, 0.4521999955177307, 0.3441999852657318, 0.34360000491142273, 0.34360000491142273, 0.34360000491142273, 0.34360000491142273, 0.3434999883174896, 0.3434999883174896, 0.3434999883174896, 0.3434999883174896, 0.3434999883174896, 0.3434000015258789, 0.3434000015258789, 0.3433000147342682, 0.3431999981403351, 0.34310001134872437, 0.34299999475479126, 0.34299999475479126, -0.17790000140666962, -0.23729999363422394, -0.23729999363422394, -0.23739999532699585, -0.23739999532699585, -0.23749999701976776, -0.29319998621940613, -0.29330000281333923, -0.29339998960494995, -0.29339998960494995, -0.9567999839782715, -0.9287999868392944, 0.4521999955177307, 0.4521999955177307, 0.4521999955177307, 0.3441999852657318, 0.34360000491142273, 0.34360000491142273, 0.34360000491142273, 0.34360000491142273, 0.3434999883174896, 0.3434999883174896, 0.3434999883174896, 0.3434999883174896, 0.3434999883174896, 0.3434000015258789, 0.3434000015258789, 0.3433000147342682, 0.3431999981403351, 0.34310001134872437, 0.34299999475479126, 0.34299999475479126, -0.17790000140666962, -0.23729999363422394, -0.23729999363422394, -0.23739999532699585, -0.23739999532699585, -0.23749999701976776, -0.29319998621940613, -0.29330000281333923, -0.29339998960494995, -0.29339998960494995, -0.9567999839782715, -0.9287999868392944, 0.4521999955177307, 0.4521999955177307, 0.4521999955177307, 0.3441999852657318, 0.34360000491142273, 0.34360000491142273, 0.34360000491142273, 0.34360000491142273, 0.3434999883174896, 0.3434999883174896, 0.3434999883174896, 0.3434999883174896, 0.3434999883174896, 0.3434000015258789, 0.3434000015258789, 0.3433000147342682, 0.3431999981403351, 0.34310001134872437, 0.34299999475479126, 0.34299999475479126, -0.17790000140666962, -0.23729999363422394, -0.23729999363422394, -0.23739999532699585, -0.23739999532699585, -0.23749999701976776, -0.29319998621940613, -0.29330000281333923, -0.29339998960494995, -0.29339998960494995, -0.9567999839782715, -0.9287999868392944, 0.4521999955177307, 0.4521999955177307, 0.4521999955177307, 0.3441999852657318, 0.34360000491142273, 0.34360000491142273, 0.34360000491142273, 0.34360000491142273, 0.3434999883174896, 0.3434999883174896, 0.3434999883174896, 0.3434999883174896, 0.3434999883174896, 0.3434000015258789, 0.3434000015258789, 0.3433000147342682, 0.3431999981403351, 0.34310001134872437, 0.34299999475479126, 0.34299999475479126, -0.17790000140666962, -0.23729999363422394, -0.23729999363422394, -0.23739999532699585, -0.23739999532699585, -0.23749999701976776, -0.29319998621940613, -0.29330000281333923, -0.29339998960494995, -0.29339998960494995, -0.9567999839782715, -0.9287999868392944, 0.4521999955177307, 0.4521999955177307, 0.4521999955177307, 0.3441999852657318, 0.34360000491142273, 0.34360000491142273, 0.34360000491142273, 0.34360000491142273, 0.3434999883174896, 0.3434999883174896, 0.3434999883174896, 0.3434999883174896, 0.3434999883174896, 0.3434000015258789, 0.3434000015258789, 0.3433000147342682, 0.3431999981403351, 0.34310001134872437, 0.34299999475479126, 0.34299999475479126, -0.17790000140666962, -0.23729999363422394, -0.23729999363422394, -0.23739999532699585, -0.23739999532699585, -0.23749999701976776, -0.29319998621940613, -0.29330000281333923, -0.29339998960494995, -0.29339998960494995, -0.9567999839782715, -0.9287999868392944, 0.4521999955177307, 0.4521999955177307, 0.4521999955177307, 0.3441999852657318, 0.34360000491142273, 0.34360000491142273, 0.34360000491142273, 0.34360000491142273, 0.3434999883174896, 0.3434999883174896, 0.3434999883174896, 0.3434999883174896, 0.3434999883174896, 0.3434000015258789, 0.3434000015258789, 0.3433000147342682, 0.3431999981403351, 0.34310001134872437, 0.34299999475479126, 0.34299999475479126, -0.17790000140666962, -0.23729999363422394, -0.23729999363422394, -0.23739999532699585, -0.23739999532699585, -0.23749999701976776, -0.29319998621940613, -0.29330000281333923, -0.29339998960494995, -0.29339998960494995, -0.9567999839782715, -0.9287999868392944, 0.4521999955177307, 0.4521999955177307, 0.4521999955177307, 0.3441999852657318, 0.34360000491142273, 0.34360000491142273, 0.34360000491142273, 0.34360000491142273, 0.3434999883174896, 0.3434999883174896, 0.3434999883174896, 0.3434999883174896, 0.3434999883174896, 0.3434000015258789, 0.3434000015258789, 0.3433000147342682, 0.3431999981403351, 0.34310001134872437, 0.34299999475479126, 0.34299999475479126, -0.17790000140666962, -0.23729999363422394, -0.23729999363422394, -0.23739999532699585, -0.23739999532699585, -0.23749999701976776, -0.29319998621940613, -0.29330000281333923, -0.29339998960494995, -0.29339998960494995, -0.9567999839782715, -0.9287999868392944, 0.4521999955177307, 0.4521999955177307, 0.4521999955177307, 0.3441999852657318, 0.34360000491142273, 0.34360000491142273, 0.34360000491142273, 0.34360000491142273, 0.3434999883174896, 0.3434999883174896, 0.3434999883174896, 0.3434999883174896, 0.3434999883174896, 0.3434000015258789, 0.3434000015258789, 0.3433000147342682, 0.3431999981403351, 0.34310001134872437, 0.34299999475479126, 0.34299999475479126, -0.17790000140666962, -0.23729999363422394, -0.23729999363422394, -0.23739999532699585, -0.23739999532699585, -0.23749999701976776, -0.29319998621940613, -0.29330000281333923, -0.29339998960494995, -0.29339998960494995, -0.9567999839782715, -0.9287999868392944, 0.4521999955177307, 0.4521999955177307, 0.4521999955177307, 0.3441999852657318, 0.34360000491142273, 0.34360000491142273, 0.34360000491142273, 0.34360000491142273, 0.3434999883174896, 0.3434999883174896, 0.3434999883174896, 0.3434999883174896, 0.3434999883174896, 0.3434000015258789, 0.3434000015258789, 0.3433000147342682, 0.3431999981403351, 0.34310001134872437, 0.34299999475479126, 0.34299999475479126, -0.17790000140666962, -0.23729999363422394, -0.23729999363422394, -0.23739999532699585, -0.23739999532699585, -0.23749999701976776, -0.29319998621940613, -0.29330000281333923, -0.29339998960494995, -0.29339998960494995, -0.9567999839782715, -0.9287999868392944, 0.4521999955177307, 0.4521999955177307, 0.4521999955177307, 0.3441999852657318, 0.34360000491142273, 0.34360000491142273, 0.34360000491142273, 0.34360000491142273, 0.3434999883174896, 0.3434999883174896, 0.3434999883174896, 0.3434999883174896, 0.3434999883174896, 0.3434000015258789, 0.3434000015258789, 0.3433000147342682, 0.3431999981403351, 0.34310001134872437, 0.34299999475479126, 0.34299999475479126, -0.17790000140666962, -0.23729999363422394, -0.23729999363422394, -0.23739999532699585, -0.23739999532699585, -0.23749999701976776, -0.29319998621940613, -0.29330000281333923, -0.29339998960494995, -0.29339998960494995, -0.9567999839782715, -0.9287999868392944, 0.4521999955177307, 0.4521999955177307, 0.4521999955177307, 0.3441999852657318, 0.34360000491142273, 0.34360000491142273, 0.34360000491142273, 0.34360000491142273, 0.3434999883174896, 0.3434999883174896, 0.3434999883174896, 0.3434999883174896, 0.3434999883174896, 0.3434000015258789, 0.3434000015258789, 0.3433000147342682, 0.3431999981403351, 0.34310001134872437, 0.34299999475479126, 0.34299999475479126, -0.17790000140666962, -0.23729999363422394, -0.23729999363422394, -0.23739999532699585, -0.23739999532699585, -0.23749999701976776, -0.29319998621940613, -0.29330000281333923, -0.29339998960494995, -0.29339998960494995, -0.9567999839782715, -0.9287999868392944, 0.4521999955177307, 0.4521999955177307, 0.4521999955177307, 0.3441999852657318, 0.34360000491142273, 0.34360000491142273, 0.34360000491142273, 0.34360000491142273, 0.3434999883174896, 0.3434999883174896, 0.3434999883174896, 0.3434999883174896, 0.3434999883174896, 0.3434000015258789, 0.3434000015258789, 0.3433000147342682, 0.3431999981403351, 0.34310001134872437, 0.34299999475479126, 0.34299999475479126, -0.17790000140666962, -0.23729999363422394, -0.23729999363422394, -0.23739999532699585, -0.23739999532699585, -0.23749999701976776, -0.29319998621940613, -0.29330000281333923, -0.29339998960494995, -0.29339998960494995, -0.9567999839782715, -0.9287999868392944, 0.4521999955177307, 0.4521999955177307, 0.4521999955177307, 0.3441999852657318, 0.34360000491142273, 0.34360000491142273, 0.34360000491142273, 0.34360000491142273, 0.3434999883174896, 0.3434999883174896, 0.3434999883174896, 0.3434999883174896, 0.3434999883174896, 0.3434000015258789, 0.3434000015258789, 0.3433000147342682, 0.3431999981403351, 0.34310001134872437, 0.34299999475479126, 0.34299999475479126, -0.17790000140666962, -0.23729999363422394, -0.23729999363422394, -0.23739999532699585, -0.23739999532699585, -0.23749999701976776, -0.29319998621940613, -0.29330000281333923, -0.29339998960494995, -0.29339998960494995, -0.9567999839782715, -0.9287999868392944, 0.4521999955177307, 0.4521999955177307, 0.4521999955177307, 0.3441999852657318, 0.34360000491142273, 0.34360000491142273, 0.34360000491142273, 0.34360000491142273, 0.3434999883174896, 0.3434999883174896, 0.3434999883174896, 0.3434999883174896, 0.3434999883174896, 0.3434000015258789, 0.3434000015258789, 0.3433000147342682, 0.3431999981403351, 0.34310001134872437, 0.34299999475479126, 0.34299999475479126, -0.17790000140666962, -0.23729999363422394, -0.23729999363422394, -0.23739999532699585, -0.23739999532699585, -0.23749999701976776, -0.29319998621940613, -0.29330000281333923, -0.29339998960494995, -0.29339998960494995, -0.9567999839782715, -0.9287999868392944], \"logprob\": [30.0, 29.0, 28.0, 27.0, 26.0, 25.0, 24.0, 23.0, 22.0, 21.0, 20.0, 19.0, 18.0, 17.0, 16.0, 15.0, 14.0, 13.0, 12.0, 11.0, 10.0, 9.0, 8.0, 7.0, 6.0, 5.0, 4.0, 3.0, 2.0, 1.0, -2.2548999786376953, -2.9354000091552734, -2.9354000091552734, -2.935499906539917, -2.935699939727783, -3.6038999557495117, -3.6040000915527344, -3.604099988937378, -3.604300022125244, -3.604300022125244, -3.6043999195098877, -3.6045000553131104, -3.6045000553131104, -3.6045000553131104, -3.6045000553131104, -3.604599952697754, -3.604599952697754, -3.604599952697754, -3.604599952697754, -3.604599952697754, -3.604599952697754, -3.605299949645996, -2.537899971008301, -3.604099988937378, -3.6041998863220215, -3.6041998863220215, -3.6043999195098877, -3.6045000553131104, -6.647200107574463, -6.647200107574463, -6.647200107574463, -1.8158999681472778, -2.4848999977111816, -2.4848999977111816, -2.4848999977111816, -2.4848999977111816, -2.4848999977111816, -2.4848999977111816, -2.4848999977111816, -2.4848999977111816, -2.484999895095825, -5.529399871826172, -5.529399871826172, -5.529399871826172, -5.529399871826172, -5.529399871826172, -5.529399871826172, -5.529399871826172, -5.529399871826172, -5.529399871826172, -5.529399871826172, -5.529399871826172, -5.529399871826172, -5.529399871826172, -5.529399871826172, -5.529399871826172, -5.529399871826172, -5.529399871826172, -5.529399871826172, -5.529399871826172, -5.529399871826172, -5.529399871826172, -3.5078001022338867, -3.5078001022338867, -3.5078001022338867, -3.4540998935699463, -3.4674999713897705, -3.4677999019622803, -3.467900037765503, -3.4684998989105225, -3.468600034713745, -3.4693000316619873, -3.4697000980377197, -3.4702999591827393, -3.470400094985962, -3.471299886703491, -3.4721999168395996, -3.473599910736084, -3.4753000736236572, -3.4781999588012695, -3.480299949645996, -3.4816999435424805, -3.5078001022338867, -3.4702999591827393, -3.4723000526428223, -3.4772000312805176, -3.477299928665161, -3.47760009765625, -3.4279000759124756, -3.4347000122070312, -3.436199903488159, -3.439300060272217, -3.3498001098632812, -3.4173998832702637, -3.4656999111175537, -3.4656999111175537, -3.4656999111175537, -3.4656999111175537, -3.4656999111175537, -3.4656999111175537, -3.4656999111175537, -3.4656999111175537, -3.4656999111175537, -3.4656999111175537, -3.4656999111175537, -3.4656999111175537, -3.4656999111175537, -3.4656999111175537, -3.4656999111175537, -3.4656999111175537, -3.4656999111175537, -3.4656999111175537, -3.4656999111175537, -3.4656999111175537, -3.4656999111175537, -3.4656999111175537, -3.4656999111175537, -3.4656999111175537, -3.4656999111175537, -3.4656999111175537, -3.4656999111175537, -3.4656999111175537, -3.4656999111175537, -3.4656999111175537, -3.4656999111175537, -3.4656999111175537, -3.4656999111175537, -3.4656999111175537, -3.4656999111175537, -3.4656999111175537, -3.4656999111175537, -3.4656999111175537, -3.4656999111175537, -3.4656999111175537, -3.4656999111175537, -3.4656999111175537, -3.4656999111175537, -3.4656999111175537, -3.4656999111175537, -3.4656999111175537, -3.4656999111175537, -3.4656999111175537, -3.4656999111175537, -3.4656999111175537, -3.4656999111175537, -3.4656999111175537, -3.4656999111175537, -3.4656999111175537, -3.4656999111175537, -3.4656999111175537, -3.4656999111175537, -3.4656999111175537, -3.4656999111175537, -3.4656999111175537, -3.4656999111175537, -3.4656999111175537, -3.4656999111175537, -3.4656999111175537, -3.4656999111175537, -3.4656999111175537, -3.4656999111175537, -3.4656999111175537, -3.4656999111175537, -3.4656999111175537, -3.4656999111175537, -3.4656999111175537, -3.4656999111175537, -3.4656999111175537, -3.4656999111175537, -3.4656999111175537, -3.4656999111175537, -3.4656999111175537, -3.4656999111175537, -3.4656999111175537, -3.4656999111175537, -3.4656999111175537, -3.4656999111175537, -3.4656999111175537, -3.4656999111175537, -3.4656999111175537, -3.4656999111175537, -3.4656999111175537, -3.4656999111175537, -3.4656999111175537, -3.4656999111175537, -3.4656999111175537, -3.4656999111175537, -3.4656999111175537, -3.4656999111175537, -3.4656999111175537, -3.4656999111175537, -3.4656999111175537, -3.4656999111175537, -3.4656999111175537, -3.4656999111175537, -3.4656999111175537, -3.4656999111175537, -3.4656999111175537, -3.4656999111175537, -3.4656999111175537, -3.4656999111175537, -3.4656999111175537, -3.4656999111175537, -3.4656999111175537, -3.4656999111175537, -3.4656999111175537, -3.4656999111175537, -3.4656999111175537, -3.4656999111175537, -3.4656999111175537, -3.4656999111175537, -3.4656999111175537, -3.4656999111175537, -3.4656999111175537, -3.4656999111175537, -3.4656999111175537, -3.4656999111175537, -3.4656999111175537, -3.4656999111175537, -3.4656999111175537, -3.4656999111175537, -3.4656999111175537, -3.4656999111175537, -3.4656999111175537, -3.4656999111175537, -3.4656999111175537, -3.4656999111175537, -3.4656999111175537, -3.4656999111175537, -3.4656999111175537, -3.4656999111175537, -3.4656999111175537, -3.4656999111175537, -3.4656999111175537, -3.4656999111175537, -3.4656999111175537, -3.4656999111175537, -3.4656999111175537, -3.4656999111175537, -3.4656999111175537, -3.4656999111175537, -3.4656999111175537, -3.4656999111175537, -3.4656999111175537, -3.4656999111175537, -3.4656999111175537, -3.4656999111175537, -3.4656999111175537, -3.4656999111175537, -3.4656999111175537, -3.4656999111175537, -3.4656999111175537, -3.4656999111175537, -3.4656999111175537, -3.4656999111175537, -3.4656999111175537, -3.4656999111175537, -3.4656999111175537, -3.4656999111175537, -3.4656999111175537, -3.4656999111175537, -3.4656999111175537, -3.4656999111175537, -3.4656999111175537, -3.4656999111175537, -3.4656999111175537, -3.4656999111175537, -3.4656999111175537, -3.4656999111175537, -3.4656999111175537, -3.4656999111175537, -3.4656999111175537, -3.4656999111175537, -3.4656999111175537, -3.4656999111175537, -3.4656999111175537, -3.4656999111175537, -3.4656999111175537, -3.4656999111175537, -3.4656999111175537, -3.4656999111175537, -3.4656999111175537, -3.4656999111175537, -3.4656999111175537, -3.4656999111175537, -3.4656999111175537, -3.4656999111175537, -3.4656999111175537, -3.4656999111175537, -3.4656999111175537, -3.4656999111175537, -3.4656999111175537, -3.4656999111175537, -3.4656999111175537, -3.4656999111175537, -3.4656999111175537, -3.4656999111175537, -3.4656999111175537, -3.4656999111175537, -3.4656999111175537, -3.4656999111175537, -3.4656999111175537, -3.4656999111175537, -3.4656999111175537, -3.4656999111175537, -3.4656999111175537, -3.4656999111175537, -3.4656999111175537, -3.4656999111175537, -3.4656999111175537, -3.4656999111175537, -3.4656999111175537, -3.4656999111175537, -3.4656999111175537, -3.4656999111175537, -3.4656999111175537, -3.4656999111175537, -3.4656999111175537, -3.4656999111175537, -3.4656999111175537, -3.4656999111175537, -3.4656999111175537, -3.4656999111175537, -3.4656999111175537, -3.4656999111175537, -3.4656999111175537, -3.4656999111175537, -3.4656999111175537, -3.4656999111175537, -3.4656999111175537, -3.4656999111175537, -3.4656999111175537, -3.4656999111175537, -3.4656999111175537, -3.4656999111175537, -3.4656999111175537, -3.4656999111175537, -3.4656999111175537, -3.4656999111175537, -3.4656999111175537, -3.4656999111175537, -3.4656999111175537, -3.4656999111175537, -3.4656999111175537, -3.4656999111175537, -3.4656999111175537, -3.4656999111175537, -3.4656999111175537, -3.4656999111175537, -3.4656999111175537, -3.4656999111175537, -3.4656999111175537, -3.4656999111175537, -3.4656999111175537, -3.4656999111175537, -3.4656999111175537, -3.4656999111175537, -3.4656999111175537, -3.4656999111175537, -3.4656999111175537, -3.4656999111175537, -3.4656999111175537, -3.4656999111175537, -3.4656999111175537, -3.4656999111175537, -3.4656999111175537, -3.4656999111175537, -3.4656999111175537, -3.4656999111175537, -3.4656999111175537, -3.4656999111175537, -3.4656999111175537, -3.4656999111175537, -3.4656999111175537, -3.4656999111175537, -3.4656999111175537, -3.4656999111175537, -3.4656999111175537, -3.4656999111175537, -3.4656999111175537, -3.4656999111175537, -3.4656999111175537, -3.4656999111175537, -3.4656999111175537, -3.4656999111175537, -3.4656999111175537, -3.4656999111175537, -3.4656999111175537, -3.4656999111175537, -3.4656999111175537, -3.4656999111175537, -3.4656999111175537, -3.4656999111175537, -3.4656999111175537, -3.4656999111175537, -3.4656999111175537, -3.4656999111175537, -3.4656999111175537, -3.4656999111175537, -3.4656999111175537, -3.4656999111175537, -3.4656999111175537, -3.4656999111175537, -3.4656999111175537, -3.4656999111175537, -3.4656999111175537, -3.4656999111175537, -3.4656999111175537, -3.4656999111175537, -3.4656999111175537, -3.4656999111175537, -3.4656999111175537, -3.4656999111175537, -3.4656999111175537, -3.4656999111175537, -3.4656999111175537, -3.4656999111175537, -3.4656999111175537, -3.4656999111175537, -3.4656999111175537, -3.4656999111175537, -3.4656999111175537, -3.4656999111175537, -3.4656999111175537, -3.4656999111175537, -3.4656999111175537, -3.4656999111175537, -3.4656999111175537, -3.4656999111175537, -3.4656999111175537, -3.4656999111175537, -3.4656999111175537, -3.4656999111175537, -3.4656999111175537, -3.4656999111175537, -3.4656999111175537, -3.4656999111175537, -3.4656999111175537, -3.4656999111175537, -3.4656999111175537, -3.4656999111175537, -3.4656999111175537, -3.4656999111175537, -3.4656999111175537, -3.4656999111175537, -3.4656999111175537, -3.4656999111175537, -3.4656999111175537, -3.4656999111175537, -3.4656999111175537, -3.4656999111175537, -3.4656999111175537, -3.4656999111175537, -3.4656999111175537, -3.4656999111175537, -3.4656999111175537, -3.4656999111175537, -3.4656999111175537, -3.4656999111175537, -3.4656999111175537, -3.4656999111175537, -3.4656999111175537, -3.4656999111175537, -3.4656999111175537, -3.4656999111175537, -3.4656999111175537, -3.4656999111175537, -3.4656999111175537, -3.4656999111175537, -3.4656999111175537, -3.4656999111175537, -3.4656999111175537, -3.4656999111175537, -3.4656999111175537, -3.4656999111175537, -3.4656999111175537, -3.4656999111175537, -3.4656999111175537, -3.4656999111175537, -3.4656999111175537, -3.4656999111175537, -3.4656999111175537, -3.4656999111175537, -3.4656999111175537, -3.4656999111175537, -3.4656999111175537, -3.4656999111175537, -3.4656999111175537, -3.4656999111175537, -3.4656999111175537, -3.4656999111175537, -3.4656999111175537, -3.4656999111175537, -3.4656999111175537, -3.4656999111175537, -3.4656999111175537, -3.4656999111175537, -3.4656999111175537, -3.4656999111175537, -3.4656999111175537, -3.4656999111175537, -3.4656999111175537, -3.4656999111175537, -3.4656999111175537, -3.4656999111175537, -3.4656999111175537, -3.4656999111175537, -3.4656999111175537, -3.4656999111175537, -3.4656999111175537, -3.4656999111175537, -3.4656999111175537, -3.4656999111175537, -3.4656999111175537, -3.4656999111175537, -3.4656999111175537, -3.4656999111175537, -3.4656999111175537, -3.4656999111175537, -3.4656999111175537, -3.4656999111175537, -3.4656999111175537, -3.4656999111175537, -3.4656999111175537, -3.4656999111175537, -3.4656999111175537, -3.4656999111175537, -3.4656999111175537, -3.4656999111175537, -3.4656999111175537, -3.4656999111175537, -3.4656999111175537, -3.4656999111175537, -3.4656999111175537, -3.4656999111175537, -3.4656999111175537, -3.4656999111175537, -3.4656999111175537, -3.4656999111175537, -3.4656999111175537, -3.4656999111175537, -3.4656999111175537, -3.4656999111175537, -3.4656999111175537, -3.4656999111175537, -3.4656999111175537, -3.4656999111175537, -3.4656999111175537, -3.4656999111175537, -3.4656999111175537, -3.4656999111175537, -3.4656999111175537, -3.4656999111175537, -3.4656999111175537, -3.4656999111175537, -3.4656999111175537, -3.4656999111175537, -3.4656999111175537, -3.4656999111175537, -3.4656999111175537, -3.4656999111175537, -3.4656999111175537, -3.4656999111175537, -3.4656999111175537, -3.4656999111175537, -3.4656999111175537, -3.4656999111175537, -3.4656999111175537, -3.4656999111175537, -3.4656999111175537, -3.4656999111175537, -3.4656999111175537, -3.4656999111175537, -3.4656999111175537, -3.4656999111175537, -3.4656999111175537, -3.4656999111175537, -3.4656999111175537, -3.4656999111175537, -3.4656999111175537, -3.4656999111175537, -3.4656999111175537, -3.4656999111175537, -3.4656999111175537, -3.4656999111175537, -3.4656999111175537, -3.4656999111175537, -3.4656999111175537, -3.4656999111175537, -3.4656999111175537, -3.4656999111175537, -3.4656999111175537, -3.4656999111175537, -3.4656999111175537, -3.4656999111175537, -3.4656999111175537, -3.4656999111175537, -3.4656999111175537, -3.4656999111175537, -3.4656999111175537, -3.4656999111175537, -3.4656999111175537, -3.4656999111175537, -3.4656999111175537, -3.4656999111175537, -3.4656999111175537, -3.4656999111175537, -3.4656999111175537, -3.4656999111175537, -3.4656999111175537, -3.4656999111175537, -3.4656999111175537, -3.4656999111175537, -3.4656999111175537, -3.4656999111175537, -3.4656999111175537, -3.4656999111175537, -3.4656999111175537, -3.4656999111175537, -3.4656999111175537, -3.4656999111175537, -3.4656999111175537, -3.4656999111175537, -3.4656999111175537, -3.4656999111175537, -3.4656999111175537, -3.4656999111175537, -3.4656999111175537, -3.4656999111175537, -3.4656999111175537, -3.4656999111175537, -3.4656999111175537, -3.4656999111175537, -3.4656999111175537, -3.4656999111175537, -3.4656999111175537, -3.4656999111175537, -3.4656999111175537]}, \"token.table\": {\"Topic\": [1, 1, 2, 2, 1, 1, 1, 1, 1, 1, 1, 1, 1, 1, 1, 1, 2, 1, 1, 1, 2, 1, 1, 1, 2, 1, 2, 1, 1, 1, 2, 1, 2, 1, 2, 1, 2, 1], \"Freq\": [0.9943439960479736, 0.9399104714393616, 1.0478163957595825, 1.0478163957595825, 0.9399875998497009, 0.939927339553833, 0.9398062229156494, 1.024308443069458, 0.9398881793022156, 0.9398455023765564, 0.9405698776245117, 0.9399634599685669, 0.9399588108062744, 0.9394135475158691, 0.9394716620445251, 0.9943812489509583, 1.1160144805908203, 0.9397501945495605, 0.940005362033844, 0.525849461555481, 0.525849461555481, 0.9395589828491211, 0.9399904012680054, 0.5258232951164246, 0.5258232951164246, 0.5257604122161865, 0.5257604122161865, 0.9945456981658936, 0.9396781325340271, 0.5257591009140015, 0.5257591009140015, 0.9398828148841858, 1.0478163957595825, 0.5257543921470642, 0.5257543921470642, 0.7900473475456238, 0.26334911584854126, 0.9942708015441895], \"Term\": [\"always\", \"ball\", \"bieber\", \"consummate\", \"creativity\", \"designer\", \"detail\", \"donna\", \"experience\", \"expert\", \"extremely\", \"eye\", \"field\", \"find\", \"hardworking\", \"highly\", \"justin\", \"knowledgeable\", \"meticulous\", \"name\", \"name\", \"number\", \"organise\", \"pleasure\", \"pleasure\", \"professional\", \"professional\", \"real\", \"recommend\", \"recommendation\", \"recommendation\", \"summer\", \"time\", \"update\", \"update\", \"work\", \"work\", \"year\"]}, \"R\": 30, \"lambda.step\": 0.01, \"plot.opts\": {\"xlab\": \"PC1\", \"ylab\": \"PC2\"}, \"topic.order\": [20, 11, 2, 9, 3, 4, 5, 6, 7, 8, 10, 19, 12, 13, 14, 15, 16, 17, 18, 1]};\n",
       "\n",
       "function LDAvis_load_lib(url, callback){\n",
       "  var s = document.createElement('script');\n",
       "  s.src = url;\n",
       "  s.async = true;\n",
       "  s.onreadystatechange = s.onload = callback;\n",
       "  s.onerror = function(){console.warn(\"failed to load library \" + url);};\n",
       "  document.getElementsByTagName(\"head\")[0].appendChild(s);\n",
       "}\n",
       "\n",
       "if(typeof(LDAvis) !== \"undefined\"){\n",
       "   // already loaded: just create the visualization\n",
       "   !function(LDAvis){\n",
       "       new LDAvis(\"#\" + \"ldavis_el8741446839215924742361185\", ldavis_el8741446839215924742361185_data);\n",
       "   }(LDAvis);\n",
       "}else if(typeof define === \"function\" && define.amd){\n",
       "   // require.js is available: use it to load d3/LDAvis\n",
       "   require.config({paths: {d3: \"https://cdnjs.cloudflare.com/ajax/libs/d3/3.5.5/d3.min\"}});\n",
       "   require([\"d3\"], function(d3){\n",
       "      window.d3 = d3;\n",
       "      LDAvis_load_lib(\"https://cdn.rawgit.com/bmabey/pyLDAvis/files/ldavis.v1.0.0.js\", function(){\n",
       "        new LDAvis(\"#\" + \"ldavis_el8741446839215924742361185\", ldavis_el8741446839215924742361185_data);\n",
       "      });\n",
       "    });\n",
       "}else{\n",
       "    // require.js not available: dynamically load d3 & LDAvis\n",
       "    LDAvis_load_lib(\"https://cdnjs.cloudflare.com/ajax/libs/d3/3.5.5/d3.min.js\", function(){\n",
       "         LDAvis_load_lib(\"https://cdn.rawgit.com/bmabey/pyLDAvis/files/ldavis.v1.0.0.js\", function(){\n",
       "                 new LDAvis(\"#\" + \"ldavis_el8741446839215924742361185\", ldavis_el8741446839215924742361185_data);\n",
       "            })\n",
       "         });\n",
       "}\n",
       "</script>"
      ],
      "text/plain": [
       "PreparedData(topic_coordinates=            Freq  cluster  topics         x         y\n",
       "topic                                                \n",
       "19     76.184395        1       1 -0.036630  0.057112\n",
       "10     21.990152        1       2  0.091607 -0.185972\n",
       "1       0.131120        1       3 -0.003275  0.007557\n",
       "8       0.099666        1       4 -0.003043  0.007135\n",
       "2       0.099666        1       5 -0.003042  0.007135\n",
       "3       0.099666        1       6 -0.003041  0.007136\n",
       "4       0.099666        1       7 -0.003040  0.007136\n",
       "5       0.099666        1       8 -0.003043  0.007135\n",
       "6       0.099666        1       9 -0.003041  0.007136\n",
       "7       0.099666        1      10 -0.003042  0.007135\n",
       "9       0.099666        1      11 -0.003043  0.007135\n",
       "18      0.099666        1      12 -0.003041  0.007136\n",
       "11      0.099666        1      13 -0.003043  0.007135\n",
       "12      0.099666        1      14 -0.003040  0.007136\n",
       "13      0.099666        1      15 -0.003040  0.007136\n",
       "14      0.099666        1      16 -0.003039  0.007137\n",
       "15      0.099666        1      17 -0.003039  0.007137\n",
       "16      0.099666        1      18 -0.003040  0.007136\n",
       "17      0.099666        1      19 -0.003043  0.007135\n",
       "0       0.099666        1      20 -0.003043  0.007135, topic_info=     Category      Freq            Term     Total  loglift  logprob\n",
       "term                                                               \n",
       "5     Default  3.000000           donna  3.000000  30.0000  30.0000\n",
       "26    Default  3.000000            work  3.000000  29.0000  29.0000\n",
       "27    Default  2.000000            year  2.000000  28.0000  28.0000\n",
       "0     Default  2.000000          always  2.000000  27.0000  27.0000\n",
       "13    Default  2.000000          highly  2.000000  26.0000  26.0000\n",
       "21    Default  2.000000            real  2.000000  25.0000  25.0000\n",
       "25    Default  1.000000          update  1.000000  24.0000  24.0000\n",
       "23    Default  1.000000  recommendation  1.000000  23.0000  23.0000\n",
       "20    Default  1.000000    professional  1.000000  22.0000  22.0000\n",
       "19    Default  1.000000        pleasure  1.000000  21.0000  21.0000\n",
       "16    Default  1.000000            name  1.000000  20.0000  20.0000\n",
       "30    Default  1.000000          justin  1.000000  19.0000  19.0000\n",
       "11    Default  1.000000            find  1.000000  18.0000  18.0000\n",
       "12    Default  1.000000     hardworking  1.000000  17.0000  17.0000\n",
       "17    Default  1.000000          number  1.000000  16.0000  16.0000\n",
       "22    Default  1.000000       recommend  1.000000  15.0000  15.0000\n",
       "14    Default  1.000000   knowledgeable  1.000000  14.0000  14.0000\n",
       "4     Default  1.000000          detail  1.000000  13.0000  13.0000\n",
       "7     Default  1.000000          expert  1.000000  12.0000  12.0000\n",
       "24    Default  1.000000          summer  1.000000  11.0000  11.0000\n",
       "6     Default  1.000000      experience  1.000000  10.0000  10.0000\n",
       "1     Default  1.000000            ball  1.000000   9.0000   9.0000\n",
       "3     Default  1.000000        designer  1.000000   8.0000   8.0000\n",
       "10    Default  1.000000           field  1.000000   7.0000   7.0000\n",
       "9     Default  1.000000             eye  1.000000   6.0000   6.0000\n",
       "2     Default  1.000000      creativity  1.000000   5.0000   5.0000\n",
       "18    Default  1.000000        organise  1.000000   4.0000   4.0000\n",
       "15    Default  1.000000      meticulous  1.000000   3.0000   3.0000\n",
       "8     Default  1.000000       extremely  1.000000   2.0000   2.0000\n",
       "28    Default  0.000000          bieber  0.000000   1.0000   1.0000\n",
       "...       ...       ...             ...       ...      ...      ...\n",
       "28    Topic20  0.001495          bieber  0.954366   0.4522  -3.4657\n",
       "8     Topic20  0.001495       extremely  1.063185   0.3442  -3.4657\n",
       "15    Topic20  0.001495      meticulous  1.063824   0.3436  -3.4657\n",
       "18    Topic20  0.001495        organise  1.063841   0.3436  -3.4657\n",
       "2     Topic20  0.001495      creativity  1.063844   0.3436  -3.4657\n",
       "9     Topic20  0.001495             eye  1.063871   0.3436  -3.4657\n",
       "10    Topic20  0.001495           field  1.063876   0.3435  -3.4657\n",
       "3     Topic20  0.001495        designer  1.063912   0.3435  -3.4657\n",
       "1     Topic20  0.001495            ball  1.063931   0.3435  -3.4657\n",
       "6     Topic20  0.001495      experience  1.063956   0.3435  -3.4657\n",
       "24    Topic20  0.001495          summer  1.063962   0.3435  -3.4657\n",
       "7     Topic20  0.001495          expert  1.064005   0.3434  -3.4657\n",
       "4     Topic20  0.001495          detail  1.064049   0.3434  -3.4657\n",
       "14    Topic20  0.001495   knowledgeable  1.064113   0.3433  -3.4657\n",
       "22    Topic20  0.001495       recommend  1.064194   0.3432  -3.4657\n",
       "17    Topic20  0.001495          number  1.064329   0.3431  -3.4657\n",
       "12    Topic20  0.001495     hardworking  1.064428   0.3430  -3.4657\n",
       "11    Topic20  0.001495            find  1.064494   0.3430  -3.4657\n",
       "30    Topic20  0.001495          justin  1.792091  -0.1779  -3.4657\n",
       "16    Topic20  0.001495            name  1.901685  -0.2373  -3.4657\n",
       "19    Topic20  0.001495        pleasure  1.901780  -0.2373  -3.4657\n",
       "20    Topic20  0.001495    professional  1.902007  -0.2374  -3.4657\n",
       "23    Topic20  0.001495  recommendation  1.902012  -0.2374  -3.4657\n",
       "25    Topic20  0.001495          update  1.902029  -0.2375  -3.4657\n",
       "21    Topic20  0.001495            real  2.010968  -0.2932  -3.4657\n",
       "13    Topic20  0.001495          highly  2.011301  -0.2933  -3.4657\n",
       "0     Topic20  0.001495          always  2.011376  -0.2934  -3.4657\n",
       "27    Topic20  0.001495            year  2.011524  -0.2934  -3.4657\n",
       "5     Topic20  0.001495           donna  3.905074  -0.9568  -3.4657\n",
       "26    Topic20  0.001495            work  3.797241  -0.9288  -3.4657\n",
       "\n",
       "[668 rows x 6 columns], token_table=      Topic      Freq            Term\n",
       "term                                 \n",
       "0         1  0.994344          always\n",
       "1         1  0.939910            ball\n",
       "28        2  1.047816          bieber\n",
       "29        2  1.047816      consummate\n",
       "2         1  0.939988      creativity\n",
       "3         1  0.939927        designer\n",
       "4         1  0.939806          detail\n",
       "5         1  1.024308           donna\n",
       "6         1  0.939888      experience\n",
       "7         1  0.939846          expert\n",
       "8         1  0.940570       extremely\n",
       "9         1  0.939963             eye\n",
       "10        1  0.939959           field\n",
       "11        1  0.939414            find\n",
       "12        1  0.939472     hardworking\n",
       "13        1  0.994381          highly\n",
       "30        2  1.116014          justin\n",
       "14        1  0.939750   knowledgeable\n",
       "15        1  0.940005      meticulous\n",
       "16        1  0.525849            name\n",
       "16        2  0.525849            name\n",
       "17        1  0.939559          number\n",
       "18        1  0.939990        organise\n",
       "19        1  0.525823        pleasure\n",
       "19        2  0.525823        pleasure\n",
       "20        1  0.525760    professional\n",
       "20        2  0.525760    professional\n",
       "21        1  0.994546            real\n",
       "22        1  0.939678       recommend\n",
       "23        1  0.525759  recommendation\n",
       "23        2  0.525759  recommendation\n",
       "24        1  0.939883          summer\n",
       "31        2  1.047816            time\n",
       "25        1  0.525754          update\n",
       "25        2  0.525754          update\n",
       "26        1  0.790047            work\n",
       "26        2  0.263349            work\n",
       "27        1  0.994271            year, R=30, lambda_step=0.01, plot_opts={'xlab': 'PC1', 'ylab': 'PC2'}, topic_order=[20, 11, 2, 9, 3, 4, 5, 6, 7, 8, 10, 19, 12, 13, 14, 15, 16, 17, 18, 1])"
      ]
     },
     "execution_count": 36,
     "metadata": {},
     "output_type": "execute_result"
    }
   ],
   "source": [
    "vis"
   ]
  },
  {
   "cell_type": "code",
   "execution_count": 28,
   "metadata": {},
   "outputs": [
    {
     "name": "stderr",
     "output_type": "stream",
     "text": [
      "/Users/oliversteadman/anaconda3/lib/python3.6/site-packages/gensim/models/wrappers/ldamallet.py:373: RuntimeWarning: invalid value encountered in true_divide\n",
      "  return topics / topics.sum(axis=1)[:, None]\n"
     ]
    }
   ],
   "source": [
    "# Can take a long time to run.\n",
    "model_list, coherence_values = compute_coherence_values(\n",
    "    dictionary=id2word,\n",
    "    corpus=corpus,\n",
    "    texts=data_lemmatized,\n",
    "    start=2,\n",
    "    limit=40,\n",
    "    step=6,\n",
    ")"
   ]
  },
  {
   "cell_type": "code",
   "execution_count": 27,
   "metadata": {},
   "outputs": [],
   "source": [
    "def compute_coherence_values(dictionary, corpus, texts, limit, start=2, step=3):\n",
    "    \"\"\"\n",
    "    Compute c_v coherence for various number of topics\n",
    "\n",
    "    Parameters:\n",
    "    ----------\n",
    "    dictionary : Gensim dictionary\n",
    "    corpus : Gensim corpus\n",
    "    texts : List of input texts\n",
    "    limit : Max num of topics\n",
    "\n",
    "    Returns:\n",
    "    -------\n",
    "    model_list : List of LDA topic models\n",
    "    coherence_values : Coherence values corresponding to the LDA model with respective number of topics\n",
    "    \"\"\"\n",
    "    coherence_values = []\n",
    "    model_list = []\n",
    "    for num_topics in range(start, limit, step):\n",
    "        model = gensim.models.wrappers.LdaMallet(mallet_path, corpus=corpus, num_topics=num_topics, id2word=id2word)\n",
    "        model_list.append(model)\n",
    "        coherencemodel = CoherenceModel(model=model, texts=texts, dictionary=dictionary, coherence='c_v')\n",
    "        coherence_values.append(coherencemodel.get_coherence())\n",
    "\n",
    "    return model_list, coherence_values"
   ]
  },
  {
   "cell_type": "code",
   "execution_count": 26,
   "metadata": {},
   "outputs": [
    {
     "name": "stdout",
     "output_type": "stream",
     "text": [
      "['ball', 'consummate', 'creativity', 'designer', 'donna']\n"
     ]
    },
    {
     "data": {
      "text/html": [
       "<style  type=\"text/css\" >\n",
       "    #T_f2ddd4c0_7215_11e8_880c_f40f242023ecrow0_col0 {\n",
       "            text-align:  left;\n",
       "        }    #T_f2ddd4c0_7215_11e8_880c_f40f242023ecrow0_col1 {\n",
       "            text-align:  left;\n",
       "        }    #T_f2ddd4c0_7215_11e8_880c_f40f242023ecrow0_col2 {\n",
       "            text-align:  left;\n",
       "        }    #T_f2ddd4c0_7215_11e8_880c_f40f242023ecrow0_col3 {\n",
       "            text-align:  left;\n",
       "        }    #T_f2ddd4c0_7215_11e8_880c_f40f242023ecrow0_col4 {\n",
       "            text-align:  left;\n",
       "        }    #T_f2ddd4c0_7215_11e8_880c_f40f242023ecrow0_col5 {\n",
       "            text-align:  left;\n",
       "        }    #T_f2ddd4c0_7215_11e8_880c_f40f242023ecrow1_col0 {\n",
       "            text-align:  left;\n",
       "        }    #T_f2ddd4c0_7215_11e8_880c_f40f242023ecrow1_col1 {\n",
       "            text-align:  left;\n",
       "        }    #T_f2ddd4c0_7215_11e8_880c_f40f242023ecrow1_col2 {\n",
       "            text-align:  left;\n",
       "        }    #T_f2ddd4c0_7215_11e8_880c_f40f242023ecrow1_col3 {\n",
       "            text-align:  left;\n",
       "        }    #T_f2ddd4c0_7215_11e8_880c_f40f242023ecrow1_col4 {\n",
       "            text-align:  left;\n",
       "        }    #T_f2ddd4c0_7215_11e8_880c_f40f242023ecrow1_col5 {\n",
       "            text-align:  left;\n",
       "        }    #T_f2ddd4c0_7215_11e8_880c_f40f242023ecrow2_col0 {\n",
       "            text-align:  left;\n",
       "        }    #T_f2ddd4c0_7215_11e8_880c_f40f242023ecrow2_col1 {\n",
       "            text-align:  left;\n",
       "        }    #T_f2ddd4c0_7215_11e8_880c_f40f242023ecrow2_col2 {\n",
       "            text-align:  left;\n",
       "        }    #T_f2ddd4c0_7215_11e8_880c_f40f242023ecrow2_col3 {\n",
       "            text-align:  left;\n",
       "        }    #T_f2ddd4c0_7215_11e8_880c_f40f242023ecrow2_col4 {\n",
       "            text-align:  left;\n",
       "        }    #T_f2ddd4c0_7215_11e8_880c_f40f242023ecrow2_col5 {\n",
       "            text-align:  left;\n",
       "        }    #T_f2ddd4c0_7215_11e8_880c_f40f242023ecrow3_col0 {\n",
       "            text-align:  left;\n",
       "        }    #T_f2ddd4c0_7215_11e8_880c_f40f242023ecrow3_col1 {\n",
       "            text-align:  left;\n",
       "        }    #T_f2ddd4c0_7215_11e8_880c_f40f242023ecrow3_col2 {\n",
       "            text-align:  left;\n",
       "        }    #T_f2ddd4c0_7215_11e8_880c_f40f242023ecrow3_col3 {\n",
       "            text-align:  left;\n",
       "        }    #T_f2ddd4c0_7215_11e8_880c_f40f242023ecrow3_col4 {\n",
       "            text-align:  left;\n",
       "        }    #T_f2ddd4c0_7215_11e8_880c_f40f242023ecrow3_col5 {\n",
       "            text-align:  left;\n",
       "        }    #T_f2ddd4c0_7215_11e8_880c_f40f242023ecrow4_col0 {\n",
       "            text-align:  left;\n",
       "        }    #T_f2ddd4c0_7215_11e8_880c_f40f242023ecrow4_col1 {\n",
       "            text-align:  left;\n",
       "        }    #T_f2ddd4c0_7215_11e8_880c_f40f242023ecrow4_col2 {\n",
       "            text-align:  left;\n",
       "        }    #T_f2ddd4c0_7215_11e8_880c_f40f242023ecrow4_col3 {\n",
       "            text-align:  left;\n",
       "        }    #T_f2ddd4c0_7215_11e8_880c_f40f242023ecrow4_col4 {\n",
       "            text-align:  left;\n",
       "        }    #T_f2ddd4c0_7215_11e8_880c_f40f242023ecrow4_col5 {\n",
       "            text-align:  left;\n",
       "        }</style>  \n",
       "<table id=\"T_f2ddd4c0_7215_11e8_880c_f40f242023ec\" > \n",
       "<thead>    <tr> \n",
       "        <th class=\"blank level0\" ></th> \n",
       "        <th class=\"col_heading level0 col0\" >0</th> \n",
       "        <th class=\"col_heading level0 col1\" >1</th> \n",
       "        <th class=\"col_heading level0 col2\" >2</th> \n",
       "        <th class=\"col_heading level0 col3\" >3</th> \n",
       "        <th class=\"col_heading level0 col4\" >4</th> \n",
       "        <th class=\"col_heading level0 col5\" >5</th> \n",
       "    </tr></thead> \n",
       "<tbody>    <tr> \n",
       "        <th id=\"T_f2ddd4c0_7215_11e8_880c_f40f242023eclevel0_row0\" class=\"row_heading level0 row0\" >2</th> \n",
       "        <td id=\"T_f2ddd4c0_7215_11e8_880c_f40f242023ecrow0_col0\" class=\"data row0 col0\" >0.048*\"years\"</td> \n",
       "        <td id=\"T_f2ddd4c0_7215_11e8_880c_f40f242023ecrow0_col1\" class=\"data row0 col1\" >0.047*\"times\"</td> \n",
       "        <td id=\"T_f2ddd4c0_7215_11e8_880c_f40f242023ecrow0_col2\" class=\"data row0 col2\" >0.045*\"experienced\"</td> \n",
       "        <td id=\"T_f2ddd4c0_7215_11e8_880c_f40f242023ecrow0_col3\" class=\"data row0 col3\" >0.044*\"field\"</td> \n",
       "        <td id=\"T_f2ddd4c0_7215_11e8_880c_f40f242023ecrow0_col4\" class=\"data row0 col4\" >0.043*\"eye\"</td> \n",
       "        <td id=\"T_f2ddd4c0_7215_11e8_880c_f40f242023ecrow0_col5\" class=\"data row0 col5\" >0.042*\"number\"</td> \n",
       "    </tr>    <tr> \n",
       "        <th id=\"T_f2ddd4c0_7215_11e8_880c_f40f242023eclevel0_row1\" class=\"row_heading level0 row1\" >3</th> \n",
       "        <td id=\"T_f2ddd4c0_7215_11e8_880c_f40f242023ecrow1_col0\" class=\"data row1 col0\" >0.048*\"highly\"</td> \n",
       "        <td id=\"T_f2ddd4c0_7215_11e8_880c_f40f242023ecrow1_col1\" class=\"data row1 col1\" >0.047*\"justin\"</td> \n",
       "        <td id=\"T_f2ddd4c0_7215_11e8_880c_f40f242023ecrow1_col2\" class=\"data row1 col2\" >0.045*\"hardworking\"</td> \n",
       "        <td id=\"T_f2ddd4c0_7215_11e8_880c_f40f242023ecrow1_col3\" class=\"data row1 col3\" >0.044*\"donna\"</td> \n",
       "        <td id=\"T_f2ddd4c0_7215_11e8_880c_f40f242023ecrow1_col4\" class=\"data row1 col4\" >0.044*\"meticulous\"</td> \n",
       "        <td id=\"T_f2ddd4c0_7215_11e8_880c_f40f242023ecrow1_col5\" class=\"data row1 col5\" >0.043*\"work\"</td> \n",
       "    </tr>    <tr> \n",
       "        <th id=\"T_f2ddd4c0_7215_11e8_880c_f40f242023eclevel0_row2\" class=\"row_heading level0 row2\" >0</th> \n",
       "        <td id=\"T_f2ddd4c0_7215_11e8_880c_f40f242023ecrow2_col0\" class=\"data row2 col0\" >0.047*\"creativity\"</td> \n",
       "        <td id=\"T_f2ddd4c0_7215_11e8_880c_f40f242023ecrow2_col1\" class=\"data row2 col1\" >0.043*\"number\"</td> \n",
       "        <td id=\"T_f2ddd4c0_7215_11e8_880c_f40f242023ecrow2_col2\" class=\"data row2 col2\" >0.042*\"recommend\"</td> \n",
       "        <td id=\"T_f2ddd4c0_7215_11e8_880c_f40f242023ecrow2_col3\" class=\"data row2 col3\" >0.042*\"knowledgeable\"</td> \n",
       "        <td id=\"T_f2ddd4c0_7215_11e8_880c_f40f242023ecrow2_col4\" class=\"data row2 col4\" >0.042*\"ball\"</td> \n",
       "        <td id=\"T_f2ddd4c0_7215_11e8_880c_f40f242023ecrow2_col5\" class=\"data row2 col5\" >0.041*\"experienced\"</td> \n",
       "    </tr>    <tr> \n",
       "        <th id=\"T_f2ddd4c0_7215_11e8_880c_f40f242023eclevel0_row3\" class=\"row_heading level0 row3\" >4</th> \n",
       "        <td id=\"T_f2ddd4c0_7215_11e8_880c_f40f242023ecrow3_col0\" class=\"data row3 col0\" >0.045*\"years\"</td> \n",
       "        <td id=\"T_f2ddd4c0_7215_11e8_880c_f40f242023ecrow3_col1\" class=\"data row3 col1\" >0.043*\"real\"</td> \n",
       "        <td id=\"T_f2ddd4c0_7215_11e8_880c_f40f242023ecrow3_col2\" class=\"data row3 col2\" >0.043*\"worked\"</td> \n",
       "        <td id=\"T_f2ddd4c0_7215_11e8_880c_f40f242023ecrow3_col3\" class=\"data row3 col3\" >0.043*\"experienced\"</td> \n",
       "        <td id=\"T_f2ddd4c0_7215_11e8_880c_f40f242023ecrow3_col4\" class=\"data row3 col4\" >0.043*\"donna\"</td> \n",
       "        <td id=\"T_f2ddd4c0_7215_11e8_880c_f40f242023ecrow3_col5\" class=\"data row3 col5\" >0.043*\"highly\"</td> \n",
       "    </tr>    <tr> \n",
       "        <th id=\"T_f2ddd4c0_7215_11e8_880c_f40f242023eclevel0_row4\" class=\"row_heading level0 row4\" >1</th> \n",
       "        <td id=\"T_f2ddd4c0_7215_11e8_880c_f40f242023ecrow4_col0\" class=\"data row4 col0\" >0.044*\"work\"</td> \n",
       "        <td id=\"T_f2ddd4c0_7215_11e8_880c_f40f242023ecrow4_col1\" class=\"data row4 col1\" >0.044*\"creativity\"</td> \n",
       "        <td id=\"T_f2ddd4c0_7215_11e8_880c_f40f242023ecrow4_col2\" class=\"data row4 col2\" >0.044*\"meticulous\"</td> \n",
       "        <td id=\"T_f2ddd4c0_7215_11e8_880c_f40f242023ecrow4_col3\" class=\"data row4 col3\" >0.043*\"field\"</td> \n",
       "        <td id=\"T_f2ddd4c0_7215_11e8_880c_f40f242023ecrow4_col4\" class=\"data row4 col4\" >0.043*\"eye\"</td> \n",
       "        <td id=\"T_f2ddd4c0_7215_11e8_880c_f40f242023ecrow4_col5\" class=\"data row4 col5\" >0.043*\"real\"</td> \n",
       "    </tr></tbody> \n",
       "</table> "
      ],
      "text/plain": [
       "<pandas.io.formats.style.Styler at 0x123202518>"
      ]
     },
     "execution_count": 26,
     "metadata": {},
     "output_type": "execute_result"
    }
   ],
   "source": [
    "from sklearn.feature_extraction.text import CountVectorizer\n",
    "from sklearn.feature_extraction.text import ENGLISH_STOP_WORDS\n",
    "from gensim import models, matutils\n",
    "custom_stop_words = list(ENGLISH_STOP_WORDS)\n",
    "vectorizer = CountVectorizer(stop_words=custom_stop_words)\n",
    "\n",
    "Xt = vectorizer.fit_transform(df.recommendations.astype(str))\n",
    "print(vectorizer.get_feature_names()[:5])\n",
    "\n",
    "vocab = {v: k for k, v in vectorizer.vocabulary_.items()}\n",
    "\n",
    "lda = models.LdaModel(\n",
    "\n",
    "    # the number of topics we want:\n",
    "    num_topics=5,\n",
    "    \n",
    "    # how many passes over the vocabulary:\n",
    "    passes=20,\n",
    "    \n",
    "    # the id2word vocabulary we made ourselves\n",
    "    id2word=vocab\n",
    ")\n",
    "\n",
    "topics_list = lda.print_topics(num_topics=25, num_words=6)\n",
    "topics_dict = {'topic': [topic\n",
    "                         for (topic, terms) in topics_list],\n",
    "               'terms': [terms.split(' + ')\n",
    "                         for (topic, terms) in topics_list]}\n",
    "topics_df = pd.DataFrame(topics_dict['terms'],\n",
    "                         index=topics_dict['topic'])\n",
    "\n",
    "topics_df.sort_values(0, ascending=False).style.set_properties(**{'text-align': 'left'})"
   ]
  }
 ],
 "metadata": {
  "hide_input": false,
  "kernelspec": {
   "display_name": "Python 3",
   "language": "python",
   "name": "python3"
  },
  "language_info": {
   "codemirror_mode": {
    "name": "ipython",
    "version": 3
   },
   "file_extension": ".py",
   "mimetype": "text/x-python",
   "name": "python",
   "nbconvert_exporter": "python",
   "pygments_lexer": "ipython3",
   "version": "3.6.2"
  },
  "toc": {
   "nav_menu": {},
   "number_sections": true,
   "sideBar": true,
   "skip_h1_title": false,
   "title_cell": "Table of Contents",
   "title_sidebar": "Contents",
   "toc_cell": false,
   "toc_position": {},
   "toc_section_display": true,
   "toc_window_display": true
  }
 },
 "nbformat": 4,
 "nbformat_minor": 2
}
